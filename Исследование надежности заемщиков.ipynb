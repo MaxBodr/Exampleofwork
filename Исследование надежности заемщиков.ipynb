{
 "cells": [
  {
   "cell_type": "markdown",
   "id": "96c8a84c",
   "metadata": {
    "deletable": false,
    "editable": false,
    "id": "c81daeeb"
   },
   "source": [
    "# Исследование надежности заемщиков\n"
   ]
  },
  {
   "cell_type": "markdown",
   "id": "bc5faf37",
   "metadata": {},
   "source": [
    "\n",
    "# Цель проекта: Оценка факторов влияющих на выплату кредита для создания кредитного скоринга — специальной системы, которая оценивает способность потенциального заёмщика вернуть кредит банку.\n",
    "# Входные данные от банка — статистика о платёжеспособности клиентов\n",
    "<h1>Исследование надежности заемщиков<span class=\"tocSkip\"></span></h1>\n",
    "<div class=\"toc\"><ul class=\"toc-item\"><li><span><a href=\"#Откройте-таблицу-и-изучите-общую-информацию-о-данных\" data-toc-modified-id=\"Откройте-таблицу-и-изучите-общую-информацию-о-данных-1\"><span class=\"toc-item-num\">1&nbsp;&nbsp;</span>Откройте таблицу и изучите общую информацию о данных</a></span></li><li><span><a href=\"#Предобработка-данных\" data-toc-modified-id=\"Предобработка-данных-2\"><span class=\"toc-item-num\">2&nbsp;&nbsp;</span>Предобработка данных</a></span><ul class=\"toc-item\"><li><span><a href=\"#Удаление-пропусков\" data-toc-modified-id=\"Удаление-пропусков-2.1\"><span class=\"toc-item-num\">2.1&nbsp;&nbsp;</span>Удаление пропусков</a></span></li><li><span><a href=\"#Обработка-аномальных-значений\" data-toc-modified-id=\"Обработка-аномальных-значений-2.2\"><span class=\"toc-item-num\">2.2&nbsp;&nbsp;</span>Обработка аномальных значений</a></span></li><li><span><a href=\"#Удаление-пропусков-(продолжение)\" data-toc-modified-id=\"Удаление-пропусков-(продолжение)-2.3\"><span class=\"toc-item-num\">2.3&nbsp;&nbsp;</span>Удаление пропусков (продолжение)</a></span></li><li><span><a href=\"#Изменение-типов-данных\" data-toc-modified-id=\"Изменение-типов-данных-2.4\"><span class=\"toc-item-num\">2.4&nbsp;&nbsp;</span>Изменение типов данных</a></span></li><li><span><a href=\"#Обработка-дубликатов\" data-toc-modified-id=\"Обработка-дубликатов-2.5\"><span class=\"toc-item-num\">2.5&nbsp;&nbsp;</span>Обработка дубликатов</a></span></li><li><span><a href=\"#Категоризация-данных\" data-toc-modified-id=\"Категоризация-данных-2.6\"><span class=\"toc-item-num\">2.6&nbsp;&nbsp;</span>Категоризация данных</a></span></li><li><span><a href=\"#Шаг-3.-Исследуйте-данные-и-ответьте-на-вопросы\" data-toc-modified-id=\"Шаг-3.-Исследуйте-данные-и-ответьте-на-вопросы-2.7\"><span class=\"toc-item-num\">2.7&nbsp;&nbsp;</span>Шаг 3. Исследуйте данные и ответьте на вопросы</a></span><ul class=\"toc-item\"><li><span><a href=\"#3.1-Есть-ли-зависимость-между-количеством-детей-и-возвратом-кредита-в-срок?\" data-toc-modified-id=\"3.1-Есть-ли-зависимость-между-количеством-детей-и-возвратом-кредита-в-срок?-2.7.1\"><span class=\"toc-item-num\">2.7.1&nbsp;&nbsp;</span>3.1 Есть ли зависимость между количеством детей и возвратом кредита в срок?</a></span></li><li><span><a href=\"#3.2-Есть-ли-зависимость-между-семейным-положением-и-возвратом-кредита-в-срок?\" data-toc-modified-id=\"3.2-Есть-ли-зависимость-между-семейным-положением-и-возвратом-кредита-в-срок?-2.7.2\"><span class=\"toc-item-num\">2.7.2&nbsp;&nbsp;</span>3.2 Есть ли зависимость между семейным положением и возвратом кредита в срок?</a></span></li><li><span><a href=\"#3.3-Есть-ли-зависимость-между-уровнем-дохода-и-возвратом-кредита-в-срок?\" data-toc-modified-id=\"3.3-Есть-ли-зависимость-между-уровнем-дохода-и-возвратом-кредита-в-срок?-2.7.3\"><span class=\"toc-item-num\">2.7.3&nbsp;&nbsp;</span>3.3 Есть ли зависимость между уровнем дохода и возвратом кредита в срок?</a></span></li><li><span><a href=\"#3.4-Как-разные-цели-кредита-влияют-на-его-возврат-в-срок?\" data-toc-modified-id=\"3.4-Как-разные-цели-кредита-влияют-на-его-возврат-в-срок?-2.7.4\"><span class=\"toc-item-num\">2.7.4&nbsp;&nbsp;</span>3.4 Как разные цели кредита влияют на его возврат в срок?</a></span></li><li><span><a href=\"#3.5-Приведите-возможные-причины-появления-пропусков-в-исходных-данных.\" data-toc-modified-id=\"3.5-Приведите-возможные-причины-появления-пропусков-в-исходных-данных.-2.7.5\"><span class=\"toc-item-num\">2.7.5&nbsp;&nbsp;</span>3.5 Приведите возможные причины появления пропусков в исходных данных.</a></span></li><li><span><a href=\"#3.6-Объясните,-почему-заполнить-пропуски-медианным-значением-—-лучшее-решение-для-количественных-переменных.\" data-toc-modified-id=\"3.6-Объясните,-почему-заполнить-пропуски-медианным-значением-—-лучшее-решение-для-количественных-переменных.-2.7.6\"><span class=\"toc-item-num\">2.7.6&nbsp;&nbsp;</span>3.6 Объясните, почему заполнить пропуски медианным значением — лучшее решение для количественных переменных.</a></span></li></ul></li><li><span><a href=\"#Шаг-4:-общий-вывод.\" data-toc-modified-id=\"Шаг-4:-общий-вывод.-2.8\"><span class=\"toc-item-num\">2.8&nbsp;&nbsp;</span>Шаг 4: общий вывод.</a></span></li></ul></li></ul></div>"
   ]
  },
  {
   "attachments": {},
   "cell_type": "markdown",
   "id": "3a82ee45",
   "metadata": {
    "deletable": false,
    "editable": false,
    "id": "744d7639"
   },
   "source": [
    "## Откроем таблицу и изучим общую информацию о данных"
   ]
  },
  {
   "cell_type": "code",
   "execution_count": 40,
   "id": "db6ea710",
   "metadata": {
    "deletable": false,
    "id": "7bcf75c9"
   },
   "outputs": [],
   "source": [
    "import pandas as pd\n",
    "\n",
    "try:\n",
    "    data = pd.read_csv('/datasets/data.csv')\n",
    "except:\n",
    "    data = pd.read_csv('https://code.s3.yandex.net/datasets/data.csv')"
   ]
  },
  {
   "cell_type": "code",
   "execution_count": null,
   "id": "c65b659e",
   "metadata": {
    "deletable": false,
    "id": "2a7cab99",
    "outputId": "1a8f3ef2-d323-4ec2-ddf7-89670b5944c4"
   },
   "outputs": [
    {
     "data": {
      "text/html": [
       "<div>\n",
       "<style scoped>\n",
       "    .dataframe tbody tr th:only-of-type {\n",
       "        vertical-align: middle;\n",
       "    }\n",
       "\n",
       "    .dataframe tbody tr th {\n",
       "        vertical-align: top;\n",
       "    }\n",
       "\n",
       "    .dataframe thead th {\n",
       "        text-align: right;\n",
       "    }\n",
       "</style>\n",
       "<table border=\"1\" class=\"dataframe\">\n",
       "  <thead>\n",
       "    <tr style=\"text-align: right;\">\n",
       "      <th></th>\n",
       "      <th>children</th>\n",
       "      <th>days_employed</th>\n",
       "      <th>dob_years</th>\n",
       "      <th>education</th>\n",
       "      <th>education_id</th>\n",
       "      <th>family_status</th>\n",
       "      <th>family_status_id</th>\n",
       "      <th>gender</th>\n",
       "      <th>income_type</th>\n",
       "      <th>debt</th>\n",
       "      <th>total_income</th>\n",
       "      <th>purpose</th>\n",
       "      <th>total_income_category</th>\n",
       "      <th>purpose_category</th>\n",
       "    </tr>\n",
       "  </thead>\n",
       "  <tbody>\n",
       "    <tr>\n",
       "      <th>0</th>\n",
       "      <td>1</td>\n",
       "      <td>8437.673028</td>\n",
       "      <td>42</td>\n",
       "      <td>высшее</td>\n",
       "      <td>0</td>\n",
       "      <td>женат / замужем</td>\n",
       "      <td>0</td>\n",
       "      <td>F</td>\n",
       "      <td>сотрудник</td>\n",
       "      <td>0</td>\n",
       "      <td>253875</td>\n",
       "      <td>покупка жилья</td>\n",
       "      <td>B</td>\n",
       "      <td>операции с недвижимостью</td>\n",
       "    </tr>\n",
       "    <tr>\n",
       "      <th>1</th>\n",
       "      <td>1</td>\n",
       "      <td>4024.803754</td>\n",
       "      <td>36</td>\n",
       "      <td>среднее</td>\n",
       "      <td>1</td>\n",
       "      <td>женат / замужем</td>\n",
       "      <td>0</td>\n",
       "      <td>F</td>\n",
       "      <td>сотрудник</td>\n",
       "      <td>0</td>\n",
       "      <td>112080</td>\n",
       "      <td>приобретение автомобиля</td>\n",
       "      <td>C</td>\n",
       "      <td>операции с автомобилем</td>\n",
       "    </tr>\n",
       "    <tr>\n",
       "      <th>2</th>\n",
       "      <td>0</td>\n",
       "      <td>5623.422610</td>\n",
       "      <td>33</td>\n",
       "      <td>среднее</td>\n",
       "      <td>1</td>\n",
       "      <td>женат / замужем</td>\n",
       "      <td>0</td>\n",
       "      <td>M</td>\n",
       "      <td>сотрудник</td>\n",
       "      <td>0</td>\n",
       "      <td>145885</td>\n",
       "      <td>покупка жилья</td>\n",
       "      <td>C</td>\n",
       "      <td>операции с недвижимостью</td>\n",
       "    </tr>\n",
       "    <tr>\n",
       "      <th>3</th>\n",
       "      <td>3</td>\n",
       "      <td>4124.747207</td>\n",
       "      <td>32</td>\n",
       "      <td>среднее</td>\n",
       "      <td>1</td>\n",
       "      <td>женат / замужем</td>\n",
       "      <td>0</td>\n",
       "      <td>M</td>\n",
       "      <td>сотрудник</td>\n",
       "      <td>0</td>\n",
       "      <td>267628</td>\n",
       "      <td>дополнительное образование</td>\n",
       "      <td>B</td>\n",
       "      <td>получение образования</td>\n",
       "    </tr>\n",
       "    <tr>\n",
       "      <th>4</th>\n",
       "      <td>0</td>\n",
       "      <td>340266.072047</td>\n",
       "      <td>53</td>\n",
       "      <td>среднее</td>\n",
       "      <td>1</td>\n",
       "      <td>гражданский брак</td>\n",
       "      <td>1</td>\n",
       "      <td>F</td>\n",
       "      <td>пенсионер</td>\n",
       "      <td>0</td>\n",
       "      <td>158616</td>\n",
       "      <td>сыграть свадьбу</td>\n",
       "      <td>C</td>\n",
       "      <td>проведение свадьбы</td>\n",
       "    </tr>\n",
       "    <tr>\n",
       "      <th>5</th>\n",
       "      <td>0</td>\n",
       "      <td>926.185831</td>\n",
       "      <td>27</td>\n",
       "      <td>высшее</td>\n",
       "      <td>0</td>\n",
       "      <td>гражданский брак</td>\n",
       "      <td>1</td>\n",
       "      <td>M</td>\n",
       "      <td>компаньон</td>\n",
       "      <td>0</td>\n",
       "      <td>255763</td>\n",
       "      <td>покупка жилья</td>\n",
       "      <td>B</td>\n",
       "      <td>операции с недвижимостью</td>\n",
       "    </tr>\n",
       "    <tr>\n",
       "      <th>6</th>\n",
       "      <td>0</td>\n",
       "      <td>2879.202052</td>\n",
       "      <td>43</td>\n",
       "      <td>высшее</td>\n",
       "      <td>0</td>\n",
       "      <td>женат / замужем</td>\n",
       "      <td>0</td>\n",
       "      <td>F</td>\n",
       "      <td>компаньон</td>\n",
       "      <td>0</td>\n",
       "      <td>240525</td>\n",
       "      <td>операции с жильем</td>\n",
       "      <td>B</td>\n",
       "      <td>операции с недвижимостью</td>\n",
       "    </tr>\n",
       "    <tr>\n",
       "      <th>7</th>\n",
       "      <td>0</td>\n",
       "      <td>152.779569</td>\n",
       "      <td>50</td>\n",
       "      <td>среднее</td>\n",
       "      <td>1</td>\n",
       "      <td>женат / замужем</td>\n",
       "      <td>0</td>\n",
       "      <td>M</td>\n",
       "      <td>сотрудник</td>\n",
       "      <td>0</td>\n",
       "      <td>135823</td>\n",
       "      <td>образование</td>\n",
       "      <td>C</td>\n",
       "      <td>получение образования</td>\n",
       "    </tr>\n",
       "    <tr>\n",
       "      <th>8</th>\n",
       "      <td>2</td>\n",
       "      <td>6929.865299</td>\n",
       "      <td>35</td>\n",
       "      <td>высшее</td>\n",
       "      <td>0</td>\n",
       "      <td>гражданский брак</td>\n",
       "      <td>1</td>\n",
       "      <td>F</td>\n",
       "      <td>сотрудник</td>\n",
       "      <td>0</td>\n",
       "      <td>95856</td>\n",
       "      <td>на проведение свадьбы</td>\n",
       "      <td>C</td>\n",
       "      <td>проведение свадьбы</td>\n",
       "    </tr>\n",
       "    <tr>\n",
       "      <th>9</th>\n",
       "      <td>0</td>\n",
       "      <td>2188.756445</td>\n",
       "      <td>41</td>\n",
       "      <td>среднее</td>\n",
       "      <td>1</td>\n",
       "      <td>женат / замужем</td>\n",
       "      <td>0</td>\n",
       "      <td>M</td>\n",
       "      <td>сотрудник</td>\n",
       "      <td>0</td>\n",
       "      <td>144425</td>\n",
       "      <td>покупка жилья для семьи</td>\n",
       "      <td>C</td>\n",
       "      <td>операции с недвижимостью</td>\n",
       "    </tr>\n",
       "    <tr>\n",
       "      <th>10</th>\n",
       "      <td>2</td>\n",
       "      <td>4171.483647</td>\n",
       "      <td>36</td>\n",
       "      <td>высшее</td>\n",
       "      <td>0</td>\n",
       "      <td>женат / замужем</td>\n",
       "      <td>0</td>\n",
       "      <td>M</td>\n",
       "      <td>компаньон</td>\n",
       "      <td>0</td>\n",
       "      <td>113943</td>\n",
       "      <td>покупка недвижимости</td>\n",
       "      <td>C</td>\n",
       "      <td>операции с недвижимостью</td>\n",
       "    </tr>\n",
       "    <tr>\n",
       "      <th>11</th>\n",
       "      <td>0</td>\n",
       "      <td>792.701887</td>\n",
       "      <td>40</td>\n",
       "      <td>среднее</td>\n",
       "      <td>1</td>\n",
       "      <td>женат / замужем</td>\n",
       "      <td>0</td>\n",
       "      <td>F</td>\n",
       "      <td>сотрудник</td>\n",
       "      <td>0</td>\n",
       "      <td>77069</td>\n",
       "      <td>покупка коммерческой недвижимости</td>\n",
       "      <td>C</td>\n",
       "      <td>операции с недвижимостью</td>\n",
       "    </tr>\n",
       "    <tr>\n",
       "      <th>12</th>\n",
       "      <td>0</td>\n",
       "      <td>365286.622650</td>\n",
       "      <td>65</td>\n",
       "      <td>среднее</td>\n",
       "      <td>1</td>\n",
       "      <td>гражданский брак</td>\n",
       "      <td>1</td>\n",
       "      <td>M</td>\n",
       "      <td>пенсионер</td>\n",
       "      <td>0</td>\n",
       "      <td>118514</td>\n",
       "      <td>сыграть свадьбу</td>\n",
       "      <td>C</td>\n",
       "      <td>проведение свадьбы</td>\n",
       "    </tr>\n",
       "    <tr>\n",
       "      <th>13</th>\n",
       "      <td>0</td>\n",
       "      <td>1846.641941</td>\n",
       "      <td>54</td>\n",
       "      <td>неоконченное высшее</td>\n",
       "      <td>2</td>\n",
       "      <td>женат / замужем</td>\n",
       "      <td>0</td>\n",
       "      <td>F</td>\n",
       "      <td>сотрудник</td>\n",
       "      <td>0</td>\n",
       "      <td>130458</td>\n",
       "      <td>приобретение автомобиля</td>\n",
       "      <td>C</td>\n",
       "      <td>операции с автомобилем</td>\n",
       "    </tr>\n",
       "    <tr>\n",
       "      <th>14</th>\n",
       "      <td>0</td>\n",
       "      <td>1844.956182</td>\n",
       "      <td>56</td>\n",
       "      <td>высшее</td>\n",
       "      <td>0</td>\n",
       "      <td>гражданский брак</td>\n",
       "      <td>1</td>\n",
       "      <td>F</td>\n",
       "      <td>компаньон</td>\n",
       "      <td>1</td>\n",
       "      <td>165127</td>\n",
       "      <td>покупка жилой недвижимости</td>\n",
       "      <td>C</td>\n",
       "      <td>операции с недвижимостью</td>\n",
       "    </tr>\n",
       "    <tr>\n",
       "      <th>15</th>\n",
       "      <td>1</td>\n",
       "      <td>972.364419</td>\n",
       "      <td>26</td>\n",
       "      <td>среднее</td>\n",
       "      <td>1</td>\n",
       "      <td>женат / замужем</td>\n",
       "      <td>0</td>\n",
       "      <td>F</td>\n",
       "      <td>сотрудник</td>\n",
       "      <td>0</td>\n",
       "      <td>116820</td>\n",
       "      <td>строительство собственной недвижимости</td>\n",
       "      <td>C</td>\n",
       "      <td>операции с недвижимостью</td>\n",
       "    </tr>\n",
       "    <tr>\n",
       "      <th>16</th>\n",
       "      <td>0</td>\n",
       "      <td>1719.934226</td>\n",
       "      <td>35</td>\n",
       "      <td>среднее</td>\n",
       "      <td>1</td>\n",
       "      <td>женат / замужем</td>\n",
       "      <td>0</td>\n",
       "      <td>F</td>\n",
       "      <td>сотрудник</td>\n",
       "      <td>0</td>\n",
       "      <td>289202</td>\n",
       "      <td>недвижимость</td>\n",
       "      <td>B</td>\n",
       "      <td>операции с недвижимостью</td>\n",
       "    </tr>\n",
       "    <tr>\n",
       "      <th>17</th>\n",
       "      <td>0</td>\n",
       "      <td>2369.999720</td>\n",
       "      <td>33</td>\n",
       "      <td>высшее</td>\n",
       "      <td>0</td>\n",
       "      <td>гражданский брак</td>\n",
       "      <td>1</td>\n",
       "      <td>M</td>\n",
       "      <td>сотрудник</td>\n",
       "      <td>0</td>\n",
       "      <td>90410</td>\n",
       "      <td>строительство недвижимости</td>\n",
       "      <td>C</td>\n",
       "      <td>операции с недвижимостью</td>\n",
       "    </tr>\n",
       "    <tr>\n",
       "      <th>18</th>\n",
       "      <td>0</td>\n",
       "      <td>400281.136913</td>\n",
       "      <td>53</td>\n",
       "      <td>среднее</td>\n",
       "      <td>1</td>\n",
       "      <td>вдовец / вдова</td>\n",
       "      <td>2</td>\n",
       "      <td>F</td>\n",
       "      <td>пенсионер</td>\n",
       "      <td>0</td>\n",
       "      <td>56823</td>\n",
       "      <td>на покупку подержанного автомобиля</td>\n",
       "      <td>C</td>\n",
       "      <td>операции с автомобилем</td>\n",
       "    </tr>\n",
       "    <tr>\n",
       "      <th>19</th>\n",
       "      <td>0</td>\n",
       "      <td>10038.818549</td>\n",
       "      <td>48</td>\n",
       "      <td>среднее</td>\n",
       "      <td>1</td>\n",
       "      <td>в разводе</td>\n",
       "      <td>3</td>\n",
       "      <td>F</td>\n",
       "      <td>сотрудник</td>\n",
       "      <td>0</td>\n",
       "      <td>242831</td>\n",
       "      <td>на покупку своего автомобиля</td>\n",
       "      <td>B</td>\n",
       "      <td>операции с автомобилем</td>\n",
       "    </tr>\n",
       "  </tbody>\n",
       "</table>\n",
       "</div>"
      ],
      "text/plain": [
       "    children  days_employed  dob_years            education  education_id  \\\n",
       "0          1    8437.673028         42               высшее             0   \n",
       "1          1    4024.803754         36              среднее             1   \n",
       "2          0    5623.422610         33              среднее             1   \n",
       "3          3    4124.747207         32              среднее             1   \n",
       "4          0  340266.072047         53              среднее             1   \n",
       "5          0     926.185831         27               высшее             0   \n",
       "6          0    2879.202052         43               высшее             0   \n",
       "7          0     152.779569         50              среднее             1   \n",
       "8          2    6929.865299         35               высшее             0   \n",
       "9          0    2188.756445         41              среднее             1   \n",
       "10         2    4171.483647         36               высшее             0   \n",
       "11         0     792.701887         40              среднее             1   \n",
       "12         0  365286.622650         65              среднее             1   \n",
       "13         0    1846.641941         54  неоконченное высшее             2   \n",
       "14         0    1844.956182         56               высшее             0   \n",
       "15         1     972.364419         26              среднее             1   \n",
       "16         0    1719.934226         35              среднее             1   \n",
       "17         0    2369.999720         33               высшее             0   \n",
       "18         0  400281.136913         53              среднее             1   \n",
       "19         0   10038.818549         48              среднее             1   \n",
       "\n",
       "       family_status  family_status_id gender income_type  debt  total_income  \\\n",
       "0    женат / замужем                 0      F   сотрудник     0        253875   \n",
       "1    женат / замужем                 0      F   сотрудник     0        112080   \n",
       "2    женат / замужем                 0      M   сотрудник     0        145885   \n",
       "3    женат / замужем                 0      M   сотрудник     0        267628   \n",
       "4   гражданский брак                 1      F   пенсионер     0        158616   \n",
       "5   гражданский брак                 1      M   компаньон     0        255763   \n",
       "6    женат / замужем                 0      F   компаньон     0        240525   \n",
       "7    женат / замужем                 0      M   сотрудник     0        135823   \n",
       "8   гражданский брак                 1      F   сотрудник     0         95856   \n",
       "9    женат / замужем                 0      M   сотрудник     0        144425   \n",
       "10   женат / замужем                 0      M   компаньон     0        113943   \n",
       "11   женат / замужем                 0      F   сотрудник     0         77069   \n",
       "12  гражданский брак                 1      M   пенсионер     0        118514   \n",
       "13   женат / замужем                 0      F   сотрудник     0        130458   \n",
       "14  гражданский брак                 1      F   компаньон     1        165127   \n",
       "15   женат / замужем                 0      F   сотрудник     0        116820   \n",
       "16   женат / замужем                 0      F   сотрудник     0        289202   \n",
       "17  гражданский брак                 1      M   сотрудник     0         90410   \n",
       "18    вдовец / вдова                 2      F   пенсионер     0         56823   \n",
       "19         в разводе                 3      F   сотрудник     0        242831   \n",
       "\n",
       "                                   purpose total_income_category  \\\n",
       "0                            покупка жилья                     B   \n",
       "1                  приобретение автомобиля                     C   \n",
       "2                            покупка жилья                     C   \n",
       "3               дополнительное образование                     B   \n",
       "4                          сыграть свадьбу                     C   \n",
       "5                            покупка жилья                     B   \n",
       "6                        операции с жильем                     B   \n",
       "7                              образование                     C   \n",
       "8                    на проведение свадьбы                     C   \n",
       "9                  покупка жилья для семьи                     C   \n",
       "10                    покупка недвижимости                     C   \n",
       "11       покупка коммерческой недвижимости                     C   \n",
       "12                         сыграть свадьбу                     C   \n",
       "13                 приобретение автомобиля                     C   \n",
       "14              покупка жилой недвижимости                     C   \n",
       "15  строительство собственной недвижимости                     C   \n",
       "16                            недвижимость                     B   \n",
       "17              строительство недвижимости                     C   \n",
       "18      на покупку подержанного автомобиля                     C   \n",
       "19            на покупку своего автомобиля                     B   \n",
       "\n",
       "            purpose_category  \n",
       "0   операции с недвижимостью  \n",
       "1     операции с автомобилем  \n",
       "2   операции с недвижимостью  \n",
       "3      получение образования  \n",
       "4         проведение свадьбы  \n",
       "5   операции с недвижимостью  \n",
       "6   операции с недвижимостью  \n",
       "7      получение образования  \n",
       "8         проведение свадьбы  \n",
       "9   операции с недвижимостью  \n",
       "10  операции с недвижимостью  \n",
       "11  операции с недвижимостью  \n",
       "12        проведение свадьбы  \n",
       "13    операции с автомобилем  \n",
       "14  операции с недвижимостью  \n",
       "15  операции с недвижимостью  \n",
       "16  операции с недвижимостью  \n",
       "17  операции с недвижимостью  \n",
       "18    операции с автомобилем  \n",
       "19    операции с автомобилем  "
      ]
     },
     "execution_count": 38,
     "metadata": {},
     "output_type": "execute_result"
    }
   ],
   "source": [
    "data.head(20)"
   ]
  },
  {
   "cell_type": "code",
   "execution_count": 41,
   "id": "f7f514aa",
   "metadata": {
    "deletable": false,
    "id": "2b757bca",
    "outputId": "15376089-8dad-46c9-b520-c05248d43158"
   },
   "outputs": [
    {
     "name": "stdout",
     "output_type": "stream",
     "text": [
      "<class 'pandas.core.frame.DataFrame'>\n",
      "RangeIndex: 21525 entries, 0 to 21524\n",
      "Data columns (total 12 columns):\n",
      " #   Column            Non-Null Count  Dtype  \n",
      "---  ------            --------------  -----  \n",
      " 0   children          21525 non-null  int64  \n",
      " 1   days_employed     19351 non-null  float64\n",
      " 2   dob_years         21525 non-null  int64  \n",
      " 3   education         21525 non-null  object \n",
      " 4   education_id      21525 non-null  int64  \n",
      " 5   family_status     21525 non-null  object \n",
      " 6   family_status_id  21525 non-null  int64  \n",
      " 7   gender            21525 non-null  object \n",
      " 8   income_type       21525 non-null  object \n",
      " 9   debt              21525 non-null  int64  \n",
      " 10  total_income      19351 non-null  float64\n",
      " 11  purpose           21525 non-null  object \n",
      "dtypes: float64(2), int64(5), object(5)\n",
      "memory usage: 2.0+ MB\n"
     ]
    }
   ],
   "source": [
    "data.info()"
   ]
  },
  {
   "cell_type": "markdown",
   "id": "260450d9",
   "metadata": {
    "deletable": false,
    "editable": false,
    "id": "333ec665"
   },
   "source": [
    "## Предобработка данных"
   ]
  },
  {
   "cell_type": "markdown",
   "id": "d91d1379",
   "metadata": {
    "deletable": false,
    "editable": false,
    "id": "02d92d53"
   },
   "source": [
    "### Удаление пропусков"
   ]
  },
  {
   "cell_type": "code",
   "execution_count": 42,
   "id": "fe229937",
   "metadata": {
    "deletable": false,
    "id": "7f9b2309",
    "outputId": "81f4d817-781c-465c-ed15-91ce4446810d"
   },
   "outputs": [
    {
     "data": {
      "text/plain": [
       "children               0\n",
       "days_employed       2174\n",
       "dob_years              0\n",
       "education              0\n",
       "education_id           0\n",
       "family_status          0\n",
       "family_status_id       0\n",
       "gender                 0\n",
       "income_type            0\n",
       "debt                   0\n",
       "total_income        2174\n",
       "purpose                0\n",
       "dtype: int64"
      ]
     },
     "execution_count": 42,
     "metadata": {},
     "output_type": "execute_result"
    }
   ],
   "source": [
    "data.isna().sum()"
   ]
  },
  {
   "cell_type": "code",
   "execution_count": 43,
   "id": "d6da35b4",
   "metadata": {},
   "outputs": [
    {
     "data": {
      "text/html": [
       "<div>\n",
       "<style scoped>\n",
       "    .dataframe tbody tr th:only-of-type {\n",
       "        vertical-align: middle;\n",
       "    }\n",
       "\n",
       "    .dataframe tbody tr th {\n",
       "        vertical-align: top;\n",
       "    }\n",
       "\n",
       "    .dataframe thead th {\n",
       "        text-align: right;\n",
       "    }\n",
       "</style>\n",
       "<table border=\"1\" class=\"dataframe\">\n",
       "  <thead>\n",
       "    <tr style=\"text-align: right;\">\n",
       "      <th></th>\n",
       "      <th>children</th>\n",
       "      <th>days_employed</th>\n",
       "      <th>dob_years</th>\n",
       "      <th>education</th>\n",
       "      <th>education_id</th>\n",
       "      <th>family_status</th>\n",
       "      <th>family_status_id</th>\n",
       "      <th>gender</th>\n",
       "      <th>income_type</th>\n",
       "      <th>debt</th>\n",
       "      <th>total_income</th>\n",
       "      <th>purpose</th>\n",
       "    </tr>\n",
       "  </thead>\n",
       "  <tbody>\n",
       "    <tr>\n",
       "      <th>12</th>\n",
       "      <td>0</td>\n",
       "      <td>NaN</td>\n",
       "      <td>65</td>\n",
       "      <td>среднее</td>\n",
       "      <td>1</td>\n",
       "      <td>гражданский брак</td>\n",
       "      <td>1</td>\n",
       "      <td>M</td>\n",
       "      <td>пенсионер</td>\n",
       "      <td>0</td>\n",
       "      <td>NaN</td>\n",
       "      <td>сыграть свадьбу</td>\n",
       "    </tr>\n",
       "    <tr>\n",
       "      <th>26</th>\n",
       "      <td>0</td>\n",
       "      <td>NaN</td>\n",
       "      <td>41</td>\n",
       "      <td>среднее</td>\n",
       "      <td>1</td>\n",
       "      <td>женат / замужем</td>\n",
       "      <td>0</td>\n",
       "      <td>M</td>\n",
       "      <td>госслужащий</td>\n",
       "      <td>0</td>\n",
       "      <td>NaN</td>\n",
       "      <td>образование</td>\n",
       "    </tr>\n",
       "    <tr>\n",
       "      <th>29</th>\n",
       "      <td>0</td>\n",
       "      <td>NaN</td>\n",
       "      <td>63</td>\n",
       "      <td>среднее</td>\n",
       "      <td>1</td>\n",
       "      <td>Не женат / не замужем</td>\n",
       "      <td>4</td>\n",
       "      <td>F</td>\n",
       "      <td>пенсионер</td>\n",
       "      <td>0</td>\n",
       "      <td>NaN</td>\n",
       "      <td>строительство жилой недвижимости</td>\n",
       "    </tr>\n",
       "    <tr>\n",
       "      <th>41</th>\n",
       "      <td>0</td>\n",
       "      <td>NaN</td>\n",
       "      <td>50</td>\n",
       "      <td>среднее</td>\n",
       "      <td>1</td>\n",
       "      <td>женат / замужем</td>\n",
       "      <td>0</td>\n",
       "      <td>F</td>\n",
       "      <td>госслужащий</td>\n",
       "      <td>0</td>\n",
       "      <td>NaN</td>\n",
       "      <td>сделка с подержанным автомобилем</td>\n",
       "    </tr>\n",
       "    <tr>\n",
       "      <th>55</th>\n",
       "      <td>0</td>\n",
       "      <td>NaN</td>\n",
       "      <td>54</td>\n",
       "      <td>среднее</td>\n",
       "      <td>1</td>\n",
       "      <td>гражданский брак</td>\n",
       "      <td>1</td>\n",
       "      <td>F</td>\n",
       "      <td>пенсионер</td>\n",
       "      <td>1</td>\n",
       "      <td>NaN</td>\n",
       "      <td>сыграть свадьбу</td>\n",
       "    </tr>\n",
       "    <tr>\n",
       "      <th>...</th>\n",
       "      <td>...</td>\n",
       "      <td>...</td>\n",
       "      <td>...</td>\n",
       "      <td>...</td>\n",
       "      <td>...</td>\n",
       "      <td>...</td>\n",
       "      <td>...</td>\n",
       "      <td>...</td>\n",
       "      <td>...</td>\n",
       "      <td>...</td>\n",
       "      <td>...</td>\n",
       "      <td>...</td>\n",
       "    </tr>\n",
       "    <tr>\n",
       "      <th>21489</th>\n",
       "      <td>2</td>\n",
       "      <td>NaN</td>\n",
       "      <td>47</td>\n",
       "      <td>Среднее</td>\n",
       "      <td>1</td>\n",
       "      <td>женат / замужем</td>\n",
       "      <td>0</td>\n",
       "      <td>M</td>\n",
       "      <td>компаньон</td>\n",
       "      <td>0</td>\n",
       "      <td>NaN</td>\n",
       "      <td>сделка с автомобилем</td>\n",
       "    </tr>\n",
       "    <tr>\n",
       "      <th>21495</th>\n",
       "      <td>1</td>\n",
       "      <td>NaN</td>\n",
       "      <td>50</td>\n",
       "      <td>среднее</td>\n",
       "      <td>1</td>\n",
       "      <td>гражданский брак</td>\n",
       "      <td>1</td>\n",
       "      <td>F</td>\n",
       "      <td>сотрудник</td>\n",
       "      <td>0</td>\n",
       "      <td>NaN</td>\n",
       "      <td>свадьба</td>\n",
       "    </tr>\n",
       "    <tr>\n",
       "      <th>21497</th>\n",
       "      <td>0</td>\n",
       "      <td>NaN</td>\n",
       "      <td>48</td>\n",
       "      <td>ВЫСШЕЕ</td>\n",
       "      <td>0</td>\n",
       "      <td>женат / замужем</td>\n",
       "      <td>0</td>\n",
       "      <td>F</td>\n",
       "      <td>компаньон</td>\n",
       "      <td>0</td>\n",
       "      <td>NaN</td>\n",
       "      <td>строительство недвижимости</td>\n",
       "    </tr>\n",
       "    <tr>\n",
       "      <th>21502</th>\n",
       "      <td>1</td>\n",
       "      <td>NaN</td>\n",
       "      <td>42</td>\n",
       "      <td>среднее</td>\n",
       "      <td>1</td>\n",
       "      <td>женат / замужем</td>\n",
       "      <td>0</td>\n",
       "      <td>F</td>\n",
       "      <td>сотрудник</td>\n",
       "      <td>0</td>\n",
       "      <td>NaN</td>\n",
       "      <td>строительство жилой недвижимости</td>\n",
       "    </tr>\n",
       "    <tr>\n",
       "      <th>21510</th>\n",
       "      <td>2</td>\n",
       "      <td>NaN</td>\n",
       "      <td>28</td>\n",
       "      <td>среднее</td>\n",
       "      <td>1</td>\n",
       "      <td>женат / замужем</td>\n",
       "      <td>0</td>\n",
       "      <td>F</td>\n",
       "      <td>сотрудник</td>\n",
       "      <td>0</td>\n",
       "      <td>NaN</td>\n",
       "      <td>приобретение автомобиля</td>\n",
       "    </tr>\n",
       "  </tbody>\n",
       "</table>\n",
       "<p>2174 rows × 12 columns</p>\n",
       "</div>"
      ],
      "text/plain": [
       "       children  days_employed  dob_years education  education_id  \\\n",
       "12            0            NaN         65   среднее             1   \n",
       "26            0            NaN         41   среднее             1   \n",
       "29            0            NaN         63   среднее             1   \n",
       "41            0            NaN         50   среднее             1   \n",
       "55            0            NaN         54   среднее             1   \n",
       "...         ...            ...        ...       ...           ...   \n",
       "21489         2            NaN         47   Среднее             1   \n",
       "21495         1            NaN         50   среднее             1   \n",
       "21497         0            NaN         48    ВЫСШЕЕ             0   \n",
       "21502         1            NaN         42   среднее             1   \n",
       "21510         2            NaN         28   среднее             1   \n",
       "\n",
       "               family_status  family_status_id gender  income_type  debt  \\\n",
       "12          гражданский брак                 1      M    пенсионер     0   \n",
       "26           женат / замужем                 0      M  госслужащий     0   \n",
       "29     Не женат / не замужем                 4      F    пенсионер     0   \n",
       "41           женат / замужем                 0      F  госслужащий     0   \n",
       "55          гражданский брак                 1      F    пенсионер     1   \n",
       "...                      ...               ...    ...          ...   ...   \n",
       "21489        женат / замужем                 0      M    компаньон     0   \n",
       "21495       гражданский брак                 1      F    сотрудник     0   \n",
       "21497        женат / замужем                 0      F    компаньон     0   \n",
       "21502        женат / замужем                 0      F    сотрудник     0   \n",
       "21510        женат / замужем                 0      F    сотрудник     0   \n",
       "\n",
       "       total_income                           purpose  \n",
       "12              NaN                   сыграть свадьбу  \n",
       "26              NaN                       образование  \n",
       "29              NaN  строительство жилой недвижимости  \n",
       "41              NaN  сделка с подержанным автомобилем  \n",
       "55              NaN                   сыграть свадьбу  \n",
       "...             ...                               ...  \n",
       "21489           NaN              сделка с автомобилем  \n",
       "21495           NaN                           свадьба  \n",
       "21497           NaN        строительство недвижимости  \n",
       "21502           NaN  строительство жилой недвижимости  \n",
       "21510           NaN           приобретение автомобиля  \n",
       "\n",
       "[2174 rows x 12 columns]"
      ]
     },
     "execution_count": 43,
     "metadata": {},
     "output_type": "execute_result"
    }
   ],
   "source": [
    "data.loc[(data['days_employed'].isna() & data['total_income'].isna())]"
   ]
  },
  {
   "attachments": {},
   "cell_type": "markdown",
   "id": "b855397e",
   "metadata": {
    "deletable": false,
    "editable": false,
    "id": "db86e27b"
   },
   "source": [
    "**В двух столбцах есть пропущенные значения. Один из них — `days_employed`. Другой столбец с пропущенными значениями — `total_income` — хранит данные о доходах. На сумму дохода сильнее всего влияет тип занятости, поэтому заполнить пропуски в этом столбце заполним медианным значением по каждому типу из столбца `income_type`.**"
   ]
  },
  {
   "cell_type": "code",
   "execution_count": 44,
   "id": "05e00753",
   "metadata": {
    "deletable": false,
    "id": "42006a93"
   },
   "outputs": [],
   "source": [
    "for t in data['income_type'].unique():\n",
    "    data.loc[(data['income_type'] == t) & (data['total_income'].isna()), 'total_income'] = \\\n",
    "    data.loc[(data['income_type'] == t), 'total_income'].median()"
   ]
  },
  {
   "cell_type": "markdown",
   "id": "598d60e2",
   "metadata": {
    "deletable": false,
    "editable": false,
    "id": "89da5ece"
   },
   "source": [
    "### Обработка аномальных значений"
   ]
  },
  {
   "cell_type": "code",
   "execution_count": 7,
   "id": "793dce6e",
   "metadata": {
    "deletable": false,
    "id": "f6f055bf"
   },
   "outputs": [],
   "source": [
    "data['days_employed'] = data['days_employed'].abs()"
   ]
  },
  {
   "cell_type": "code",
   "execution_count": 8,
   "id": "76490640",
   "metadata": {
    "deletable": false,
    "id": "85a5faf6",
    "outputId": "801ef80e-522b-4668-f34e-565af7432bcf"
   },
   "outputs": [
    {
     "data": {
      "text/plain": [
       "income_type\n",
       "безработный        366413.652744\n",
       "в декрете            3296.759962\n",
       "госслужащий          2689.368353\n",
       "компаньон            1547.382223\n",
       "пенсионер          365213.306266\n",
       "предприниматель       520.848083\n",
       "сотрудник            1574.202821\n",
       "студент               578.751554\n",
       "Name: days_employed, dtype: float64"
      ]
     },
     "execution_count": 8,
     "metadata": {},
     "output_type": "execute_result"
    }
   ],
   "source": [
    "data.groupby('income_type')['days_employed'].agg('median')\n"
   ]
  },
  {
   "attachments": {},
   "cell_type": "markdown",
   "id": "17b95d87",
   "metadata": {
    "deletable": false,
    "editable": false,
    "id": "38d1a030"
   },
   "source": [
    "У двух типов (безработные и пенсионеры) получатся аномально большие значения. Исправить такие значения сложно, поэтому оставим их как есть."
   ]
  },
  {
   "cell_type": "code",
   "execution_count": 9,
   "id": "07f64879",
   "metadata": {
    "deletable": false,
    "id": "ef5056eb",
    "outputId": "6975b15c-7f95-4697-d16d-a0c79b657b03"
   },
   "outputs": [
    {
     "data": {
      "text/plain": [
       "array([ 1,  0,  3,  2, -1,  4, 20,  5])"
      ]
     },
     "execution_count": 9,
     "metadata": {},
     "output_type": "execute_result"
    }
   ],
   "source": [
    "data['children'].unique()"
   ]
  },
  {
   "attachments": {},
   "cell_type": "markdown",
   "id": "7744d6a4",
   "metadata": {
    "deletable": false,
    "editable": false,
    "id": "40b9ebf2"
   },
   "source": [
    "**В столбце `children` есть два аномальных значения. Удалим такие строки из датафрейма `data`.**"
   ]
  },
  {
   "cell_type": "code",
   "execution_count": 10,
   "id": "91354e9c",
   "metadata": {
    "deletable": false,
    "id": "3ff9801d"
   },
   "outputs": [],
   "source": [
    "data = data[(data['children'] != -1) & (data['children'] != 20)]"
   ]
  },
  {
   "attachments": {},
   "cell_type": "markdown",
   "id": "88ae1822",
   "metadata": {},
   "source": [
    "**Убедимся, что аномалии удалены**"
   ]
  },
  {
   "cell_type": "code",
   "execution_count": 11,
   "id": "f8b8d7df",
   "metadata": {
    "deletable": false,
    "id": "ad4fa8b7",
    "outputId": "b2097101-d49d-44d9-901b-32a65c9463d1"
   },
   "outputs": [
    {
     "data": {
      "text/plain": [
       "array([1, 0, 3, 2, 4, 5])"
      ]
     },
     "execution_count": 11,
     "metadata": {},
     "output_type": "execute_result"
    }
   ],
   "source": [
    "\n",
    "data['children'].unique()"
   ]
  },
  {
   "cell_type": "markdown",
   "id": "58b75d7f",
   "metadata": {
    "deletable": false,
    "editable": false,
    "id": "75440b63"
   },
   "source": [
    "### Удаление пропусков (продолжение)"
   ]
  },
  {
   "attachments": {},
   "cell_type": "markdown",
   "id": "eb203172",
   "metadata": {
    "deletable": false,
    "editable": false,
    "id": "f4ea573f"
   },
   "source": [
    "**Заполним пропуски в столбце `days_employed` медианными значениями по каждого типа занятости `income_type`.**"
   ]
  },
  {
   "cell_type": "code",
   "execution_count": 12,
   "id": "ef57e61b",
   "metadata": {
    "deletable": false,
    "id": "af6b1a7e"
   },
   "outputs": [],
   "source": [
    "for t in data['income_type'].unique():\n",
    "    data.loc[(data['income_type'] == t) & (data['days_employed'].isna()), 'days_employed'] = \\\n",
    "    data.loc[(data['income_type'] == t), 'days_employed'].median()"
   ]
  },
  {
   "attachments": {},
   "cell_type": "markdown",
   "id": "f46a42c0",
   "metadata": {
    "deletable": false,
    "editable": false,
    "id": "2753f40d"
   },
   "source": [
    "**Проверим пропуски**"
   ]
  },
  {
   "cell_type": "code",
   "execution_count": 13,
   "id": "1f765779",
   "metadata": {
    "deletable": false,
    "id": "55f78bc2",
    "outputId": "8da1e4e1-358e-4e87-98c9-f261bce0a7b2"
   },
   "outputs": [
    {
     "data": {
      "text/plain": [
       "children            0\n",
       "days_employed       0\n",
       "dob_years           0\n",
       "education           0\n",
       "education_id        0\n",
       "family_status       0\n",
       "family_status_id    0\n",
       "gender              0\n",
       "income_type         0\n",
       "debt                0\n",
       "total_income        0\n",
       "purpose             0\n",
       "dtype: int64"
      ]
     },
     "execution_count": 13,
     "metadata": {},
     "output_type": "execute_result"
    }
   ],
   "source": [
    "data.isna().sum()"
   ]
  },
  {
   "cell_type": "markdown",
   "id": "818a4a0d",
   "metadata": {
    "deletable": false,
    "editable": false,
    "id": "ddc81e43"
   },
   "source": [
    "### Изменение типов данных"
   ]
  },
  {
   "attachments": {},
   "cell_type": "markdown",
   "id": "04a64264",
   "metadata": {
    "deletable": false,
    "editable": false,
    "id": "42d19d24"
   },
   "source": [
    "**Заменим вещественный тип данных в столбце `total_income` на целочисленный с помощью метода `astype()`.**"
   ]
  },
  {
   "cell_type": "code",
   "execution_count": 14,
   "id": "0f8efdbd",
   "metadata": {
    "deletable": false,
    "id": "920b65ad"
   },
   "outputs": [],
   "source": [
    "data['total_income'] = data['total_income'].astype(int)"
   ]
  },
  {
   "cell_type": "markdown",
   "id": "f9273c4a",
   "metadata": {
    "deletable": false,
    "editable": false,
    "id": "80c420ba"
   },
   "source": [
    "### Обработка дубликатов"
   ]
  },
  {
   "attachments": {},
   "cell_type": "markdown",
   "id": "e076443c",
   "metadata": {
    "deletable": false,
    "editable": false
   },
   "source": [
    "**Найдем неявные дубликаты в столбце 'education'**"
   ]
  },
  {
   "cell_type": "code",
   "execution_count": 15,
   "id": "5f6a8bca",
   "metadata": {
    "deletable": false
   },
   "outputs": [],
   "source": [
    "data['education'] = data['education'].str.lower()"
   ]
  },
  {
   "attachments": {},
   "cell_type": "markdown",
   "id": "2ee93498",
   "metadata": {
    "deletable": false,
    "editable": false,
    "id": "dc587695"
   },
   "source": [
    "**Посмотрим кол-во дубликатов и удалим их**"
   ]
  },
  {
   "cell_type": "code",
   "execution_count": 16,
   "id": "b9104c3d",
   "metadata": {
    "deletable": false,
    "id": "3ee445e4",
    "outputId": "9684deba-1934-42d1-99e1-cda61740f822"
   },
   "outputs": [
    {
     "data": {
      "text/plain": [
       "71"
      ]
     },
     "execution_count": 16,
     "metadata": {},
     "output_type": "execute_result"
    }
   ],
   "source": [
    "data.duplicated().sum()"
   ]
  },
  {
   "cell_type": "code",
   "execution_count": 17,
   "id": "015b912d",
   "metadata": {
    "deletable": false,
    "id": "8575fe05"
   },
   "outputs": [],
   "source": [
    "data = data.drop_duplicates()"
   ]
  },
  {
   "cell_type": "markdown",
   "id": "bc7e2151",
   "metadata": {
    "deletable": false,
    "editable": false,
    "id": "9904cf55"
   },
   "source": [
    "### Категоризация данных"
   ]
  },
  {
   "attachments": {},
   "cell_type": "markdown",
   "id": "a987e5d5",
   "metadata": {
    "deletable": false,
    "editable": false,
    "id": "72fcc8a2"
   },
   "source": [
    "**На основании диапазонов, указанных ниже, создаим в датафрейме `data` столбец `total_income_category` с категориями:**\n",
    "\n",
    "- 0–30000 — `'E'`;\n",
    "- 30001–50000 — `'D'`;\n",
    "- 50001–200000 — `'C'`;\n",
    "- 200001–1000000 — `'B'`;\n",
    "- 1000001 и выше — `'A'`.\n"
   ]
  },
  {
   "cell_type": "code",
   "execution_count": 18,
   "id": "4edf8bc7",
   "metadata": {
    "deletable": false,
    "id": "e1771346"
   },
   "outputs": [],
   "source": [
    "def categorize_income(income):\n",
    "    try:\n",
    "        if 0 <= income <= 30000:\n",
    "            return 'E'\n",
    "        elif 30001 <= income <= 50000:\n",
    "            return 'D'\n",
    "        elif 50001 <= income <= 200000:\n",
    "            return 'C'\n",
    "        elif 200001 <= income <= 1000000:\n",
    "            return 'B'\n",
    "        elif income >= 1000001:\n",
    "            return 'A'\n",
    "    except:\n",
    "        pass"
   ]
  },
  {
   "cell_type": "code",
   "execution_count": 19,
   "id": "95033f73",
   "metadata": {
    "deletable": false,
    "id": "d5f3586d"
   },
   "outputs": [],
   "source": [
    "data['total_income_category'] = data['total_income'].apply(categorize_income)"
   ]
  },
  {
   "attachments": {},
   "cell_type": "markdown",
   "id": "d91568ee",
   "metadata": {
    "deletable": false,
    "editable": false,
    "id": "dde49b5c"
   },
   "source": [
    "**Посмотрим перечень уникальных целей взятия кредита из столбца `purpose`.**"
   ]
  },
  {
   "cell_type": "code",
   "execution_count": 20,
   "id": "d4a0909b",
   "metadata": {
    "deletable": false,
    "id": "f67ce9b3",
    "outputId": "673c12d9-7d7e-4ae0-9812-c622c89dd244"
   },
   "outputs": [
    {
     "data": {
      "text/plain": [
       "array(['покупка жилья', 'приобретение автомобиля',\n",
       "       'дополнительное образование', 'сыграть свадьбу',\n",
       "       'операции с жильем', 'образование', 'на проведение свадьбы',\n",
       "       'покупка жилья для семьи', 'покупка недвижимости',\n",
       "       'покупка коммерческой недвижимости', 'покупка жилой недвижимости',\n",
       "       'строительство собственной недвижимости', 'недвижимость',\n",
       "       'строительство недвижимости', 'на покупку подержанного автомобиля',\n",
       "       'на покупку своего автомобиля',\n",
       "       'операции с коммерческой недвижимостью',\n",
       "       'строительство жилой недвижимости', 'жилье',\n",
       "       'операции со своей недвижимостью', 'автомобили',\n",
       "       'заняться образованием', 'сделка с подержанным автомобилем',\n",
       "       'получение образования', 'автомобиль', 'свадьба',\n",
       "       'получение дополнительного образования', 'покупка своего жилья',\n",
       "       'операции с недвижимостью', 'получение высшего образования',\n",
       "       'свой автомобиль', 'сделка с автомобилем',\n",
       "       'профильное образование', 'высшее образование',\n",
       "       'покупка жилья для сдачи', 'на покупку автомобиля', 'ремонт жилью',\n",
       "       'заняться высшим образованием'], dtype=object)"
      ]
     },
     "execution_count": 20,
     "metadata": {},
     "output_type": "execute_result"
    }
   ],
   "source": [
    "data['purpose'].unique()"
   ]
  },
  {
   "attachments": {},
   "cell_type": "markdown",
   "id": "308ac744",
   "metadata": {
    "deletable": false,
    "editable": false,
    "id": "85d0aef0"
   },
   "source": [
    "**Уберем неявные дубликаты и сформируем несколько групп**"
   ]
  },
  {
   "cell_type": "code",
   "execution_count": 21,
   "id": "1abff235",
   "metadata": {
    "deletable": false,
    "id": "e149fab4"
   },
   "outputs": [],
   "source": [
    "def categorize_purpose(row):\n",
    "    try:\n",
    "        if 'автом' in row:\n",
    "            return 'операции с автомобилем'\n",
    "        elif 'жил' in row or 'недвиж' in row:\n",
    "            return 'операции с недвижимостью'\n",
    "        elif 'свад' in row:\n",
    "            return 'проведение свадьбы'\n",
    "        elif 'образов' in row:\n",
    "            return 'получение образования'\n",
    "    except:\n",
    "        return 'нет категории'"
   ]
  },
  {
   "cell_type": "code",
   "execution_count": 22,
   "id": "7f7e95a9",
   "metadata": {
    "deletable": false,
    "id": "bf36e69b"
   },
   "outputs": [],
   "source": [
    "data['purpose_category'] = data['purpose'].apply(categorize_purpose) "
   ]
  },
  {
   "attachments": {},
   "cell_type": "markdown",
   "id": "90797e26",
   "metadata": {
    "deletable": false,
    "editable": false,
    "id": "09b242bf"
   },
   "source": [
    "### Шаг 3. Исследуем данные и сделаем выводы"
   ]
  },
  {
   "cell_type": "markdown",
   "id": "ccc6684f",
   "metadata": {
    "deletable": false,
    "editable": false,
    "id": "c5d66278"
   },
   "source": [
    "#### 3.1 Есть ли зависимость между количеством детей и возвратом кредита в срок?"
   ]
  },
  {
   "cell_type": "code",
   "execution_count": 23,
   "id": "3ad406a8",
   "metadata": {
    "deletable": false,
    "id": "2cacfc4a"
   },
   "outputs": [
    {
     "data": {
      "text/html": [
       "<div>\n",
       "<style scoped>\n",
       "    .dataframe tbody tr th:only-of-type {\n",
       "        vertical-align: middle;\n",
       "    }\n",
       "\n",
       "    .dataframe tbody tr th {\n",
       "        vertical-align: top;\n",
       "    }\n",
       "\n",
       "    .dataframe thead th {\n",
       "        text-align: right;\n",
       "    }\n",
       "</style>\n",
       "<table border=\"1\" class=\"dataframe\">\n",
       "  <thead>\n",
       "    <tr style=\"text-align: right;\">\n",
       "      <th></th>\n",
       "      <th>children</th>\n",
       "      <th>count</th>\n",
       "      <th>mean</th>\n",
       "    </tr>\n",
       "  </thead>\n",
       "  <tbody>\n",
       "    <tr>\n",
       "      <th>4</th>\n",
       "      <td>4</td>\n",
       "      <td>41.0</td>\n",
       "      <td>9.756098</td>\n",
       "    </tr>\n",
       "    <tr>\n",
       "      <th>2</th>\n",
       "      <td>2</td>\n",
       "      <td>2052.0</td>\n",
       "      <td>9.454191</td>\n",
       "    </tr>\n",
       "    <tr>\n",
       "      <th>1</th>\n",
       "      <td>1</td>\n",
       "      <td>4808.0</td>\n",
       "      <td>9.234609</td>\n",
       "    </tr>\n",
       "    <tr>\n",
       "      <th>3</th>\n",
       "      <td>3</td>\n",
       "      <td>330.0</td>\n",
       "      <td>8.181818</td>\n",
       "    </tr>\n",
       "    <tr>\n",
       "      <th>0</th>\n",
       "      <td>0</td>\n",
       "      <td>14091.0</td>\n",
       "      <td>7.543822</td>\n",
       "    </tr>\n",
       "    <tr>\n",
       "      <th>5</th>\n",
       "      <td>5</td>\n",
       "      <td>9.0</td>\n",
       "      <td>0.000000</td>\n",
       "    </tr>\n",
       "  </tbody>\n",
       "</table>\n",
       "</div>"
      ],
      "text/plain": [
       "   children    count      mean\n",
       "4         4     41.0  9.756098\n",
       "2         2   2052.0  9.454191\n",
       "1         1   4808.0  9.234609\n",
       "3         3    330.0  8.181818\n",
       "0         0  14091.0  7.543822\n",
       "5         5      9.0  0.000000"
      ]
     },
     "execution_count": 23,
     "metadata": {},
     "output_type": "execute_result"
    }
   ],
   "source": [
    "#Создадим таблицу в которой будет показана зависимость 'mean' от кол-ва детей\n",
    "pivot_children = data.pivot_table(index='children',values='debt',aggfunc={'mean','count'}).reset_index()\n",
    "\n",
    "pivot_children['mean'] *= 100 #Приведем данные к процентам\n",
    "\n",
    "pivot_children.sort_values(by='mean',ascending=False) #Сортируем таблицу по возрастанию"
   ]
  },
  {
   "cell_type": "code",
   "execution_count": 24,
   "id": "00979695",
   "metadata": {},
   "outputs": [
    {
     "data": {
      "text/plain": [
       "[9.156678940239289,\n",
       " 9.156678940239289,\n",
       " 9.156678940239289,\n",
       " 9.156678940239289,\n",
       " 9.156678940239289,\n",
       " 9.156678940239289]"
      ]
     },
     "execution_count": 24,
     "metadata": {},
     "output_type": "execute_result"
    }
   ],
   "source": [
    "#Нашли среднее значение возврата людей с детьми\n",
    "average_mean_children = [pivot_children['mean'].loc[(pivot_children['children']>=1)\\\n",
    "                                                    & (pivot_children['children']<5)].mean()]*len(pivot_children)\n",
    "\n",
    "#Нашли среднее значение возврата людей без детей\n",
    "average_no_child = [pivot_children.loc[0,'mean']]*len(pivot_children) \n",
    "average_mean_children\n"
   ]
  },
  {
   "cell_type": "code",
   "execution_count": 25,
   "id": "4a9849ca",
   "metadata": {},
   "outputs": [
    {
     "data": {
      "image/png": "[encoded data removed]",
      "text/plain": [
       "<Figure size 432x288 with 1 Axes>"
      ]
     },
     "metadata": {
      "needs_background": "light"
     },
     "output_type": "display_data"
    }
   ],
   "source": [
    "#Построим график\n",
    "plot_mean = pd.DataFrame({'Зависимость возврата от кол-ва детей': pivot_children['mean'],\\\n",
    "                          'Среднее кол-во возврата с детьми':average_mean_children,\\\n",
    "                          'Среднее кол-во возврата без детей':average_no_child})\n",
    "\n",
    "plot_mean.plot(ylabel='Вероятность возварата кредита, %',\\\n",
    "               title='Зависимость между количеством детей и возвратом кредита');"
   ]
  },
  {
   "cell_type": "markdown",
   "id": "1353037e",
   "metadata": {},
   "source": [
    "**Вывод:** Только люди с 5 детьми не задерживают выплаты, но так как таких людей очень мало (9 человек), то нельзя на основе этого делать четкие выводы. Количество детей влияет на выплату кредитов: на графике видно, что в среднем люди с детьми `среднее кол-во возврата с детьми` чаще задерживают выплаты чем люди без детей `среднее кол-во возврата без детей`."
   ]
  },
  {
   "cell_type": "markdown",
   "id": "ba4e2a00",
   "metadata": {
    "deletable": false,
    "editable": false,
    "id": "97be82ca"
   },
   "source": [
    "#### 3.2 Есть ли зависимость между семейным положением и возвратом кредита в срок?"
   ]
  },
  {
   "cell_type": "code",
   "execution_count": 26,
   "id": "44c62a1e",
   "metadata": {
    "deletable": false,
    "id": "dc3f7ee8"
   },
   "outputs": [
    {
     "data": {
      "text/html": [
       "<div>\n",
       "<style scoped>\n",
       "    .dataframe tbody tr th:only-of-type {\n",
       "        vertical-align: middle;\n",
       "    }\n",
       "\n",
       "    .dataframe tbody tr th {\n",
       "        vertical-align: top;\n",
       "    }\n",
       "\n",
       "    .dataframe thead th {\n",
       "        text-align: right;\n",
       "    }\n",
       "</style>\n",
       "<table border=\"1\" class=\"dataframe\">\n",
       "  <thead>\n",
       "    <tr style=\"text-align: right;\">\n",
       "      <th></th>\n",
       "      <th>family_status</th>\n",
       "      <th>count</th>\n",
       "      <th>Зависимость возврата от cемейного положения</th>\n",
       "    </tr>\n",
       "  </thead>\n",
       "  <tbody>\n",
       "    <tr>\n",
       "      <th>0</th>\n",
       "      <td>Не женат / не замужем</td>\n",
       "      <td>2796.0</td>\n",
       "      <td>9.763948</td>\n",
       "    </tr>\n",
       "    <tr>\n",
       "      <th>3</th>\n",
       "      <td>гражданский брак</td>\n",
       "      <td>4134.0</td>\n",
       "      <td>9.313014</td>\n",
       "    </tr>\n",
       "    <tr>\n",
       "      <th>4</th>\n",
       "      <td>женат / замужем</td>\n",
       "      <td>12261.0</td>\n",
       "      <td>7.560558</td>\n",
       "    </tr>\n",
       "    <tr>\n",
       "      <th>1</th>\n",
       "      <td>в разводе</td>\n",
       "      <td>1189.0</td>\n",
       "      <td>7.064760</td>\n",
       "    </tr>\n",
       "    <tr>\n",
       "      <th>2</th>\n",
       "      <td>вдовец / вдова</td>\n",
       "      <td>951.0</td>\n",
       "      <td>6.624606</td>\n",
       "    </tr>\n",
       "  </tbody>\n",
       "</table>\n",
       "</div>"
      ],
      "text/plain": [
       "           family_status    count  Зависимость возврата от cемейного положения\n",
       "0  Не женат / не замужем   2796.0                                     9.763948\n",
       "3       гражданский брак   4134.0                                     9.313014\n",
       "4        женат / замужем  12261.0                                     7.560558\n",
       "1              в разводе   1189.0                                     7.064760\n",
       "2         вдовец / вдова    951.0                                     6.624606"
      ]
     },
     "execution_count": 26,
     "metadata": {},
     "output_type": "execute_result"
    }
   ],
   "source": [
    "#Создадим таблицу в которой будет показана зависимость 'mean' от семейного положения\n",
    "pivot_family_status = data.pivot_table(index='family_status',values='debt',aggfunc={'mean','count'}).reset_index()\n",
    "\n",
    "pivot_family_status['mean'] *= 100 #Приведем данные к процентам\n",
    "\n",
    "#Заменим название столбца\n",
    "pivot_family_status.rename(columns = {'mean':'Зависимость возврата от cемейного положения'}, inplace = True )\n",
    "\n",
    "pivot_family_status.sort_values(by='Зависимость возврата от cемейного положения',ascending=False) #Сортируем таблицу по возрастанию"
   ]
  },
  {
   "cell_type": "code",
   "execution_count": 27,
   "id": "ce2e2d21",
   "metadata": {},
   "outputs": [
    {
     "data": {
      "image/png": "[encoded data removed]",
      "text/plain": [
       "<Figure size 432x288 with 1 Axes>"
      ]
     },
     "metadata": {
      "needs_background": "light"
     },
     "output_type": "display_data"
    }
   ],
   "source": [
    "pivot_family_status.plot(kind='bar',x='family_status',y='Зависимость возврата от cемейного положения', rot=90,\\\n",
    "                        title='Зависимость между семейным положением и возвратом кредита',\\\n",
    "                        ylabel='Задолженность по возврату кредитов, %');"
   ]
  },
  {
   "cell_type": "markdown",
   "id": "d1c6b952",
   "metadata": {
    "deletable": false,
    "id": "1cef7837"
   },
   "source": [
    "**Вывод:** С графика можно увидеть, что лучше всего выплачивают кредит люди: *В разводе*, *Вдовец/вдова*, *Женатые и замужем*.\n",
    "А вот *не женатые/замужем* и в *гражданском браке* выплачивают кредит не очень хорошо"
   ]
  },
  {
   "cell_type": "markdown",
   "id": "cf5f85be",
   "metadata": {
    "deletable": false,
    "editable": false,
    "id": "1e8b2fca"
   },
   "source": [
    "#### 3.3 Есть ли зависимость между уровнем дохода и возвратом кредита в срок?"
   ]
  },
  {
   "cell_type": "code",
   "execution_count": 28,
   "id": "3e9ae843",
   "metadata": {
    "deletable": false,
    "id": "cd7e3720"
   },
   "outputs": [
    {
     "data": {
      "text/html": [
       "<div>\n",
       "<style scoped>\n",
       "    .dataframe tbody tr th:only-of-type {\n",
       "        vertical-align: middle;\n",
       "    }\n",
       "\n",
       "    .dataframe tbody tr th {\n",
       "        vertical-align: top;\n",
       "    }\n",
       "\n",
       "    .dataframe thead th {\n",
       "        text-align: right;\n",
       "    }\n",
       "</style>\n",
       "<table border=\"1\" class=\"dataframe\">\n",
       "  <thead>\n",
       "    <tr style=\"text-align: right;\">\n",
       "      <th></th>\n",
       "      <th>total_income_category</th>\n",
       "      <th>count</th>\n",
       "      <th>Зависимость возврата от дохода</th>\n",
       "    </tr>\n",
       "  </thead>\n",
       "  <tbody>\n",
       "    <tr>\n",
       "      <th>4</th>\n",
       "      <td>E</td>\n",
       "      <td>22.0</td>\n",
       "      <td>9.090909</td>\n",
       "    </tr>\n",
       "    <tr>\n",
       "      <th>2</th>\n",
       "      <td>C</td>\n",
       "      <td>15921.0</td>\n",
       "      <td>8.498210</td>\n",
       "    </tr>\n",
       "    <tr>\n",
       "      <th>0</th>\n",
       "      <td>A</td>\n",
       "      <td>25.0</td>\n",
       "      <td>8.000000</td>\n",
       "    </tr>\n",
       "    <tr>\n",
       "      <th>1</th>\n",
       "      <td>B</td>\n",
       "      <td>5014.0</td>\n",
       "      <td>7.060231</td>\n",
       "    </tr>\n",
       "    <tr>\n",
       "      <th>3</th>\n",
       "      <td>D</td>\n",
       "      <td>349.0</td>\n",
       "      <td>6.017192</td>\n",
       "    </tr>\n",
       "  </tbody>\n",
       "</table>\n",
       "</div>"
      ],
      "text/plain": [
       "  total_income_category    count  Зависимость возврата от дохода\n",
       "4                     E     22.0                        9.090909\n",
       "2                     C  15921.0                        8.498210\n",
       "0                     A     25.0                        8.000000\n",
       "1                     B   5014.0                        7.060231\n",
       "3                     D    349.0                        6.017192"
      ]
     },
     "execution_count": 28,
     "metadata": {},
     "output_type": "execute_result"
    }
   ],
   "source": [
    "#Создадим таблицу в которой будет показана зависимость 'mean' от дохода\n",
    "pivot_income = data.pivot_table(index='total_income_category',values='debt',aggfunc={'mean','count'}).reset_index()\n",
    "\n",
    "pivot_income['mean'] *= 100 #Приведем данные к процентам\n",
    "\n",
    "#Заменим название столбца\n",
    "pivot_income.rename(columns = {'mean':'Зависимость возврата от дохода'}, inplace = True )\n",
    "\n",
    "pivot_income.sort_values(by='Зависимость возврата от дохода',ascending=False) #Сортируем таблицу по возрастанию"
   ]
  },
  {
   "cell_type": "code",
   "execution_count": 29,
   "id": "b73de354",
   "metadata": {},
   "outputs": [],
   "source": [
    "#Разделим таблицу на две по количеству людей\n",
    "income_big = pivot_income[pivot_income['count']>=1000]\n",
    "income_min = pivot_income[pivot_income['count']<1000]\n"
   ]
  },
  {
   "cell_type": "code",
   "execution_count": 30,
   "id": "3256946d",
   "metadata": {},
   "outputs": [
    {
     "data": {
      "image/png": "[encoded data removed]",
      "text/plain": [
       "<Figure size 432x288 with 1 Axes>"
      ]
     },
     "metadata": {
      "needs_background": "light"
     },
     "output_type": "display_data"
    },
    {
     "data": {
      "image/png": "[encoded data removed]",
      "text/plain": [
       "<Figure size 432x288 with 1 Axes>"
      ]
     },
     "metadata": {
      "needs_background": "light"
     },
     "output_type": "display_data"
    }
   ],
   "source": [
    "income_big.plot(kind='bar',x='total_income_category',y='Зависимость возврата от дохода',rot=0,\\\n",
    "                        title='Зависимость между уровнем дохода и возвратом кредита',\\\n",
    "                        ylabel='Задолженность по возврату кредитов, %');\n",
    "income_min.plot(kind='bar',x='total_income_category',y='Зависимость возврата от дохода',rot=0,\\\n",
    "                        title='Зависимость между уровнем дохода и возвратом кредита',\\\n",
    "                        ylabel='Задолженность по возврату кредитов, %');"
   ]
  },
  {
   "cell_type": "markdown",
   "id": "7b6a6a29",
   "metadata": {
    "deletable": false,
    "id": "e8593def"
   },
   "source": [
    "**Вывод:** Сравнивая две категории, можно понять, что люди с категории С выплачивают кредит лучше, чем люди C.\n",
    "А вот люди с очень высоким доходом и с очень низким выплачивают хуже, чем люди со средними доходами"
   ]
  },
  {
   "cell_type": "markdown",
   "id": "3331a167",
   "metadata": {
    "deletable": false,
    "editable": false,
    "id": "99ecbd1f"
   },
   "source": [
    "#### 3.4 Как разные цели кредита влияют на его возврат в срок?"
   ]
  },
  {
   "cell_type": "code",
   "execution_count": 31,
   "id": "840d921a",
   "metadata": {
    "deletable": false,
    "id": "2b687290"
   },
   "outputs": [
    {
     "data": {
      "text/html": [
       "<div>\n",
       "<style scoped>\n",
       "    .dataframe tbody tr th:only-of-type {\n",
       "        vertical-align: middle;\n",
       "    }\n",
       "\n",
       "    .dataframe tbody tr th {\n",
       "        vertical-align: top;\n",
       "    }\n",
       "\n",
       "    .dataframe thead th {\n",
       "        text-align: right;\n",
       "    }\n",
       "</style>\n",
       "<table border=\"1\" class=\"dataframe\">\n",
       "  <thead>\n",
       "    <tr style=\"text-align: right;\">\n",
       "      <th></th>\n",
       "      <th>purpose_category</th>\n",
       "      <th>count</th>\n",
       "      <th>Зависимость возврата от цели</th>\n",
       "    </tr>\n",
       "  </thead>\n",
       "  <tbody>\n",
       "    <tr>\n",
       "      <th>0</th>\n",
       "      <td>операции с автомобилем</td>\n",
       "      <td>4279.0</td>\n",
       "      <td>9.347978</td>\n",
       "    </tr>\n",
       "    <tr>\n",
       "      <th>2</th>\n",
       "      <td>получение образования</td>\n",
       "      <td>3988.0</td>\n",
       "      <td>9.252758</td>\n",
       "    </tr>\n",
       "    <tr>\n",
       "      <th>3</th>\n",
       "      <td>проведение свадьбы</td>\n",
       "      <td>2313.0</td>\n",
       "      <td>7.911803</td>\n",
       "    </tr>\n",
       "    <tr>\n",
       "      <th>1</th>\n",
       "      <td>операции с недвижимостью</td>\n",
       "      <td>10751.0</td>\n",
       "      <td>7.255139</td>\n",
       "    </tr>\n",
       "  </tbody>\n",
       "</table>\n",
       "</div>"
      ],
      "text/plain": [
       "           purpose_category    count  Зависимость возврата от цели\n",
       "0    операции с автомобилем   4279.0                      9.347978\n",
       "2     получение образования   3988.0                      9.252758\n",
       "3        проведение свадьбы   2313.0                      7.911803\n",
       "1  операции с недвижимостью  10751.0                      7.255139"
      ]
     },
     "execution_count": 31,
     "metadata": {},
     "output_type": "execute_result"
    }
   ],
   "source": [
    "#Создадим таблицу в которой будет показана зависимость 'mean' от дохода\n",
    "pivot_purpose = data.pivot_table(index='purpose_category',values='debt',aggfunc={'mean','count'}).reset_index()\n",
    "\n",
    "pivot_purpose['mean'] *= 100 #Приведем данные к процентам\n",
    "\n",
    "#Заменим название столбца\n",
    "pivot_purpose.rename(columns = {'mean':'Зависимость возврата от цели'}, inplace = True )\n",
    "\n",
    "pivot_purpose.sort_values(by='Зависимость возврата от цели',ascending=False) #Сортируем таблицу по возрастанию"
   ]
  },
  {
   "cell_type": "code",
   "execution_count": 32,
   "id": "07f8b17f",
   "metadata": {},
   "outputs": [
    {
     "data": {
      "image/png": "[encoded data removed]",
      "text/plain": [
       "<Figure size 432x288 with 1 Axes>"
      ]
     },
     "metadata": {
      "needs_background": "light"
     },
     "output_type": "display_data"
    }
   ],
   "source": [
    "pivot_purpose.plot(kind='bar',x='purpose_category',y='Зависимость возврата от цели',\\\n",
    "                        title='Зависимость между целью кредита и возвратом кредита',\\\n",
    "                        ylabel='Задолженность по возврату кредитов, %');"
   ]
  },
  {
   "cell_type": "markdown",
   "id": "a05ad458",
   "metadata": {
    "deletable": false,
    "id": "b4bb2ce6"
   },
   "source": [
    "**Вывод:** Как видно, люди у которых цель это *операции с недвижимостью* и *проведение свадьбы* возвращают кредит чаще, чем другие категории"
   ]
  },
  {
   "attachments": {},
   "cell_type": "markdown",
   "id": "ea4d9d4f",
   "metadata": {
    "deletable": false,
    "editable": false,
    "id": "09c3ac4c"
   },
   "source": [
    "#### 3.5 Приведем возможные причины появления пропусков в исходных данных."
   ]
  },
  {
   "attachments": {},
   "cell_type": "markdown",
   "id": "f03795ec",
   "metadata": {},
   "source": [
    "**Как можно заметить, пропуски наблюдаются  в одних и тех же столбцах, учитывая, что нет примерно <b>10%</b> значений, я думаю, что это может быть ошибка при переносе данных**"
   ]
  },
  {
   "attachments": {},
   "cell_type": "markdown",
   "id": "d2e366f5",
   "metadata": {
    "deletable": false,
    "editable": false,
    "id": "7b0487d6"
   },
   "source": [
    "#### 3.6 Объясним, почему заполнить пропуски медианным значением — лучшее решение для количественных переменных."
   ]
  },
  {
   "attachments": {},
   "cell_type": "markdown",
   "id": "6dac871f",
   "metadata": {
    "deletable": false,
    "id": "7ecf2b8e"
   },
   "source": [
    "*Ответ:* Если заполнять значение средним значением, то на него могут повлиять малое колчичество аномальных значений. Медианное значение в этом плане намного лучше отслеживает справедливое среднее значение"
   ]
  },
  {
   "cell_type": "markdown",
   "id": "0f08904b",
   "metadata": {
    "deletable": false,
    "editable": false,
    "id": "6db5255a"
   },
   "source": [
    "### Шаг 4: общий вывод."
   ]
  },
  {
   "attachments": {},
   "cell_type": "markdown",
   "id": "7d90d884",
   "metadata": {},
   "source": [
    "Было проведено исследование для выявления факторов влияющих на факт погашения кредита в срок. Входные данные - статистика\n",
    "о платежеспособности клиентов. Результаты исследования помогут в создании кредитного скоринга - специальной системы, которая оценивает потенциальных заемщиков.\n",
    "   \n",
    "<strong>Гипотезы, которые проверялись:</strong><p>\n",
    "    <b>Гипотеза 1</b> - Количество детей влияет на факт погашения кредита<p>\n",
    "    <b>Гипотеза 2</b> - Семейное положение влияет на факт погашения кредита<p>\n",
    "    <b>Гипотеза 3</b> - Уровень дохода влияет на факт погашения кредита<p>\n",
    "    <b>Гипотеза 4</b> - Цель кредита влияет на факт погашения кредита<p>\n",
    "    <hr>\n",
    "<strong>В результате исследования выявились следующие закономерности</strong><p>\n",
    "    <strong>Гипотеза 1</strong><p>\n",
    "    Для проверки гипотезы не были учтены данные для семей с 5 детьми, так как выборка очень мала\n",
    "<b>Данная гипотеза частично подтвердилась</b>: Люди без детей лучше выплачивают кредит <b>92.46%</b>, вместо <b>90,84</b> у людей с детьми. <p>\n",
    "Для точного вывода по группе с 4 и более детьми необходимо провести исследования на большей выборке.\n",
    "    \n",
    "    \n",
    "<strong>Гипотеза 2</strong><p>\n",
    "    <b>Гипотеза была проверена и подтверждена</b>: люди с семьей или состоявшие в браке больше ценят свои обязанности <b>92.92%</b>? а у людей не состоявших в отношениях - <b>90.84%</b> <p>\n",
    "\n",
    "<strong>Гипотеза 3</strong><p>\n",
    "    Гипотеза проверена, но не достаточно данных для некоторых категорий Е (до 30.000) и А (выше 1.000.001)\n",
    "    <b>Для остальных категорий гипотеза была проверена</b>:<p>\n",
    "    Люди из категории D (50.001-200.000) лучше всего закрывают кредит - <b>94%</b><p>\n",
    "    Оставшиеся категории выплачивают в среднем <b>92.2%</b> кредитов <p>\n",
    "    Надо добавить в выборку людей из категорий Е,А,D для более точных результатов\n",
    "    \n",
    "<strong>Гипотеза 4</strong><p>\n",
    "    <b>Гипотеза подтверждена</b>\n",
    "    Люди с разными шансами возвращают кредит в зависимости от цели. Скорее всего это связано с мотивацией получения своей цели:<p>\n",
    "    Лишь <b>90.65%</b> людей взявших автокредит его выплачивают <p>\n",
    "    Ненамного лучше ситуация с кредитом на образование - <b>90.8%</b><p>\n",
    "    А вот на проведение свадьбы и на покупку жилья, берут кредит очень ответственные  люди -  <b>92.1%</b> и <b>92.75%</b> соответственно \n",
    "    \n",
    "<strong>Общие выводы:</strong><p>\n",
    "    1. Для создания программы скрининга, можно использовать только две гипотизы из четырех, остальные надо дополнить информацией для точного анализа<p>\n",
    "    2. Желательно провести анализ композиционных  моделей заемщиков для усовершенствования работы программы "
   ]
  }
 ],
 "metadata": {
  "ExecuteTimeLog": [
   {
    "duration": 59,
    "start_time": "2022-12-06T16:54:48.055Z"
   },
   {
    "duration": 753,
    "start_time": "2022-12-06T16:54:51.970Z"
   },
   {
    "duration": 33,
    "start_time": "2022-12-06T16:54:52.725Z"
   },
   {
    "duration": 39,
    "start_time": "2022-12-06T16:54:52.760Z"
   },
   {
    "duration": 28,
    "start_time": "2022-12-06T16:54:52.801Z"
   },
   {
    "duration": 63,
    "start_time": "2022-12-06T16:54:52.832Z"
   },
   {
    "duration": 3,
    "start_time": "2022-12-06T16:54:52.897Z"
   },
   {
    "duration": 30,
    "start_time": "2022-12-06T16:54:52.902Z"
   },
   {
    "duration": 23,
    "start_time": "2022-12-06T16:54:52.934Z"
   },
   {
    "duration": 29,
    "start_time": "2022-12-06T16:54:52.958Z"
   },
   {
    "duration": 32,
    "start_time": "2022-12-06T16:54:52.988Z"
   },
   {
    "duration": 71,
    "start_time": "2022-12-06T16:54:53.021Z"
   },
   {
    "duration": 11,
    "start_time": "2022-12-06T16:54:53.093Z"
   },
   {
    "duration": 21,
    "start_time": "2022-12-06T16:54:53.106Z"
   },
   {
    "duration": 35,
    "start_time": "2022-12-06T16:54:53.131Z"
   },
   {
    "duration": 45,
    "start_time": "2022-12-06T16:54:53.168Z"
   },
   {
    "duration": 37,
    "start_time": "2022-12-06T16:54:53.215Z"
   },
   {
    "duration": 33,
    "start_time": "2022-12-06T16:54:53.254Z"
   },
   {
    "duration": 32,
    "start_time": "2022-12-06T16:54:53.289Z"
   },
   {
    "duration": 32,
    "start_time": "2022-12-06T16:54:53.323Z"
   },
   {
    "duration": 11,
    "start_time": "2022-12-06T16:54:53.356Z"
   },
   {
    "duration": 46,
    "start_time": "2022-12-06T16:54:53.369Z"
   },
   {
    "duration": 73,
    "start_time": "2022-12-06T16:54:54.452Z"
   },
   {
    "duration": 20,
    "start_time": "2022-12-06T16:54:54.527Z"
   },
   {
    "duration": 43,
    "start_time": "2022-12-06T16:54:54.549Z"
   },
   {
    "duration": 16,
    "start_time": "2022-12-06T16:54:54.596Z"
   },
   {
    "duration": 48,
    "start_time": "2022-12-06T16:54:54.614Z"
   },
   {
    "duration": 3,
    "start_time": "2022-12-06T16:54:54.664Z"
   },
   {
    "duration": 24,
    "start_time": "2022-12-06T16:54:54.668Z"
   },
   {
    "duration": 28,
    "start_time": "2022-12-06T16:54:54.694Z"
   },
   {
    "duration": 35,
    "start_time": "2022-12-06T16:54:54.724Z"
   },
   {
    "duration": 8,
    "start_time": "2022-12-06T16:54:54.762Z"
   },
   {
    "duration": 47,
    "start_time": "2022-12-06T16:54:54.771Z"
   },
   {
    "duration": 9,
    "start_time": "2022-12-06T16:54:54.820Z"
   },
   {
    "duration": 7,
    "start_time": "2022-12-06T16:54:54.830Z"
   },
   {
    "duration": 30,
    "start_time": "2022-12-06T16:54:54.839Z"
   },
   {
    "duration": 32,
    "start_time": "2022-12-06T16:54:54.871Z"
   },
   {
    "duration": 18,
    "start_time": "2022-12-06T16:54:54.905Z"
   },
   {
    "duration": 4,
    "start_time": "2022-12-06T16:54:54.924Z"
   },
   {
    "duration": 46,
    "start_time": "2022-12-06T16:54:54.929Z"
   },
   {
    "duration": 22,
    "start_time": "2022-12-06T16:54:54.977Z"
   },
   {
    "duration": 5,
    "start_time": "2022-12-06T16:54:55.001Z"
   },
   {
    "duration": 14,
    "start_time": "2022-12-06T16:54:55.007Z"
   },
   {
    "duration": 173,
    "start_time": "2022-12-06T16:54:55.022Z"
   },
   {
    "duration": 2,
    "start_time": "2022-12-06T16:54:55.197Z"
   },
   {
    "duration": 7,
    "start_time": "2022-12-06T16:54:55.201Z"
   },
   {
    "duration": 23,
    "start_time": "2022-12-06T16:54:55.209Z"
   },
   {
    "duration": 163,
    "start_time": "2022-12-06T16:55:04.627Z"
   },
   {
    "duration": 12,
    "start_time": "2022-12-06T16:55:23.452Z"
   },
   {
    "duration": 6,
    "start_time": "2022-12-06T16:55:47.354Z"
   },
   {
    "duration": 5,
    "start_time": "2022-12-06T16:55:55.651Z"
   },
   {
    "duration": 18,
    "start_time": "2022-12-06T16:56:12.913Z"
   },
   {
    "duration": 8,
    "start_time": "2022-12-06T16:57:36.856Z"
   },
   {
    "duration": 5,
    "start_time": "2022-12-06T16:58:31.425Z"
   },
   {
    "duration": 6,
    "start_time": "2022-12-06T17:00:43.775Z"
   },
   {
    "duration": 8,
    "start_time": "2022-12-06T17:00:43.947Z"
   },
   {
    "duration": 7,
    "start_time": "2022-12-06T17:00:52.948Z"
   },
   {
    "duration": 5,
    "start_time": "2022-12-06T17:01:00.208Z"
   },
   {
    "duration": 5,
    "start_time": "2022-12-06T17:01:09.551Z"
   },
   {
    "duration": 14,
    "start_time": "2022-12-06T17:02:15.414Z"
   },
   {
    "duration": 15,
    "start_time": "2022-12-06T17:13:08.158Z"
   },
   {
    "duration": 23,
    "start_time": "2022-12-06T17:13:13.321Z"
   },
   {
    "duration": 47,
    "start_time": "2022-12-06T17:13:32.377Z"
   },
   {
    "duration": 19,
    "start_time": "2022-12-06T17:13:35.015Z"
   },
   {
    "duration": 21,
    "start_time": "2022-12-06T17:14:28.592Z"
   },
   {
    "duration": 19,
    "start_time": "2022-12-06T17:15:12.848Z"
   },
   {
    "duration": 20,
    "start_time": "2022-12-06T17:15:26.168Z"
   },
   {
    "duration": 23,
    "start_time": "2022-12-06T17:15:29.152Z"
   },
   {
    "duration": 32,
    "start_time": "2022-12-06T17:16:01.136Z"
   },
   {
    "duration": 20,
    "start_time": "2022-12-06T17:16:08.078Z"
   },
   {
    "duration": 21,
    "start_time": "2022-12-06T17:16:26.502Z"
   },
   {
    "duration": 20,
    "start_time": "2022-12-06T17:16:35.048Z"
   },
   {
    "duration": 25,
    "start_time": "2022-12-06T17:17:39.936Z"
   },
   {
    "duration": 30,
    "start_time": "2022-12-06T17:17:48.719Z"
   },
   {
    "duration": 22,
    "start_time": "2022-12-06T17:18:01.147Z"
   },
   {
    "duration": 8,
    "start_time": "2022-12-06T17:19:30.451Z"
   },
   {
    "duration": 20,
    "start_time": "2022-12-06T17:19:50.848Z"
   },
   {
    "duration": 8,
    "start_time": "2022-12-06T17:20:03.272Z"
   },
   {
    "duration": 23,
    "start_time": "2022-12-06T17:20:09.755Z"
   },
   {
    "duration": 21,
    "start_time": "2022-12-06T17:20:26.047Z"
   },
   {
    "duration": 23,
    "start_time": "2022-12-06T17:20:39.420Z"
   },
   {
    "duration": 26,
    "start_time": "2022-12-06T17:21:09.533Z"
   },
   {
    "duration": 24,
    "start_time": "2022-12-06T17:21:42.652Z"
   },
   {
    "duration": 26,
    "start_time": "2022-12-06T17:21:47.428Z"
   },
   {
    "duration": 34,
    "start_time": "2022-12-06T17:21:52.537Z"
   },
   {
    "duration": 24,
    "start_time": "2022-12-06T17:23:04.147Z"
   },
   {
    "duration": 20,
    "start_time": "2022-12-06T17:23:22.267Z"
   },
   {
    "duration": 28,
    "start_time": "2022-12-06T17:25:58.034Z"
   },
   {
    "duration": 634,
    "start_time": "2022-12-06T17:26:27.852Z"
   },
   {
    "duration": 194,
    "start_time": "2022-12-06T17:26:42.426Z"
   },
   {
    "duration": 82,
    "start_time": "2022-12-06T17:30:40.311Z"
   },
   {
    "duration": 18,
    "start_time": "2022-12-06T17:30:58.504Z"
   },
   {
    "duration": 7,
    "start_time": "2022-12-06T17:31:02.096Z"
   },
   {
    "duration": 19,
    "start_time": "2022-12-06T17:31:13.863Z"
   },
   {
    "duration": 29,
    "start_time": "2022-12-06T17:31:35.257Z"
   },
   {
    "duration": 14,
    "start_time": "2022-12-06T17:31:41.751Z"
   },
   {
    "duration": 8,
    "start_time": "2022-12-06T17:32:03.856Z"
   },
   {
    "duration": 4,
    "start_time": "2022-12-06T17:32:08.662Z"
   },
   {
    "duration": 9,
    "start_time": "2022-12-06T17:32:10.294Z"
   },
   {
    "duration": 9,
    "start_time": "2022-12-06T17:32:20.525Z"
   },
   {
    "duration": 63,
    "start_time": "2022-12-06T17:54:15.717Z"
   },
   {
    "duration": 44,
    "start_time": "2022-12-06T18:02:11.953Z"
   },
   {
    "duration": 157,
    "start_time": "2022-12-06T18:10:56.467Z"
   },
   {
    "duration": 166,
    "start_time": "2022-12-06T18:11:09.515Z"
   },
   {
    "duration": 61,
    "start_time": "2022-12-06T18:12:41.314Z"
   },
   {
    "duration": 255,
    "start_time": "2022-12-06T18:12:48.986Z"
   },
   {
    "duration": 154,
    "start_time": "2022-12-06T18:12:53.558Z"
   },
   {
    "duration": 89,
    "start_time": "2022-12-06T18:12:56.505Z"
   },
   {
    "duration": 15,
    "start_time": "2022-12-06T18:12:56.596Z"
   },
   {
    "duration": 33,
    "start_time": "2022-12-06T18:12:56.613Z"
   },
   {
    "duration": 26,
    "start_time": "2022-12-06T18:12:56.649Z"
   },
   {
    "duration": 43,
    "start_time": "2022-12-06T18:12:56.677Z"
   },
   {
    "duration": 4,
    "start_time": "2022-12-06T18:12:56.722Z"
   },
   {
    "duration": 61,
    "start_time": "2022-12-06T18:12:56.728Z"
   },
   {
    "duration": 12,
    "start_time": "2022-12-06T18:12:56.791Z"
   },
   {
    "duration": 18,
    "start_time": "2022-12-06T18:12:56.805Z"
   },
   {
    "duration": 39,
    "start_time": "2022-12-06T18:12:56.826Z"
   },
   {
    "duration": 51,
    "start_time": "2022-12-06T18:12:56.867Z"
   },
   {
    "duration": 11,
    "start_time": "2022-12-06T18:12:56.919Z"
   },
   {
    "duration": 23,
    "start_time": "2022-12-06T18:12:56.932Z"
   },
   {
    "duration": 20,
    "start_time": "2022-12-06T18:12:56.957Z"
   },
   {
    "duration": 30,
    "start_time": "2022-12-06T18:12:56.979Z"
   },
   {
    "duration": 17,
    "start_time": "2022-12-06T18:12:57.011Z"
   },
   {
    "duration": 4,
    "start_time": "2022-12-06T18:12:57.029Z"
   },
   {
    "duration": 42,
    "start_time": "2022-12-06T18:12:57.034Z"
   },
   {
    "duration": 16,
    "start_time": "2022-12-06T18:12:57.077Z"
   },
   {
    "duration": 4,
    "start_time": "2022-12-06T18:12:57.094Z"
   },
   {
    "duration": 13,
    "start_time": "2022-12-06T18:12:57.100Z"
   },
   {
    "duration": 24,
    "start_time": "2022-12-06T18:13:03.794Z"
   },
   {
    "duration": 151,
    "start_time": "2022-12-06T18:13:13.610Z"
   },
   {
    "duration": 182,
    "start_time": "2022-12-06T18:14:33.514Z"
   },
   {
    "duration": 177,
    "start_time": "2022-12-06T18:25:10.850Z"
   },
   {
    "duration": 179,
    "start_time": "2022-12-06T18:25:24.055Z"
   },
   {
    "duration": 180,
    "start_time": "2022-12-06T18:26:13.676Z"
   },
   {
    "duration": 196,
    "start_time": "2022-12-06T18:26:16.604Z"
   },
   {
    "duration": 185,
    "start_time": "2022-12-06T18:26:59.235Z"
   },
   {
    "duration": 210,
    "start_time": "2022-12-06T18:27:02.298Z"
   },
   {
    "duration": 32,
    "start_time": "2022-12-06T18:31:44.226Z"
   },
   {
    "duration": 935,
    "start_time": "2022-12-06T18:31:57.762Z"
   },
   {
    "duration": 847,
    "start_time": "2022-12-06T18:32:10.864Z"
   },
   {
    "duration": 853,
    "start_time": "2022-12-06T18:32:16.958Z"
   },
   {
    "duration": 983,
    "start_time": "2022-12-06T18:32:22.592Z"
   },
   {
    "duration": 954,
    "start_time": "2022-12-06T18:32:25.272Z"
   },
   {
    "duration": 176,
    "start_time": "2022-12-06T18:32:40.593Z"
   },
   {
    "duration": 267,
    "start_time": "2022-12-06T18:35:08.015Z"
   },
   {
    "duration": 200,
    "start_time": "2022-12-06T18:35:19.536Z"
   },
   {
    "duration": 187,
    "start_time": "2022-12-06T18:35:33.000Z"
   },
   {
    "duration": 194,
    "start_time": "2022-12-06T18:35:47.536Z"
   },
   {
    "duration": 213,
    "start_time": "2022-12-06T18:36:23.383Z"
   },
   {
    "duration": 173,
    "start_time": "2022-12-06T18:36:28.671Z"
   },
   {
    "duration": 46,
    "start_time": "2022-12-06T18:36:45.560Z"
   },
   {
    "duration": 72,
    "start_time": "2022-12-06T18:38:34.502Z"
   },
   {
    "duration": 48,
    "start_time": "2022-12-06T18:38:44.276Z"
   },
   {
    "duration": 99,
    "start_time": "2022-12-06T18:38:56.205Z"
   },
   {
    "duration": 190,
    "start_time": "2022-12-06T18:39:25.213Z"
   },
   {
    "duration": 185,
    "start_time": "2022-12-06T18:39:41.678Z"
   },
   {
    "duration": 41,
    "start_time": "2022-12-06T18:42:34.606Z"
   },
   {
    "duration": 43,
    "start_time": "2022-12-06T18:42:59.818Z"
   },
   {
    "duration": 28,
    "start_time": "2022-12-06T18:44:38.898Z"
   },
   {
    "duration": 24,
    "start_time": "2022-12-06T18:44:42.862Z"
   },
   {
    "duration": 29,
    "start_time": "2022-12-06T18:44:59.362Z"
   },
   {
    "duration": 42,
    "start_time": "2022-12-06T18:47:32.232Z"
   },
   {
    "duration": 33,
    "start_time": "2022-12-06T18:48:21.009Z"
   },
   {
    "duration": 12,
    "start_time": "2022-12-06T18:49:01.057Z"
   },
   {
    "duration": 29,
    "start_time": "2022-12-06T18:49:16.479Z"
   },
   {
    "duration": 39,
    "start_time": "2022-12-06T18:49:24.358Z"
   },
   {
    "duration": 28,
    "start_time": "2022-12-06T18:49:27.017Z"
   },
   {
    "duration": 28,
    "start_time": "2022-12-06T18:49:48.008Z"
   },
   {
    "duration": 28,
    "start_time": "2022-12-06T18:52:22.382Z"
   },
   {
    "duration": 30,
    "start_time": "2022-12-06T18:56:19.157Z"
   },
   {
    "duration": 29,
    "start_time": "2022-12-06T18:57:23.848Z"
   },
   {
    "duration": 56,
    "start_time": "2022-12-06T18:57:33.179Z"
   },
   {
    "duration": 68,
    "start_time": "2022-12-06T18:57:45.691Z"
   },
   {
    "duration": 32,
    "start_time": "2022-12-06T18:57:51.931Z"
   },
   {
    "duration": 20,
    "start_time": "2022-12-06T18:58:05.580Z"
   },
   {
    "duration": 77,
    "start_time": "2022-12-06T18:59:16.692Z"
   },
   {
    "duration": 63,
    "start_time": "2022-12-06T19:00:19.050Z"
   },
   {
    "duration": 89,
    "start_time": "2022-12-06T19:00:26.649Z"
   },
   {
    "duration": 54,
    "start_time": "2022-12-06T19:00:35.569Z"
   },
   {
    "duration": 23,
    "start_time": "2022-12-06T19:00:46.385Z"
   },
   {
    "duration": 22,
    "start_time": "2022-12-06T19:01:15.473Z"
   },
   {
    "duration": 31,
    "start_time": "2022-12-06T19:01:31.080Z"
   },
   {
    "duration": 39,
    "start_time": "2022-12-06T19:01:39.113Z"
   },
   {
    "duration": 28,
    "start_time": "2022-12-06T19:01:44.347Z"
   },
   {
    "duration": 161,
    "start_time": "2022-12-06T19:03:49.416Z"
   },
   {
    "duration": 176,
    "start_time": "2022-12-06T19:04:01.104Z"
   },
   {
    "duration": 161,
    "start_time": "2022-12-06T19:05:06.448Z"
   },
   {
    "duration": 268,
    "start_time": "2022-12-06T19:05:14.672Z"
   },
   {
    "duration": 169,
    "start_time": "2022-12-06T19:05:28.191Z"
   },
   {
    "duration": 21,
    "start_time": "2022-12-06T19:05:33.947Z"
   },
   {
    "duration": 26,
    "start_time": "2022-12-06T19:05:40.879Z"
   },
   {
    "duration": 5,
    "start_time": "2022-12-06T19:05:56.576Z"
   },
   {
    "duration": 21,
    "start_time": "2022-12-06T19:06:00.599Z"
   },
   {
    "duration": 21,
    "start_time": "2022-12-06T19:06:10.446Z"
   },
   {
    "duration": 25,
    "start_time": "2022-12-06T19:06:18.629Z"
   },
   {
    "duration": 24,
    "start_time": "2022-12-06T19:06:41.736Z"
   },
   {
    "duration": 24,
    "start_time": "2022-12-06T19:06:56.982Z"
   },
   {
    "duration": 158,
    "start_time": "2022-12-06T19:08:53.189Z"
   },
   {
    "duration": 171,
    "start_time": "2022-12-06T19:08:58.958Z"
   },
   {
    "duration": 155,
    "start_time": "2022-12-06T19:10:50.197Z"
   },
   {
    "duration": 178,
    "start_time": "2022-12-06T19:11:00.430Z"
   },
   {
    "duration": 73,
    "start_time": "2022-12-06T19:11:35.701Z"
   },
   {
    "duration": 182,
    "start_time": "2022-12-06T19:11:44.260Z"
   },
   {
    "duration": 172,
    "start_time": "2022-12-06T19:11:51.013Z"
   },
   {
    "duration": 184,
    "start_time": "2022-12-06T19:12:40.515Z"
   },
   {
    "duration": 416,
    "start_time": "2022-12-06T19:13:08.212Z"
   },
   {
    "duration": 35,
    "start_time": "2022-12-06T19:13:22.373Z"
   },
   {
    "duration": 409,
    "start_time": "2022-12-06T19:13:38.564Z"
   },
   {
    "duration": 52,
    "start_time": "2022-12-06T19:17:49.626Z"
   },
   {
    "duration": 30,
    "start_time": "2022-12-06T19:17:59.889Z"
   },
   {
    "duration": 226,
    "start_time": "2022-12-06T19:18:12.578Z"
   },
   {
    "duration": 224,
    "start_time": "2022-12-06T19:18:41.833Z"
   },
   {
    "duration": 307,
    "start_time": "2022-12-06T19:18:45.270Z"
   },
   {
    "duration": 175,
    "start_time": "2022-12-06T19:19:00.401Z"
   },
   {
    "duration": 41,
    "start_time": "2022-12-06T19:19:42.681Z"
   },
   {
    "duration": 170,
    "start_time": "2022-12-06T19:19:54.258Z"
   },
   {
    "duration": 170,
    "start_time": "2022-12-06T19:20:04.633Z"
   },
   {
    "duration": 180,
    "start_time": "2022-12-06T19:21:45.391Z"
   },
   {
    "duration": 188,
    "start_time": "2022-12-06T19:22:35.704Z"
   },
   {
    "duration": 195,
    "start_time": "2022-12-06T19:24:20.134Z"
   },
   {
    "duration": 209,
    "start_time": "2022-12-06T19:25:35.534Z"
   },
   {
    "duration": 191,
    "start_time": "2022-12-06T19:26:23.678Z"
   },
   {
    "duration": 245,
    "start_time": "2022-12-06T19:30:22.659Z"
   },
   {
    "duration": 78,
    "start_time": "2022-12-06T19:30:30.404Z"
   },
   {
    "duration": 188,
    "start_time": "2022-12-06T19:30:32.890Z"
   },
   {
    "duration": 175,
    "start_time": "2022-12-06T19:31:03.055Z"
   },
   {
    "duration": 274,
    "start_time": "2022-12-06T19:32:10.619Z"
   },
   {
    "duration": 30,
    "start_time": "2022-12-06T19:34:07.757Z"
   },
   {
    "duration": 184,
    "start_time": "2022-12-06T19:34:13.570Z"
   },
   {
    "duration": 195,
    "start_time": "2022-12-06T19:34:23.033Z"
   },
   {
    "duration": 47,
    "start_time": "2022-12-06T19:34:27.260Z"
   },
   {
    "duration": 197,
    "start_time": "2022-12-06T19:34:32.681Z"
   },
   {
    "duration": 44,
    "start_time": "2022-12-06T19:39:06.480Z"
   },
   {
    "duration": 297,
    "start_time": "2022-12-06T19:39:19.175Z"
   },
   {
    "duration": 279,
    "start_time": "2022-12-06T19:40:31.429Z"
   },
   {
    "duration": 59,
    "start_time": "2022-12-06T19:40:56.481Z"
   },
   {
    "duration": 136,
    "start_time": "2022-12-06T19:41:21.149Z"
   },
   {
    "duration": 46,
    "start_time": "2022-12-06T19:41:45.901Z"
   },
   {
    "duration": 58,
    "start_time": "2022-12-06T19:41:56.726Z"
   },
   {
    "duration": 35,
    "start_time": "2022-12-06T19:42:10.769Z"
   },
   {
    "duration": 44,
    "start_time": "2022-12-06T19:42:39.109Z"
   },
   {
    "duration": 58,
    "start_time": "2022-12-06T19:42:52.374Z"
   },
   {
    "duration": 48,
    "start_time": "2022-12-06T19:43:09.526Z"
   },
   {
    "duration": 40,
    "start_time": "2022-12-06T19:43:13.058Z"
   },
   {
    "duration": 41,
    "start_time": "2022-12-06T19:43:29.885Z"
   },
   {
    "duration": 37,
    "start_time": "2022-12-06T19:43:37.615Z"
   },
   {
    "duration": 31,
    "start_time": "2022-12-06T19:43:51.296Z"
   },
   {
    "duration": 65,
    "start_time": "2022-12-06T19:44:02.161Z"
   },
   {
    "duration": 261,
    "start_time": "2022-12-06T19:44:08.764Z"
   },
   {
    "duration": 42,
    "start_time": "2022-12-06T19:44:20.910Z"
   },
   {
    "duration": 81,
    "start_time": "2022-12-06T19:45:18.908Z"
   },
   {
    "duration": 112,
    "start_time": "2022-12-06T19:45:32.725Z"
   },
   {
    "duration": 41,
    "start_time": "2022-12-06T19:45:36.884Z"
   },
   {
    "duration": 55,
    "start_time": "2022-12-06T19:45:48.025Z"
   },
   {
    "duration": 44,
    "start_time": "2022-12-06T19:46:14.272Z"
   },
   {
    "duration": 41,
    "start_time": "2022-12-06T19:46:20.158Z"
   },
   {
    "duration": 42,
    "start_time": "2022-12-06T19:47:00.707Z"
   },
   {
    "duration": 31,
    "start_time": "2022-12-06T19:47:27.873Z"
   },
   {
    "duration": 36,
    "start_time": "2022-12-06T19:47:38.820Z"
   },
   {
    "duration": 56,
    "start_time": "2022-12-06T19:47:46.846Z"
   },
   {
    "duration": 29,
    "start_time": "2022-12-06T19:48:37.186Z"
   },
   {
    "duration": 36,
    "start_time": "2022-12-06T19:48:51.362Z"
   },
   {
    "duration": 50,
    "start_time": "2022-12-06T19:49:00.057Z"
   },
   {
    "duration": 52,
    "start_time": "2022-12-06T19:49:06.834Z"
   },
   {
    "duration": 54,
    "start_time": "2022-12-06T19:49:31.930Z"
   },
   {
    "duration": 36,
    "start_time": "2022-12-06T19:49:49.893Z"
   },
   {
    "duration": 26,
    "start_time": "2022-12-06T19:50:00.594Z"
   },
   {
    "duration": 231,
    "start_time": "2022-12-06T19:50:10.617Z"
   },
   {
    "duration": 231,
    "start_time": "2022-12-06T19:55:09.106Z"
   },
   {
    "duration": 245,
    "start_time": "2022-12-06T19:56:39.386Z"
   },
   {
    "duration": 248,
    "start_time": "2022-12-06T19:58:02.676Z"
   },
   {
    "duration": 345,
    "start_time": "2022-12-06T19:58:55.077Z"
   },
   {
    "duration": 228,
    "start_time": "2022-12-06T19:59:04.263Z"
   },
   {
    "duration": 228,
    "start_time": "2022-12-06T19:59:13.406Z"
   },
   {
    "duration": 96,
    "start_time": "2022-12-06T19:59:22.325Z"
   },
   {
    "duration": 205,
    "start_time": "2022-12-06T20:02:01.613Z"
   },
   {
    "duration": 246,
    "start_time": "2022-12-06T20:02:19.030Z"
   },
   {
    "duration": 224,
    "start_time": "2022-12-06T20:03:32.811Z"
   },
   {
    "duration": 264,
    "start_time": "2022-12-06T20:03:37.731Z"
   },
   {
    "duration": 208,
    "start_time": "2022-12-06T20:25:15.893Z"
   },
   {
    "duration": 5,
    "start_time": "2022-12-06T20:25:17.593Z"
   },
   {
    "duration": 25,
    "start_time": "2022-12-06T20:25:19.566Z"
   },
   {
    "duration": 16,
    "start_time": "2022-12-06T20:25:48.599Z"
   },
   {
    "duration": 6,
    "start_time": "2022-12-06T20:27:14.720Z"
   },
   {
    "duration": 5,
    "start_time": "2022-12-06T20:27:25.273Z"
   },
   {
    "duration": 36,
    "start_time": "2022-12-06T20:28:37.735Z"
   },
   {
    "duration": 13,
    "start_time": "2022-12-06T20:29:00.974Z"
   },
   {
    "duration": 1006,
    "start_time": "2022-12-06T20:29:02.916Z"
   },
   {
    "duration": 81,
    "start_time": "2022-12-06T20:29:09.678Z"
   },
   {
    "duration": 20,
    "start_time": "2022-12-06T20:29:09.765Z"
   },
   {
    "duration": 27,
    "start_time": "2022-12-06T20:29:09.787Z"
   },
   {
    "duration": 9,
    "start_time": "2022-12-06T20:29:09.816Z"
   },
   {
    "duration": 83,
    "start_time": "2022-12-06T20:29:09.826Z"
   },
   {
    "duration": 4,
    "start_time": "2022-12-06T20:29:09.911Z"
   },
   {
    "duration": 13,
    "start_time": "2022-12-06T20:29:09.916Z"
   },
   {
    "duration": 41,
    "start_time": "2022-12-06T20:29:09.931Z"
   },
   {
    "duration": 15,
    "start_time": "2022-12-06T20:29:09.974Z"
   },
   {
    "duration": 6,
    "start_time": "2022-12-06T20:29:09.992Z"
   },
   {
    "duration": 42,
    "start_time": "2022-12-06T20:29:10.000Z"
   },
   {
    "duration": 18,
    "start_time": "2022-12-06T20:29:10.046Z"
   },
   {
    "duration": 19,
    "start_time": "2022-12-06T20:29:10.066Z"
   },
   {
    "duration": 14,
    "start_time": "2022-12-06T20:29:10.086Z"
   },
   {
    "duration": 25,
    "start_time": "2022-12-06T20:29:10.102Z"
   },
   {
    "duration": 25,
    "start_time": "2022-12-06T20:29:10.129Z"
   },
   {
    "duration": 26,
    "start_time": "2022-12-06T20:29:10.155Z"
   },
   {
    "duration": 14,
    "start_time": "2022-12-06T20:29:10.183Z"
   },
   {
    "duration": 8,
    "start_time": "2022-12-06T20:29:10.199Z"
   },
   {
    "duration": 7,
    "start_time": "2022-12-06T20:29:10.209Z"
   },
   {
    "duration": 15,
    "start_time": "2022-12-06T20:29:10.217Z"
   },
   {
    "duration": 65,
    "start_time": "2022-12-06T20:29:10.234Z"
   },
   {
    "duration": 4,
    "start_time": "2022-12-06T20:29:10.301Z"
   },
   {
    "duration": 186,
    "start_time": "2022-12-06T20:29:10.306Z"
   },
   {
    "duration": 21,
    "start_time": "2022-12-06T20:29:10.494Z"
   },
   {
    "duration": 1465,
    "start_time": "2022-12-06T20:29:10.516Z"
   },
   {
    "duration": 26,
    "start_time": "2022-12-06T20:30:01.262Z"
   },
   {
    "duration": 23,
    "start_time": "2022-12-06T20:30:05.270Z"
   },
   {
    "duration": 25,
    "start_time": "2022-12-06T20:30:14.062Z"
   },
   {
    "duration": 21,
    "start_time": "2022-12-06T20:30:23.374Z"
   },
   {
    "duration": 27,
    "start_time": "2022-12-06T20:31:31.696Z"
   },
   {
    "duration": 23,
    "start_time": "2022-12-06T20:31:39.757Z"
   },
   {
    "duration": 66,
    "start_time": "2022-12-06T20:32:04.510Z"
   },
   {
    "duration": 2,
    "start_time": "2022-12-06T20:32:13.182Z"
   },
   {
    "duration": 171,
    "start_time": "2022-12-06T20:32:45.285Z"
   },
   {
    "duration": 169,
    "start_time": "2022-12-06T20:33:06.573Z"
   },
   {
    "duration": 227,
    "start_time": "2022-12-06T20:34:14.627Z"
   },
   {
    "duration": 56,
    "start_time": "2022-12-06T20:34:24.931Z"
   },
   {
    "duration": 51,
    "start_time": "2022-12-06T20:34:27.829Z"
   },
   {
    "duration": 174,
    "start_time": "2022-12-06T20:35:38.826Z"
   },
   {
    "duration": 186,
    "start_time": "2022-12-06T20:37:09.905Z"
   },
   {
    "duration": 174,
    "start_time": "2022-12-06T20:37:15.650Z"
   },
   {
    "duration": 745,
    "start_time": "2022-12-06T20:37:42.618Z"
   },
   {
    "duration": 21,
    "start_time": "2022-12-06T20:37:57.705Z"
   },
   {
    "duration": 18,
    "start_time": "2022-12-06T20:38:10.949Z"
   },
   {
    "duration": 5,
    "start_time": "2022-12-06T20:38:20.961Z"
   },
   {
    "duration": 174,
    "start_time": "2022-12-06T20:38:39.817Z"
   },
   {
    "duration": 22,
    "start_time": "2022-12-06T20:38:56.752Z"
   },
   {
    "duration": 217,
    "start_time": "2022-12-06T20:39:04.610Z"
   },
   {
    "duration": 9,
    "start_time": "2022-12-06T20:39:32.080Z"
   },
   {
    "duration": 18,
    "start_time": "2022-12-06T20:40:52.832Z"
   },
   {
    "duration": 6,
    "start_time": "2022-12-06T20:41:45.457Z"
   },
   {
    "duration": 198,
    "start_time": "2022-12-06T20:41:49.919Z"
   },
   {
    "duration": 190,
    "start_time": "2022-12-06T20:42:19.360Z"
   },
   {
    "duration": 171,
    "start_time": "2022-12-06T20:43:54.318Z"
   },
   {
    "duration": 906,
    "start_time": "2022-12-06T20:45:48.662Z"
   },
   {
    "duration": 20,
    "start_time": "2022-12-06T20:46:26.110Z"
   },
   {
    "duration": 29,
    "start_time": "2022-12-06T20:46:32.606Z"
   },
   {
    "duration": 81,
    "start_time": "2022-12-06T20:47:08.004Z"
   },
   {
    "duration": 70,
    "start_time": "2022-12-06T20:47:29.405Z"
   },
   {
    "duration": 47,
    "start_time": "2022-12-06T20:47:38.157Z"
   },
   {
    "duration": 64,
    "start_time": "2022-12-06T20:48:01.636Z"
   },
   {
    "duration": 47,
    "start_time": "2022-12-06T20:48:16.571Z"
   },
   {
    "duration": 19,
    "start_time": "2022-12-06T20:48:30.012Z"
   },
   {
    "duration": 22,
    "start_time": "2022-12-06T20:48:59.924Z"
   },
   {
    "duration": 31,
    "start_time": "2022-12-06T20:50:04.588Z"
   },
   {
    "duration": 23,
    "start_time": "2022-12-06T20:50:13.614Z"
   },
   {
    "duration": 165,
    "start_time": "2022-12-06T20:50:20.827Z"
   },
   {
    "duration": 865,
    "start_time": "2022-12-06T20:50:39.172Z"
   },
   {
    "duration": 207,
    "start_time": "2022-12-06T20:50:43.579Z"
   },
   {
    "duration": 179,
    "start_time": "2022-12-06T21:01:40.006Z"
   },
   {
    "duration": 9,
    "start_time": "2022-12-06T21:02:10.325Z"
   },
   {
    "duration": 11,
    "start_time": "2022-12-06T21:02:19.701Z"
   },
   {
    "duration": 257,
    "start_time": "2022-12-06T21:02:23.829Z"
   },
   {
    "duration": 201,
    "start_time": "2022-12-06T21:02:27.102Z"
   },
   {
    "duration": 203,
    "start_time": "2022-12-06T21:02:41.021Z"
   },
   {
    "duration": 228,
    "start_time": "2022-12-06T21:02:48.533Z"
   },
   {
    "duration": 175,
    "start_time": "2022-12-06T21:03:06.604Z"
   },
   {
    "duration": 683,
    "start_time": "2022-12-06T21:03:13.524Z"
   },
   {
    "duration": 156,
    "start_time": "2022-12-06T21:03:20.598Z"
   },
   {
    "duration": 191,
    "start_time": "2022-12-06T21:03:28.093Z"
   },
   {
    "duration": 14,
    "start_time": "2022-12-06T21:03:36.773Z"
   },
   {
    "duration": 13,
    "start_time": "2022-12-06T21:03:41.621Z"
   },
   {
    "duration": 14,
    "start_time": "2022-12-06T21:03:46.247Z"
   },
   {
    "duration": 197,
    "start_time": "2022-12-06T21:03:49.092Z"
   },
   {
    "duration": 168,
    "start_time": "2022-12-06T21:04:10.084Z"
   },
   {
    "duration": 164,
    "start_time": "2022-12-06T21:04:58.163Z"
   },
   {
    "duration": 14,
    "start_time": "2022-12-06T21:06:40.987Z"
   },
   {
    "duration": 24,
    "start_time": "2022-12-06T21:07:24.851Z"
   },
   {
    "duration": 14,
    "start_time": "2022-12-06T21:07:45.204Z"
   },
   {
    "duration": 16,
    "start_time": "2022-12-06T21:07:47.306Z"
   },
   {
    "duration": 23,
    "start_time": "2022-12-06T21:07:53.922Z"
   },
   {
    "duration": 19,
    "start_time": "2022-12-06T21:08:07.770Z"
   },
   {
    "duration": 19,
    "start_time": "2022-12-06T21:09:29.697Z"
   },
   {
    "duration": 5,
    "start_time": "2022-12-06T21:09:32.129Z"
   },
   {
    "duration": 181,
    "start_time": "2022-12-06T21:09:34.218Z"
   },
   {
    "duration": 28,
    "start_time": "2022-12-06T21:09:47.721Z"
   },
   {
    "duration": 180,
    "start_time": "2022-12-06T21:09:51.577Z"
   },
   {
    "duration": 22,
    "start_time": "2022-12-06T21:10:08.761Z"
   },
   {
    "duration": 158,
    "start_time": "2022-12-06T21:11:00.977Z"
   },
   {
    "duration": 151,
    "start_time": "2022-12-06T21:11:09.969Z"
   },
   {
    "duration": 143,
    "start_time": "2022-12-06T21:11:13.480Z"
   },
   {
    "duration": 148,
    "start_time": "2022-12-06T21:11:25.549Z"
   },
   {
    "duration": 155,
    "start_time": "2022-12-06T21:11:31.648Z"
   },
   {
    "duration": 56,
    "start_time": "2022-12-06T21:11:39.800Z"
   },
   {
    "duration": 56,
    "start_time": "2022-12-06T21:11:45.864Z"
   },
   {
    "duration": 142,
    "start_time": "2022-12-06T21:12:07.984Z"
   },
   {
    "duration": 166,
    "start_time": "2022-12-06T21:12:11.423Z"
   },
   {
    "duration": 250,
    "start_time": "2022-12-06T21:12:15.760Z"
   },
   {
    "duration": 82,
    "start_time": "2022-12-06T21:12:20.783Z"
   },
   {
    "duration": 146,
    "start_time": "2022-12-06T21:12:24.255Z"
   },
   {
    "duration": 140,
    "start_time": "2022-12-06T21:12:39.879Z"
   },
   {
    "duration": 149,
    "start_time": "2022-12-06T21:13:07.513Z"
   },
   {
    "duration": 12,
    "start_time": "2022-12-06T21:20:50.436Z"
   },
   {
    "duration": 18,
    "start_time": "2022-12-06T21:20:56.019Z"
   },
   {
    "duration": 9,
    "start_time": "2022-12-06T21:21:06.324Z"
   },
   {
    "duration": 257,
    "start_time": "2022-12-06T21:25:33.425Z"
   },
   {
    "duration": 193,
    "start_time": "2022-12-06T21:25:40.082Z"
   },
   {
    "duration": 211,
    "start_time": "2022-12-06T21:25:49.257Z"
   },
   {
    "duration": 18,
    "start_time": "2022-12-06T21:26:10.002Z"
   },
   {
    "duration": 14,
    "start_time": "2022-12-06T21:26:46.266Z"
   },
   {
    "duration": 14,
    "start_time": "2022-12-06T21:29:27.016Z"
   },
   {
    "duration": 497,
    "start_time": "2022-12-06T21:29:57.755Z"
   },
   {
    "duration": 32,
    "start_time": "2022-12-06T21:29:58.255Z"
   },
   {
    "duration": 16,
    "start_time": "2022-12-06T21:29:58.289Z"
   },
   {
    "duration": 40,
    "start_time": "2022-12-06T21:29:58.307Z"
   },
   {
    "duration": 51,
    "start_time": "2022-12-06T21:29:58.349Z"
   },
   {
    "duration": 3,
    "start_time": "2022-12-06T21:29:58.401Z"
   },
   {
    "duration": 26,
    "start_time": "2022-12-06T21:29:58.406Z"
   },
   {
    "duration": 31,
    "start_time": "2022-12-06T21:29:58.433Z"
   },
   {
    "duration": 15,
    "start_time": "2022-12-06T21:29:58.465Z"
   },
   {
    "duration": 7,
    "start_time": "2022-12-06T21:29:58.483Z"
   },
   {
    "duration": 62,
    "start_time": "2022-12-06T21:29:58.491Z"
   },
   {
    "duration": 10,
    "start_time": "2022-12-06T21:29:58.555Z"
   },
   {
    "duration": 30,
    "start_time": "2022-12-06T21:29:58.566Z"
   },
   {
    "duration": 27,
    "start_time": "2022-12-06T21:29:58.597Z"
   },
   {
    "duration": 42,
    "start_time": "2022-12-06T21:29:58.626Z"
   },
   {
    "duration": 33,
    "start_time": "2022-12-06T21:29:58.670Z"
   },
   {
    "duration": 4,
    "start_time": "2022-12-06T21:29:58.705Z"
   },
   {
    "duration": 48,
    "start_time": "2022-12-06T21:29:58.710Z"
   },
   {
    "duration": 21,
    "start_time": "2022-12-06T21:29:58.760Z"
   },
   {
    "duration": 35,
    "start_time": "2022-12-06T21:29:58.783Z"
   },
   {
    "duration": 36,
    "start_time": "2022-12-06T21:29:58.820Z"
   },
   {
    "duration": 62,
    "start_time": "2022-12-06T21:29:58.857Z"
   },
   {
    "duration": 9,
    "start_time": "2022-12-06T21:29:58.921Z"
   },
   {
    "duration": 458,
    "start_time": "2022-12-06T21:29:58.931Z"
   },
   {
    "duration": 22,
    "start_time": "2022-12-06T21:29:59.391Z"
   },
   {
    "duration": 197,
    "start_time": "2022-12-06T21:29:59.415Z"
   },
   {
    "duration": 37,
    "start_time": "2022-12-06T21:29:59.614Z"
   },
   {
    "duration": 161,
    "start_time": "2022-12-06T21:29:59.654Z"
   },
   {
    "duration": 483,
    "start_time": "2022-12-06T21:30:27.008Z"
   },
   {
    "duration": 21,
    "start_time": "2022-12-06T21:30:27.493Z"
   },
   {
    "duration": 29,
    "start_time": "2022-12-06T21:30:27.516Z"
   },
   {
    "duration": 9,
    "start_time": "2022-12-06T21:30:27.549Z"
   },
   {
    "duration": 34,
    "start_time": "2022-12-06T21:30:27.560Z"
   },
   {
    "duration": 3,
    "start_time": "2022-12-06T21:30:27.596Z"
   },
   {
    "duration": 12,
    "start_time": "2022-12-06T21:30:27.600Z"
   },
   {
    "duration": 26,
    "start_time": "2022-12-06T21:30:27.613Z"
   },
   {
    "duration": 17,
    "start_time": "2022-12-06T21:30:27.641Z"
   },
   {
    "duration": 4,
    "start_time": "2022-12-06T21:30:27.661Z"
   },
   {
    "duration": 41,
    "start_time": "2022-12-06T21:30:27.666Z"
   },
   {
    "duration": 28,
    "start_time": "2022-12-06T21:30:27.708Z"
   },
   {
    "duration": 9,
    "start_time": "2022-12-06T21:30:27.739Z"
   },
   {
    "duration": 15,
    "start_time": "2022-12-06T21:30:27.750Z"
   },
   {
    "duration": 25,
    "start_time": "2022-12-06T21:30:27.767Z"
   },
   {
    "duration": 17,
    "start_time": "2022-12-06T21:30:27.794Z"
   },
   {
    "duration": 3,
    "start_time": "2022-12-06T21:30:27.813Z"
   },
   {
    "duration": 24,
    "start_time": "2022-12-06T21:30:27.818Z"
   },
   {
    "duration": 14,
    "start_time": "2022-12-06T21:30:27.843Z"
   },
   {
    "duration": 7,
    "start_time": "2022-12-06T21:30:27.859Z"
   },
   {
    "duration": 12,
    "start_time": "2022-12-06T21:30:27.867Z"
   },
   {
    "duration": 25,
    "start_time": "2022-12-06T21:30:27.881Z"
   },
   {
    "duration": 5,
    "start_time": "2022-12-06T21:30:27.907Z"
   },
   {
    "duration": 443,
    "start_time": "2022-12-06T21:30:27.913Z"
   },
   {
    "duration": 23,
    "start_time": "2022-12-06T21:30:28.358Z"
   },
   {
    "duration": 182,
    "start_time": "2022-12-06T21:30:28.383Z"
   },
   {
    "duration": 21,
    "start_time": "2022-12-06T21:30:28.567Z"
   },
   {
    "duration": 161,
    "start_time": "2022-12-06T21:30:28.591Z"
   },
   {
    "duration": 55,
    "start_time": "2022-12-07T19:44:17.985Z"
   },
   {
    "duration": 718,
    "start_time": "2022-12-07T19:48:00.937Z"
   },
   {
    "duration": 25,
    "start_time": "2022-12-07T19:48:01.657Z"
   },
   {
    "duration": 55,
    "start_time": "2022-12-07T19:48:01.684Z"
   },
   {
    "duration": 88,
    "start_time": "2022-12-07T19:48:01.741Z"
   },
   {
    "duration": 125,
    "start_time": "2022-12-07T19:48:01.831Z"
   },
   {
    "duration": 4,
    "start_time": "2022-12-07T19:48:01.958Z"
   },
   {
    "duration": 45,
    "start_time": "2022-12-07T19:48:01.964Z"
   },
   {
    "duration": 51,
    "start_time": "2022-12-07T19:48:02.011Z"
   },
   {
    "duration": 75,
    "start_time": "2022-12-07T19:48:02.064Z"
   },
   {
    "duration": 22,
    "start_time": "2022-12-07T19:48:02.142Z"
   },
   {
    "duration": 67,
    "start_time": "2022-12-07T19:48:02.166Z"
   },
   {
    "duration": 11,
    "start_time": "2022-12-07T19:48:02.235Z"
   },
   {
    "duration": 46,
    "start_time": "2022-12-07T19:48:02.248Z"
   },
   {
    "duration": 64,
    "start_time": "2022-12-07T19:48:02.296Z"
   },
   {
    "duration": 61,
    "start_time": "2022-12-07T19:48:02.362Z"
   },
   {
    "duration": 25,
    "start_time": "2022-12-07T19:48:02.425Z"
   },
   {
    "duration": 24,
    "start_time": "2022-12-07T19:48:02.451Z"
   },
   {
    "duration": 64,
    "start_time": "2022-12-07T19:48:02.477Z"
   },
   {
    "duration": 40,
    "start_time": "2022-12-07T19:48:02.543Z"
   },
   {
    "duration": 41,
    "start_time": "2022-12-07T19:48:02.584Z"
   },
   {
    "duration": 22,
    "start_time": "2022-12-07T19:48:02.627Z"
   },
   {
    "duration": 36,
    "start_time": "2022-12-07T19:48:02.651Z"
   },
   {
    "duration": 10,
    "start_time": "2022-12-07T19:48:02.689Z"
   },
   {
    "duration": 620,
    "start_time": "2022-12-07T19:48:02.701Z"
   },
   {
    "duration": 26,
    "start_time": "2022-12-07T19:48:03.323Z"
   },
   {
    "duration": 199,
    "start_time": "2022-12-07T19:48:03.351Z"
   },
   {
    "duration": 23,
    "start_time": "2022-12-07T19:48:03.552Z"
   },
   {
    "duration": 3,
    "start_time": "2022-12-07T19:48:03.578Z"
   },
   {
    "duration": 41,
    "start_time": "2022-12-07T19:48:54.376Z"
   },
   {
    "duration": 5,
    "start_time": "2022-12-07T19:48:56.062Z"
   },
   {
    "duration": 157,
    "start_time": "2022-12-07T19:48:57.102Z"
   },
   {
    "duration": 273,
    "start_time": "2022-12-07T19:49:10.487Z"
   },
   {
    "duration": 107,
    "start_time": "2022-12-07T19:55:22.476Z"
   },
   {
    "duration": 26,
    "start_time": "2022-12-07T19:55:30.699Z"
   },
   {
    "duration": 27,
    "start_time": "2022-12-07T19:56:00.516Z"
   },
   {
    "duration": 24,
    "start_time": "2022-12-07T19:56:53.763Z"
   },
   {
    "duration": 24,
    "start_time": "2022-12-07T20:00:12.211Z"
   },
   {
    "duration": 24,
    "start_time": "2022-12-07T20:00:20.651Z"
   },
   {
    "duration": 25,
    "start_time": "2022-12-07T20:00:26.489Z"
   },
   {
    "duration": 23,
    "start_time": "2022-12-07T20:00:32.193Z"
   },
   {
    "duration": 35,
    "start_time": "2022-12-07T20:01:36.513Z"
   },
   {
    "duration": 22,
    "start_time": "2022-12-07T20:03:25.232Z"
   },
   {
    "duration": 33,
    "start_time": "2022-12-07T20:03:32.751Z"
   },
   {
    "duration": 23,
    "start_time": "2022-12-07T20:04:45.238Z"
   },
   {
    "duration": 22,
    "start_time": "2022-12-07T20:04:59.462Z"
   },
   {
    "duration": 23,
    "start_time": "2022-12-07T20:05:04.439Z"
   },
   {
    "duration": 24,
    "start_time": "2022-12-07T20:05:09.407Z"
   },
   {
    "duration": 22,
    "start_time": "2022-12-07T20:05:14.743Z"
   },
   {
    "duration": 25,
    "start_time": "2022-12-07T20:05:19.094Z"
   },
   {
    "duration": 35,
    "start_time": "2022-12-07T20:05:22.153Z"
   },
   {
    "duration": 22,
    "start_time": "2022-12-07T20:05:25.967Z"
   },
   {
    "duration": 21,
    "start_time": "2022-12-07T20:05:28.702Z"
   },
   {
    "duration": 26,
    "start_time": "2022-12-07T20:06:06.639Z"
   },
   {
    "duration": 5,
    "start_time": "2022-12-07T20:06:09.199Z"
   },
   {
    "duration": 177,
    "start_time": "2022-12-07T20:06:11.102Z"
   },
   {
    "duration": 701,
    "start_time": "2022-12-07T20:06:34.992Z"
   },
   {
    "duration": 168,
    "start_time": "2022-12-07T20:06:43.062Z"
   },
   {
    "duration": 170,
    "start_time": "2022-12-07T20:06:51.389Z"
   },
   {
    "duration": 21,
    "start_time": "2022-12-07T20:07:20.631Z"
   },
   {
    "duration": 24,
    "start_time": "2022-12-07T20:07:23.685Z"
   },
   {
    "duration": 24,
    "start_time": "2022-12-07T20:07:29.133Z"
   },
   {
    "duration": 5,
    "start_time": "2022-12-07T20:07:42.197Z"
   },
   {
    "duration": 167,
    "start_time": "2022-12-07T20:07:43.205Z"
   },
   {
    "duration": 23,
    "start_time": "2022-12-07T20:07:50.758Z"
   },
   {
    "duration": 25,
    "start_time": "2022-12-07T20:08:05.546Z"
   },
   {
    "duration": 27,
    "start_time": "2022-12-07T20:08:10.877Z"
   },
   {
    "duration": 168,
    "start_time": "2022-12-07T20:08:13.428Z"
   },
   {
    "duration": 740,
    "start_time": "2022-12-07T20:08:23.581Z"
   },
   {
    "duration": 25,
    "start_time": "2022-12-07T20:08:32.884Z"
   },
   {
    "duration": 4,
    "start_time": "2022-12-07T20:08:35.813Z"
   },
   {
    "duration": 270,
    "start_time": "2022-12-07T20:08:39.588Z"
   },
   {
    "duration": 15,
    "start_time": "2022-12-07T20:09:38.419Z"
   },
   {
    "duration": 26,
    "start_time": "2022-12-07T20:10:12.092Z"
   },
   {
    "duration": 24,
    "start_time": "2022-12-07T20:11:01.300Z"
   },
   {
    "duration": 26,
    "start_time": "2022-12-07T20:11:30.756Z"
   },
   {
    "duration": 179,
    "start_time": "2022-12-07T20:11:53.507Z"
   },
   {
    "duration": 153,
    "start_time": "2022-12-07T20:12:17.225Z"
   },
   {
    "duration": 287,
    "start_time": "2022-12-07T20:12:27.066Z"
   },
   {
    "duration": 163,
    "start_time": "2022-12-07T20:12:33.515Z"
   },
   {
    "duration": 236,
    "start_time": "2022-12-07T20:12:50.643Z"
   },
   {
    "duration": 166,
    "start_time": "2022-12-07T20:13:17.630Z"
   },
   {
    "duration": 503,
    "start_time": "2022-12-07T20:32:45.000Z"
   },
   {
    "duration": 25,
    "start_time": "2022-12-07T20:32:45.505Z"
   },
   {
    "duration": 18,
    "start_time": "2022-12-07T20:32:45.531Z"
   },
   {
    "duration": 28,
    "start_time": "2022-12-07T20:32:45.552Z"
   },
   {
    "duration": 45,
    "start_time": "2022-12-07T20:32:45.581Z"
   },
   {
    "duration": 4,
    "start_time": "2022-12-07T20:32:45.628Z"
   },
   {
    "duration": 30,
    "start_time": "2022-12-07T20:32:45.634Z"
   },
   {
    "duration": 23,
    "start_time": "2022-12-07T20:32:45.666Z"
   },
   {
    "duration": 27,
    "start_time": "2022-12-07T20:32:45.691Z"
   },
   {
    "duration": 11,
    "start_time": "2022-12-07T20:32:45.721Z"
   },
   {
    "duration": 58,
    "start_time": "2022-12-07T20:32:45.733Z"
   },
   {
    "duration": 9,
    "start_time": "2022-12-07T20:32:45.793Z"
   },
   {
    "duration": 16,
    "start_time": "2022-12-07T20:32:45.803Z"
   },
   {
    "duration": 29,
    "start_time": "2022-12-07T20:32:45.820Z"
   },
   {
    "duration": 30,
    "start_time": "2022-12-07T20:32:45.851Z"
   },
   {
    "duration": 29,
    "start_time": "2022-12-07T20:32:45.883Z"
   },
   {
    "duration": 8,
    "start_time": "2022-12-07T20:32:45.914Z"
   },
   {
    "duration": 34,
    "start_time": "2022-12-07T20:32:45.923Z"
   },
   {
    "duration": 23,
    "start_time": "2022-12-07T20:32:45.959Z"
   },
   {
    "duration": 28,
    "start_time": "2022-12-07T20:32:45.984Z"
   },
   {
    "duration": 24,
    "start_time": "2022-12-07T20:32:46.014Z"
   },
   {
    "duration": 53,
    "start_time": "2022-12-07T20:32:46.040Z"
   },
   {
    "duration": 6,
    "start_time": "2022-12-07T20:32:46.095Z"
   },
   {
    "duration": 470,
    "start_time": "2022-12-07T20:32:46.103Z"
   },
   {
    "duration": 40,
    "start_time": "2022-12-07T20:32:46.575Z"
   },
   {
    "duration": 210,
    "start_time": "2022-12-07T20:32:46.617Z"
   },
   {
    "duration": 25,
    "start_time": "2022-12-07T20:32:46.829Z"
   },
   {
    "duration": 4,
    "start_time": "2022-12-07T20:32:46.857Z"
   },
   {
    "duration": 305,
    "start_time": "2022-12-07T20:32:46.863Z"
   },
   {
    "duration": 25,
    "start_time": "2022-12-07T20:32:47.170Z"
   },
   {
    "duration": 180,
    "start_time": "2022-12-07T20:32:47.196Z"
   },
   {
    "duration": 513,
    "start_time": "2022-12-07T20:32:53.776Z"
   },
   {
    "duration": 23,
    "start_time": "2022-12-07T20:32:54.292Z"
   },
   {
    "duration": 16,
    "start_time": "2022-12-07T20:32:54.317Z"
   },
   {
    "duration": 9,
    "start_time": "2022-12-07T20:32:54.335Z"
   },
   {
    "duration": 38,
    "start_time": "2022-12-07T20:32:54.345Z"
   },
   {
    "duration": 4,
    "start_time": "2022-12-07T20:32:54.384Z"
   },
   {
    "duration": 9,
    "start_time": "2022-12-07T20:32:54.412Z"
   },
   {
    "duration": 5,
    "start_time": "2022-12-07T20:32:54.423Z"
   },
   {
    "duration": 9,
    "start_time": "2022-12-07T20:32:54.430Z"
   },
   {
    "duration": 5,
    "start_time": "2022-12-07T20:32:54.442Z"
   },
   {
    "duration": 70,
    "start_time": "2022-12-07T20:32:54.448Z"
   },
   {
    "duration": 11,
    "start_time": "2022-12-07T20:32:54.520Z"
   },
   {
    "duration": 8,
    "start_time": "2022-12-07T20:32:54.533Z"
   },
   {
    "duration": 13,
    "start_time": "2022-12-07T20:32:54.544Z"
   },
   {
    "duration": 23,
    "start_time": "2022-12-07T20:32:54.559Z"
   },
   {
    "duration": 45,
    "start_time": "2022-12-07T20:32:54.584Z"
   },
   {
    "duration": 5,
    "start_time": "2022-12-07T20:32:54.631Z"
   },
   {
    "duration": 22,
    "start_time": "2022-12-07T20:32:54.638Z"
   },
   {
    "duration": 19,
    "start_time": "2022-12-07T20:32:54.662Z"
   },
   {
    "duration": 9,
    "start_time": "2022-12-07T20:32:54.683Z"
   },
   {
    "duration": 20,
    "start_time": "2022-12-07T20:32:54.693Z"
   },
   {
    "duration": 37,
    "start_time": "2022-12-07T20:32:54.715Z"
   },
   {
    "duration": 5,
    "start_time": "2022-12-07T20:32:54.754Z"
   },
   {
    "duration": 443,
    "start_time": "2022-12-07T20:32:54.760Z"
   },
   {
    "duration": 31,
    "start_time": "2022-12-07T20:32:55.205Z"
   },
   {
    "duration": 181,
    "start_time": "2022-12-07T20:32:55.238Z"
   },
   {
    "duration": 25,
    "start_time": "2022-12-07T20:32:55.421Z"
   },
   {
    "duration": 4,
    "start_time": "2022-12-07T20:32:55.449Z"
   },
   {
    "duration": 317,
    "start_time": "2022-12-07T20:32:55.455Z"
   },
   {
    "duration": 26,
    "start_time": "2022-12-07T20:32:55.774Z"
   },
   {
    "duration": 171,
    "start_time": "2022-12-07T20:32:55.812Z"
   },
   {
    "duration": 488,
    "start_time": "2022-12-08T05:18:29.641Z"
   },
   {
    "duration": 33,
    "start_time": "2022-12-08T05:18:30.132Z"
   },
   {
    "duration": 16,
    "start_time": "2022-12-08T05:18:30.167Z"
   },
   {
    "duration": 12,
    "start_time": "2022-12-08T05:18:30.184Z"
   },
   {
    "duration": 76,
    "start_time": "2022-12-08T05:18:30.198Z"
   },
   {
    "duration": 3,
    "start_time": "2022-12-08T05:18:30.276Z"
   },
   {
    "duration": 70,
    "start_time": "2022-12-08T05:18:30.281Z"
   },
   {
    "duration": 5,
    "start_time": "2022-12-08T05:18:30.352Z"
   },
   {
    "duration": 13,
    "start_time": "2022-12-08T05:18:30.358Z"
   },
   {
    "duration": 26,
    "start_time": "2022-12-08T05:18:30.372Z"
   },
   {
    "duration": 68,
    "start_time": "2022-12-08T05:18:30.400Z"
   },
   {
    "duration": 10,
    "start_time": "2022-12-08T05:18:30.469Z"
   },
   {
    "duration": 4,
    "start_time": "2022-12-08T05:18:30.480Z"
   },
   {
    "duration": 35,
    "start_time": "2022-12-08T05:18:30.487Z"
   },
   {
    "duration": 64,
    "start_time": "2022-12-08T05:18:30.528Z"
   },
   {
    "duration": 28,
    "start_time": "2022-12-08T05:18:30.594Z"
   },
   {
    "duration": 24,
    "start_time": "2022-12-08T05:18:30.624Z"
   },
   {
    "duration": 29,
    "start_time": "2022-12-08T05:18:30.650Z"
   },
   {
    "duration": 20,
    "start_time": "2022-12-08T05:18:30.680Z"
   },
   {
    "duration": 43,
    "start_time": "2022-12-08T05:18:30.702Z"
   },
   {
    "duration": 20,
    "start_time": "2022-12-08T05:18:30.747Z"
   },
   {
    "duration": 31,
    "start_time": "2022-12-08T05:18:30.769Z"
   },
   {
    "duration": 4,
    "start_time": "2022-12-08T05:18:30.802Z"
   },
   {
    "duration": 666,
    "start_time": "2022-12-08T05:18:30.807Z"
   },
   {
    "duration": 40,
    "start_time": "2022-12-08T05:18:31.476Z"
   },
   {
    "duration": 191,
    "start_time": "2022-12-08T05:18:31.524Z"
   },
   {
    "duration": 32,
    "start_time": "2022-12-08T05:18:31.716Z"
   },
   {
    "duration": 8,
    "start_time": "2022-12-08T05:18:31.750Z"
   },
   {
    "duration": 306,
    "start_time": "2022-12-08T05:18:31.759Z"
   },
   {
    "duration": 38,
    "start_time": "2022-12-08T05:18:32.067Z"
   },
   {
    "duration": 169,
    "start_time": "2022-12-08T05:18:32.118Z"
   },
   {
    "duration": 45,
    "start_time": "2022-12-08T20:44:33.872Z"
   },
   {
    "duration": 1008,
    "start_time": "2022-12-08T20:44:38.745Z"
   },
   {
    "duration": 21,
    "start_time": "2022-12-08T20:44:39.754Z"
   },
   {
    "duration": 16,
    "start_time": "2022-12-08T20:44:39.777Z"
   },
   {
    "duration": 8,
    "start_time": "2022-12-08T20:44:39.795Z"
   },
   {
    "duration": 20,
    "start_time": "2022-12-08T20:44:42.044Z"
   },
   {
    "duration": 20,
    "start_time": "2022-12-08T20:45:08.645Z"
   },
   {
    "duration": 10,
    "start_time": "2022-12-08T20:45:13.620Z"
   },
   {
    "duration": 20,
    "start_time": "2022-12-08T20:45:21.332Z"
   },
   {
    "duration": 29,
    "start_time": "2022-12-08T20:45:53.364Z"
   },
   {
    "duration": 378,
    "start_time": "2022-12-08T20:46:00.996Z"
   },
   {
    "duration": 23,
    "start_time": "2022-12-08T20:46:08.947Z"
   },
   {
    "duration": 17,
    "start_time": "2022-12-08T20:46:22.979Z"
   },
   {
    "duration": 47,
    "start_time": "2022-12-08T20:47:12.228Z"
   },
   {
    "duration": 44,
    "start_time": "2022-12-08T20:47:23.491Z"
   },
   {
    "duration": 16,
    "start_time": "2022-12-08T20:47:28.845Z"
   },
   {
    "duration": 24,
    "start_time": "2022-12-08T20:48:10.275Z"
   },
   {
    "duration": 8,
    "start_time": "2022-12-08T20:48:18.588Z"
   },
   {
    "duration": 8,
    "start_time": "2022-12-08T20:48:35.066Z"
   },
   {
    "duration": 18,
    "start_time": "2022-12-08T20:48:51.450Z"
   },
   {
    "duration": 8,
    "start_time": "2022-12-08T20:51:43.681Z"
   },
   {
    "duration": 7,
    "start_time": "2022-12-08T20:51:47.656Z"
   },
   {
    "duration": 19,
    "start_time": "2022-12-08T20:52:03.569Z"
   },
   {
    "duration": 5,
    "start_time": "2022-12-08T20:53:03.193Z"
   },
   {
    "duration": 19,
    "start_time": "2022-12-08T20:53:11.384Z"
   },
   {
    "duration": 11,
    "start_time": "2022-12-08T20:54:30.880Z"
   },
   {
    "duration": 24,
    "start_time": "2022-12-08T20:54:46.694Z"
   },
   {
    "duration": 45,
    "start_time": "2022-12-09T17:05:45.279Z"
   },
   {
    "duration": 7,
    "start_time": "2022-12-09T17:05:48.610Z"
   },
   {
    "duration": 0,
    "start_time": "2022-12-09T17:05:48.619Z"
   },
   {
    "duration": 0,
    "start_time": "2022-12-09T17:05:48.620Z"
   },
   {
    "duration": 0,
    "start_time": "2022-12-09T17:05:48.622Z"
   },
   {
    "duration": 0,
    "start_time": "2022-12-09T17:05:48.623Z"
   },
   {
    "duration": 0,
    "start_time": "2022-12-09T17:05:48.625Z"
   },
   {
    "duration": 0,
    "start_time": "2022-12-09T17:05:48.627Z"
   },
   {
    "duration": 0,
    "start_time": "2022-12-09T17:05:48.628Z"
   },
   {
    "duration": 0,
    "start_time": "2022-12-09T17:05:48.630Z"
   },
   {
    "duration": 0,
    "start_time": "2022-12-09T17:05:48.631Z"
   },
   {
    "duration": 774,
    "start_time": "2022-12-09T17:05:51.874Z"
   },
   {
    "duration": 22,
    "start_time": "2022-12-09T17:05:52.650Z"
   },
   {
    "duration": 15,
    "start_time": "2022-12-09T17:05:52.674Z"
   },
   {
    "duration": 9,
    "start_time": "2022-12-09T17:05:52.691Z"
   },
   {
    "duration": 31,
    "start_time": "2022-12-09T17:05:52.702Z"
   },
   {
    "duration": 34,
    "start_time": "2022-12-09T17:05:52.735Z"
   },
   {
    "duration": 3,
    "start_time": "2022-12-09T17:05:52.771Z"
   },
   {
    "duration": 16,
    "start_time": "2022-12-09T17:05:52.776Z"
   },
   {
    "duration": 25,
    "start_time": "2022-12-09T17:05:52.794Z"
   },
   {
    "duration": 9,
    "start_time": "2022-12-09T17:05:52.823Z"
   },
   {
    "duration": 6,
    "start_time": "2022-12-09T17:05:52.833Z"
   },
   {
    "duration": 42,
    "start_time": "2022-12-09T17:05:52.841Z"
   },
   {
    "duration": 9,
    "start_time": "2022-12-09T17:05:52.884Z"
   },
   {
    "duration": 4,
    "start_time": "2022-12-09T17:05:52.915Z"
   },
   {
    "duration": 19,
    "start_time": "2022-12-09T17:05:52.920Z"
   },
   {
    "duration": 22,
    "start_time": "2022-12-09T17:05:52.940Z"
   },
   {
    "duration": 16,
    "start_time": "2022-12-09T17:05:52.964Z"
   },
   {
    "duration": 3,
    "start_time": "2022-12-09T17:05:52.982Z"
   },
   {
    "duration": 31,
    "start_time": "2022-12-09T17:05:52.987Z"
   },
   {
    "duration": 11,
    "start_time": "2022-12-09T17:05:53.019Z"
   },
   {
    "duration": 5,
    "start_time": "2022-12-09T17:05:53.032Z"
   },
   {
    "duration": 20,
    "start_time": "2022-12-09T17:05:53.038Z"
   },
   {
    "duration": 27,
    "start_time": "2022-12-09T17:05:53.060Z"
   },
   {
    "duration": 62,
    "start_time": "2022-12-09T17:05:53.088Z"
   },
   {
    "duration": 0,
    "start_time": "2022-12-09T17:05:53.152Z"
   },
   {
    "duration": 0,
    "start_time": "2022-12-09T17:05:53.153Z"
   },
   {
    "duration": 0,
    "start_time": "2022-12-09T17:05:53.155Z"
   },
   {
    "duration": 0,
    "start_time": "2022-12-09T17:05:53.156Z"
   },
   {
    "duration": 0,
    "start_time": "2022-12-09T17:05:53.157Z"
   },
   {
    "duration": 0,
    "start_time": "2022-12-09T17:05:53.158Z"
   },
   {
    "duration": 0,
    "start_time": "2022-12-09T17:05:53.159Z"
   },
   {
    "duration": 0,
    "start_time": "2022-12-09T17:05:53.161Z"
   },
   {
    "duration": 0,
    "start_time": "2022-12-09T17:05:53.162Z"
   },
   {
    "duration": 9,
    "start_time": "2022-12-09T17:06:03.587Z"
   },
   {
    "duration": 6,
    "start_time": "2022-12-09T17:07:51.338Z"
   },
   {
    "duration": 13,
    "start_time": "2022-12-09T17:07:55.595Z"
   },
   {
    "duration": 9,
    "start_time": "2022-12-09T17:08:06.398Z"
   },
   {
    "duration": 6,
    "start_time": "2022-12-09T17:08:14.098Z"
   },
   {
    "duration": 5,
    "start_time": "2022-12-09T17:08:20.948Z"
   },
   {
    "duration": 568,
    "start_time": "2022-12-09T17:08:49.851Z"
   },
   {
    "duration": 6,
    "start_time": "2022-12-09T17:09:21.139Z"
   },
   {
    "duration": 7,
    "start_time": "2022-12-09T17:09:40.041Z"
   },
   {
    "duration": 18,
    "start_time": "2022-12-09T17:10:04.810Z"
   },
   {
    "duration": 10,
    "start_time": "2022-12-09T17:10:12.683Z"
   },
   {
    "duration": 7,
    "start_time": "2022-12-09T17:10:17.129Z"
   },
   {
    "duration": 9,
    "start_time": "2022-12-09T17:18:01.157Z"
   },
   {
    "duration": 436,
    "start_time": "2022-12-09T17:18:13.447Z"
   },
   {
    "duration": 22,
    "start_time": "2022-12-09T17:18:13.884Z"
   },
   {
    "duration": 14,
    "start_time": "2022-12-09T17:18:13.908Z"
   },
   {
    "duration": 10,
    "start_time": "2022-12-09T17:18:13.924Z"
   },
   {
    "duration": 20,
    "start_time": "2022-12-09T17:18:13.936Z"
   },
   {
    "duration": 37,
    "start_time": "2022-12-09T17:18:13.957Z"
   },
   {
    "duration": 20,
    "start_time": "2022-12-09T17:18:13.996Z"
   },
   {
    "duration": 11,
    "start_time": "2022-12-09T17:18:14.018Z"
   },
   {
    "duration": 4,
    "start_time": "2022-12-09T17:18:14.030Z"
   },
   {
    "duration": 12,
    "start_time": "2022-12-09T17:18:14.036Z"
   },
   {
    "duration": 5,
    "start_time": "2022-12-09T17:18:14.049Z"
   },
   {
    "duration": 59,
    "start_time": "2022-12-09T17:18:14.056Z"
   },
   {
    "duration": 9,
    "start_time": "2022-12-09T17:18:14.117Z"
   },
   {
    "duration": 3,
    "start_time": "2022-12-09T17:18:14.129Z"
   },
   {
    "duration": 12,
    "start_time": "2022-12-09T17:18:14.133Z"
   },
   {
    "duration": 22,
    "start_time": "2022-12-09T17:18:14.147Z"
   },
   {
    "duration": 20,
    "start_time": "2022-12-09T17:18:14.171Z"
   },
   {
    "duration": 22,
    "start_time": "2022-12-09T17:18:14.193Z"
   },
   {
    "duration": 13,
    "start_time": "2022-12-09T17:18:14.217Z"
   },
   {
    "duration": 9,
    "start_time": "2022-12-09T17:18:14.231Z"
   },
   {
    "duration": 7,
    "start_time": "2022-12-09T17:18:14.241Z"
   },
   {
    "duration": 14,
    "start_time": "2022-12-09T17:18:14.249Z"
   },
   {
    "duration": 23,
    "start_time": "2022-12-09T17:18:14.264Z"
   },
   {
    "duration": 5,
    "start_time": "2022-12-09T17:18:14.289Z"
   },
   {
    "duration": 364,
    "start_time": "2022-12-09T17:18:14.316Z"
   },
   {
    "duration": 21,
    "start_time": "2022-12-09T17:18:14.681Z"
   },
   {
    "duration": 158,
    "start_time": "2022-12-09T17:18:14.704Z"
   },
   {
    "duration": 22,
    "start_time": "2022-12-09T17:18:14.863Z"
   },
   {
    "duration": 4,
    "start_time": "2022-12-09T17:18:14.886Z"
   },
   {
    "duration": 276,
    "start_time": "2022-12-09T17:18:14.891Z"
   },
   {
    "duration": 23,
    "start_time": "2022-12-09T17:18:15.168Z"
   },
   {
    "duration": 159,
    "start_time": "2022-12-09T17:18:15.193Z"
   },
   {
    "duration": 9,
    "start_time": "2022-12-09T17:21:11.381Z"
   },
   {
    "duration": 10,
    "start_time": "2022-12-09T17:21:56.458Z"
   },
   {
    "duration": 9,
    "start_time": "2022-12-09T17:22:04.899Z"
   },
   {
    "duration": 12,
    "start_time": "2022-12-09T17:22:09.258Z"
   },
   {
    "duration": 15,
    "start_time": "2022-12-09T17:22:12.210Z"
   },
   {
    "duration": 20,
    "start_time": "2022-12-09T17:22:16.349Z"
   },
   {
    "duration": 74,
    "start_time": "2022-12-09T17:22:18.953Z"
   },
   {
    "duration": 69,
    "start_time": "2022-12-09T17:22:24.060Z"
   },
   {
    "duration": 18,
    "start_time": "2022-12-09T17:22:26.362Z"
   },
   {
    "duration": 11,
    "start_time": "2022-12-09T17:22:29.003Z"
   },
   {
    "duration": 19,
    "start_time": "2022-12-09T17:22:29.322Z"
   },
   {
    "duration": 31,
    "start_time": "2022-12-09T17:22:29.753Z"
   }
  ],
  "colab": {
   "name": "dpp_template_part2.ipynb",
   "provenance": []
  },
  "kernelspec": {
   "display_name": "Python 3 (ipykernel)",
   "language": "python",
   "name": "python3"
  },
  "language_info": {
   "codemirror_mode": {
    "name": "ipython",
    "version": 3
   },
   "file_extension": ".py",
   "mimetype": "text/x-python",
   "name": "python",
   "nbconvert_exporter": "python",
   "pygments_lexer": "ipython3",
   "version": "3.9.5"
  },
  "toc": {
   "base_numbering": 1,
   "nav_menu": {
    "height": "333.767px",
    "width": "832.535px"
   },
   "number_sections": true,
   "sideBar": true,
   "skip_h1_title": true,
   "title_cell": "Исследование надежности заемщиков",
   "title_sidebar": "Contents",
   "toc_cell": false,
   "toc_position": {
    "height": "calc(100% - 180px)",
    "left": "10px",
    "top": "150px",
    "width": "337.778px"
   },
   "toc_section_display": true,
   "toc_window_display": false
  }
 },
 "nbformat": 4,
 "nbformat_minor": 5
}
