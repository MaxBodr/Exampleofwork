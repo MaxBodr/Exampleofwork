{
 "cells": [
  {
   "attachments": {},
   "cell_type": "markdown",
   "metadata": {},
   "source": [
    "# Проверка гипотез и A/B теста"
   ]
  },
  {
   "attachments": {},
   "cell_type": "markdown",
   "metadata": {},
   "source": [
    "**В рамках проекта я сотрудничаю с отделом маркетинга интернет-магазина и мы подготовили список гипотез для увеличения выручки. Чтобы определить наиболее эффективные способы увеличения выручки, мы решили приоритизировать гипотезы и запустить A/B-тесты. Цель проекта - выявить наиболее эффективные изменения, которые помогут увеличить выручку интернет-магазина. После запуска тестов мы проанализируем полученные результаты и вынесем рекомендации для улучшения бизнес-показателей магазина.**"
   ]
  },
  {
   "cell_type": "code",
   "execution_count": 1,
   "metadata": {},
   "outputs": [],
   "source": [
    "import pandas as pd\n",
    "import matplotlib.pyplot as plt\n",
    "import numpy as np\n",
    "import datetime as dt\n",
    "import math as mth\n",
    "import scipy.stats as stats"
   ]
  },
  {
   "cell_type": "code",
   "execution_count": 2,
   "metadata": {},
   "outputs": [],
   "source": [
    "plt.rcParams[\"figure.figsize\"] = (15,5)"
   ]
  },
  {
   "attachments": {},
   "cell_type": "markdown",
   "metadata": {},
   "source": [
    "## Изучение данных"
   ]
  },
  {
   "cell_type": "code",
   "execution_count": 3,
   "metadata": {},
   "outputs": [],
   "source": [
    "visitors = pd.read_csv('/datasets/visitors.csv')\n",
    "hypothesis = pd.read_csv('/datasets/hypothesis.csv')\n",
    "orders = pd.read_csv('/datasets/orders.csv')"
   ]
  },
  {
   "cell_type": "code",
   "execution_count": 4,
   "metadata": {},
   "outputs": [
    {
     "data": {
      "text/html": [
       "<div>\n",
       "<style scoped>\n",
       "    .dataframe tbody tr th:only-of-type {\n",
       "        vertical-align: middle;\n",
       "    }\n",
       "\n",
       "    .dataframe tbody tr th {\n",
       "        vertical-align: top;\n",
       "    }\n",
       "\n",
       "    .dataframe thead th {\n",
       "        text-align: right;\n",
       "    }\n",
       "</style>\n",
       "<table border=\"1\" class=\"dataframe\">\n",
       "  <thead>\n",
       "    <tr style=\"text-align: right;\">\n",
       "      <th></th>\n",
       "      <th>date</th>\n",
       "      <th>group</th>\n",
       "      <th>visitors</th>\n",
       "    </tr>\n",
       "  </thead>\n",
       "  <tbody>\n",
       "    <tr>\n",
       "      <th>0</th>\n",
       "      <td>2019-08-01</td>\n",
       "      <td>A</td>\n",
       "      <td>719</td>\n",
       "    </tr>\n",
       "    <tr>\n",
       "      <th>1</th>\n",
       "      <td>2019-08-02</td>\n",
       "      <td>A</td>\n",
       "      <td>619</td>\n",
       "    </tr>\n",
       "    <tr>\n",
       "      <th>2</th>\n",
       "      <td>2019-08-03</td>\n",
       "      <td>A</td>\n",
       "      <td>507</td>\n",
       "    </tr>\n",
       "    <tr>\n",
       "      <th>3</th>\n",
       "      <td>2019-08-04</td>\n",
       "      <td>A</td>\n",
       "      <td>717</td>\n",
       "    </tr>\n",
       "    <tr>\n",
       "      <th>4</th>\n",
       "      <td>2019-08-05</td>\n",
       "      <td>A</td>\n",
       "      <td>756</td>\n",
       "    </tr>\n",
       "  </tbody>\n",
       "</table>\n",
       "</div>"
      ],
      "text/plain": [
       "         date group  visitors\n",
       "0  2019-08-01     A       719\n",
       "1  2019-08-02     A       619\n",
       "2  2019-08-03     A       507\n",
       "3  2019-08-04     A       717\n",
       "4  2019-08-05     A       756"
      ]
     },
     "execution_count": 4,
     "metadata": {},
     "output_type": "execute_result"
    }
   ],
   "source": [
    "visitors.head()"
   ]
  },
  {
   "cell_type": "code",
   "execution_count": 5,
   "metadata": {},
   "outputs": [
    {
     "name": "stdout",
     "output_type": "stream",
     "text": [
      "<class 'pandas.core.frame.DataFrame'>\n",
      "RangeIndex: 62 entries, 0 to 61\n",
      "Data columns (total 3 columns):\n",
      " #   Column    Non-Null Count  Dtype \n",
      "---  ------    --------------  ----- \n",
      " 0   date      62 non-null     object\n",
      " 1   group     62 non-null     object\n",
      " 2   visitors  62 non-null     int64 \n",
      "dtypes: int64(1), object(2)\n",
      "memory usage: 1.6+ KB\n"
     ]
    }
   ],
   "source": [
    "visitors.info()"
   ]
  },
  {
   "cell_type": "code",
   "execution_count": 6,
   "metadata": {},
   "outputs": [
    {
     "data": {
      "text/html": [
       "<div>\n",
       "<style scoped>\n",
       "    .dataframe tbody tr th:only-of-type {\n",
       "        vertical-align: middle;\n",
       "    }\n",
       "\n",
       "    .dataframe tbody tr th {\n",
       "        vertical-align: top;\n",
       "    }\n",
       "\n",
       "    .dataframe thead th {\n",
       "        text-align: right;\n",
       "    }\n",
       "</style>\n",
       "<table border=\"1\" class=\"dataframe\">\n",
       "  <thead>\n",
       "    <tr style=\"text-align: right;\">\n",
       "      <th></th>\n",
       "      <th>Hypothesis</th>\n",
       "      <th>Reach</th>\n",
       "      <th>Impact</th>\n",
       "      <th>Confidence</th>\n",
       "      <th>Efforts</th>\n",
       "    </tr>\n",
       "  </thead>\n",
       "  <tbody>\n",
       "    <tr>\n",
       "      <th>0</th>\n",
       "      <td>Добавить два новых канала привлечения трафика, что позволит привлекать на 30% больше пользователей</td>\n",
       "      <td>3</td>\n",
       "      <td>10</td>\n",
       "      <td>8</td>\n",
       "      <td>6</td>\n",
       "    </tr>\n",
       "    <tr>\n",
       "      <th>1</th>\n",
       "      <td>Запустить собственную службу доставки, что сократит срок доставки заказов</td>\n",
       "      <td>2</td>\n",
       "      <td>5</td>\n",
       "      <td>4</td>\n",
       "      <td>10</td>\n",
       "    </tr>\n",
       "    <tr>\n",
       "      <th>2</th>\n",
       "      <td>Добавить блоки рекомендаций товаров на сайт интернет магазина, чтобы повысить конверсию и средний чек заказа</td>\n",
       "      <td>8</td>\n",
       "      <td>3</td>\n",
       "      <td>7</td>\n",
       "      <td>3</td>\n",
       "    </tr>\n",
       "    <tr>\n",
       "      <th>3</th>\n",
       "      <td>Изменить структура категорий, что увеличит конверсию, т.к. пользователи быстрее найдут нужный товар</td>\n",
       "      <td>8</td>\n",
       "      <td>3</td>\n",
       "      <td>3</td>\n",
       "      <td>8</td>\n",
       "    </tr>\n",
       "    <tr>\n",
       "      <th>4</th>\n",
       "      <td>Изменить цвет фона главной страницы, чтобы увеличить вовлеченность пользователей</td>\n",
       "      <td>3</td>\n",
       "      <td>1</td>\n",
       "      <td>1</td>\n",
       "      <td>1</td>\n",
       "    </tr>\n",
       "    <tr>\n",
       "      <th>5</th>\n",
       "      <td>Добавить страницу отзывов клиентов о магазине, что позволит увеличить количество заказов</td>\n",
       "      <td>3</td>\n",
       "      <td>2</td>\n",
       "      <td>2</td>\n",
       "      <td>3</td>\n",
       "    </tr>\n",
       "    <tr>\n",
       "      <th>6</th>\n",
       "      <td>Показать на главной странице баннеры с актуальными акциями и распродажами, чтобы увеличить конверсию</td>\n",
       "      <td>5</td>\n",
       "      <td>3</td>\n",
       "      <td>8</td>\n",
       "      <td>3</td>\n",
       "    </tr>\n",
       "    <tr>\n",
       "      <th>7</th>\n",
       "      <td>Добавить форму подписки на все основные страницы, чтобы собрать базу клиентов для email-рассылок</td>\n",
       "      <td>10</td>\n",
       "      <td>7</td>\n",
       "      <td>8</td>\n",
       "      <td>5</td>\n",
       "    </tr>\n",
       "    <tr>\n",
       "      <th>8</th>\n",
       "      <td>Запустить акцию, дающую скидку на товар в день рождения</td>\n",
       "      <td>1</td>\n",
       "      <td>9</td>\n",
       "      <td>9</td>\n",
       "      <td>5</td>\n",
       "    </tr>\n",
       "  </tbody>\n",
       "</table>\n",
       "</div>"
      ],
      "text/plain": [
       "                                                                                                     Hypothesis  \\\n",
       "0            Добавить два новых канала привлечения трафика, что позволит привлекать на 30% больше пользователей   \n",
       "1                                     Запустить собственную службу доставки, что сократит срок доставки заказов   \n",
       "2  Добавить блоки рекомендаций товаров на сайт интернет магазина, чтобы повысить конверсию и средний чек заказа   \n",
       "3           Изменить структура категорий, что увеличит конверсию, т.к. пользователи быстрее найдут нужный товар   \n",
       "4                              Изменить цвет фона главной страницы, чтобы увеличить вовлеченность пользователей   \n",
       "5                      Добавить страницу отзывов клиентов о магазине, что позволит увеличить количество заказов   \n",
       "6          Показать на главной странице баннеры с актуальными акциями и распродажами, чтобы увеличить конверсию   \n",
       "7              Добавить форму подписки на все основные страницы, чтобы собрать базу клиентов для email-рассылок   \n",
       "8                                                       Запустить акцию, дающую скидку на товар в день рождения   \n",
       "\n",
       "   Reach  Impact  Confidence  Efforts  \n",
       "0      3      10           8        6  \n",
       "1      2       5           4       10  \n",
       "2      8       3           7        3  \n",
       "3      8       3           3        8  \n",
       "4      3       1           1        1  \n",
       "5      3       2           2        3  \n",
       "6      5       3           8        3  \n",
       "7     10       7           8        5  \n",
       "8      1       9           9        5  "
      ]
     },
     "execution_count": 6,
     "metadata": {},
     "output_type": "execute_result"
    }
   ],
   "source": [
    "pd.options.display.max_colwidth=150\n",
    "hypothesis"
   ]
  },
  {
   "cell_type": "code",
   "execution_count": 7,
   "metadata": {},
   "outputs": [
    {
     "name": "stdout",
     "output_type": "stream",
     "text": [
      "<class 'pandas.core.frame.DataFrame'>\n",
      "RangeIndex: 1197 entries, 0 to 1196\n",
      "Data columns (total 5 columns):\n",
      " #   Column         Non-Null Count  Dtype \n",
      "---  ------         --------------  ----- \n",
      " 0   transactionId  1197 non-null   int64 \n",
      " 1   visitorId      1197 non-null   int64 \n",
      " 2   date           1197 non-null   object\n",
      " 3   revenue        1197 non-null   int64 \n",
      " 4   group          1197 non-null   object\n",
      "dtypes: int64(3), object(2)\n",
      "memory usage: 46.9+ KB\n"
     ]
    }
   ],
   "source": [
    "orders.info()"
   ]
  },
  {
   "cell_type": "code",
   "execution_count": 8,
   "metadata": {},
   "outputs": [
    {
     "data": {
      "text/html": [
       "<div>\n",
       "<style scoped>\n",
       "    .dataframe tbody tr th:only-of-type {\n",
       "        vertical-align: middle;\n",
       "    }\n",
       "\n",
       "    .dataframe tbody tr th {\n",
       "        vertical-align: top;\n",
       "    }\n",
       "\n",
       "    .dataframe thead th {\n",
       "        text-align: right;\n",
       "    }\n",
       "</style>\n",
       "<table border=\"1\" class=\"dataframe\">\n",
       "  <thead>\n",
       "    <tr style=\"text-align: right;\">\n",
       "      <th></th>\n",
       "      <th>transactionId</th>\n",
       "      <th>visitorId</th>\n",
       "      <th>date</th>\n",
       "      <th>revenue</th>\n",
       "      <th>group</th>\n",
       "    </tr>\n",
       "  </thead>\n",
       "  <tbody>\n",
       "    <tr>\n",
       "      <th>0</th>\n",
       "      <td>3667963787</td>\n",
       "      <td>3312258926</td>\n",
       "      <td>2019-08-15</td>\n",
       "      <td>1650</td>\n",
       "      <td>B</td>\n",
       "    </tr>\n",
       "    <tr>\n",
       "      <th>1</th>\n",
       "      <td>2804400009</td>\n",
       "      <td>3642806036</td>\n",
       "      <td>2019-08-15</td>\n",
       "      <td>730</td>\n",
       "      <td>B</td>\n",
       "    </tr>\n",
       "    <tr>\n",
       "      <th>2</th>\n",
       "      <td>2961555356</td>\n",
       "      <td>4069496402</td>\n",
       "      <td>2019-08-15</td>\n",
       "      <td>400</td>\n",
       "      <td>A</td>\n",
       "    </tr>\n",
       "    <tr>\n",
       "      <th>3</th>\n",
       "      <td>3797467345</td>\n",
       "      <td>1196621759</td>\n",
       "      <td>2019-08-15</td>\n",
       "      <td>9759</td>\n",
       "      <td>B</td>\n",
       "    </tr>\n",
       "    <tr>\n",
       "      <th>4</th>\n",
       "      <td>2282983706</td>\n",
       "      <td>2322279887</td>\n",
       "      <td>2019-08-15</td>\n",
       "      <td>2308</td>\n",
       "      <td>B</td>\n",
       "    </tr>\n",
       "  </tbody>\n",
       "</table>\n",
       "</div>"
      ],
      "text/plain": [
       "   transactionId   visitorId        date  revenue group\n",
       "0     3667963787  3312258926  2019-08-15     1650     B\n",
       "1     2804400009  3642806036  2019-08-15      730     B\n",
       "2     2961555356  4069496402  2019-08-15      400     A\n",
       "3     3797467345  1196621759  2019-08-15     9759     B\n",
       "4     2282983706  2322279887  2019-08-15     2308     B"
      ]
     },
     "execution_count": 8,
     "metadata": {},
     "output_type": "execute_result"
    }
   ],
   "source": [
    "orders.head()"
   ]
  },
  {
   "attachments": {},
   "cell_type": "markdown",
   "metadata": {},
   "source": [
    "## Подготвка данных"
   ]
  },
  {
   "cell_type": "code",
   "execution_count": 9,
   "metadata": {},
   "outputs": [],
   "source": [
    "#Приведем все таблицы к нормальному регистру\n",
    "orders.rename(columns = {'transactionId':'transaction_id', 'visitorId':'visitor_id'}, inplace = True )\n",
    "hypothesis.rename(columns = {'Hypothesis':'hypothesis', 'Reach':'reach', 'Impact':'impact', 'Confidence':'confidence'\\\n",
    "                             , 'Efforts':'efforts'}, inplace = True )"
   ]
  },
  {
   "cell_type": "code",
   "execution_count": 10,
   "metadata": {},
   "outputs": [
    {
     "name": "stdout",
     "output_type": "stream",
     "text": [
      "Повторы: 58\n"
     ]
    }
   ],
   "source": [
    "#Проверим пользователей\n",
    "duplicated_user = []\n",
    "for x in orders[orders['group']=='A']['visitor_id'].unique():\n",
    "    if x in orders[orders['group']=='B']['visitor_id'].unique():        \n",
    "        duplicated_user.append(x)\n",
    "print('Повторы:', len(duplicated_user))"
   ]
  },
  {
   "cell_type": "code",
   "execution_count": 11,
   "metadata": {},
   "outputs": [],
   "source": [
    "# И удалим их\n",
    "orders = orders.loc[~orders['visitor_id'].isin(duplicated_user)].reset_index(drop=True)"
   ]
  },
  {
   "cell_type": "code",
   "execution_count": 12,
   "metadata": {},
   "outputs": [],
   "source": [
    "#Приведем данные к нужному типу\n",
    "orders = orders.astype({'date': \"datetime64\"})\n",
    "visitors = visitors.astype({'date': \"datetime64\"})"
   ]
  },
  {
   "attachments": {},
   "cell_type": "markdown",
   "metadata": {},
   "source": [
    "**Промежуточные выводы**\\\n",
    "В данных были люди относящиеся к обеим группам. Так же привели все таблицы к необходимому виду и можем продолжать работать"
   ]
  },
  {
   "cell_type": "code",
   "execution_count": 13,
   "metadata": {},
   "outputs": [
    {
     "data": {
      "text/plain": [
       "array(['B', 'A'], dtype=object)"
      ]
     },
     "execution_count": 13,
     "metadata": {},
     "output_type": "execute_result"
    }
   ],
   "source": [
    "#Проверим какой у нас тест парный или множественный\n",
    "orders['group'].unique()"
   ]
  },
  {
   "cell_type": "code",
   "execution_count": 14,
   "metadata": {},
   "outputs": [
    {
     "name": "stdout",
     "output_type": "stream",
     "text": [
      "Дата начала теста:  2019-08-01 00:00:00\n",
      "Дата окончания теста:  2019-08-31 00:00:00\n"
     ]
    }
   ],
   "source": [
    "#Посмотрим дату начала и дату окончания теста\n",
    "print('Дата начала теста: ',orders['date'].min())\n",
    "print('Дата окончания теста: ', orders['date'].max())"
   ]
  },
  {
   "cell_type": "code",
   "execution_count": 15,
   "metadata": {
    "scrolled": false
   },
   "outputs": [
    {
     "data": {
      "text/plain": [
       "group\n",
       "A    445\n",
       "B    528\n",
       "Name: visitor_id, dtype: int64"
      ]
     },
     "execution_count": 15,
     "metadata": {},
     "output_type": "execute_result"
    }
   ],
   "source": [
    "#Проверим равенство групп\n",
    "orders.groupby('group')['visitor_id'].nunique()"
   ]
  },
  {
   "attachments": {},
   "cell_type": "markdown",
   "metadata": {},
   "source": [
    "Видно, что группы не очень сбалансированы на 83 человек больше в группе В"
   ]
  },
  {
   "cell_type": "code",
   "execution_count": 16,
   "metadata": {},
   "outputs": [
    {
     "name": "stdout",
     "output_type": "stream",
     "text": [
      "Кол-во дубликатов orders = 0\n",
      "Кол-во дубликатов visitors = 0\n",
      "Кол-во пропусков orders = 0\n",
      "Кол-во пропусков visitor = 0\n"
     ]
    }
   ],
   "source": [
    "#Проверим пропуски и дубликаты\n",
    "print(\"Кол-во дубликатов orders =\",orders.duplicated().sum())\n",
    "print(\"Кол-во дубликатов visitors =\",visitors.duplicated().sum())\n",
    "\n",
    "print(\"Кол-во пропусков orders =\",orders.isnull().sum().sum())\n",
    "print(\"Кол-во пропусков visitor =\",orders.isnull().sum().sum())"
   ]
  },
  {
   "attachments": {},
   "cell_type": "markdown",
   "metadata": {},
   "source": [
    "Нет ни пропусков, ни дубликатов"
   ]
  },
  {
   "attachments": {},
   "cell_type": "markdown",
   "metadata": {},
   "source": [
    "## Часть 1. Приоритизация гипотез."
   ]
  },
  {
   "cell_type": "code",
   "execution_count": 17,
   "metadata": {},
   "outputs": [
    {
     "data": {
      "text/html": [
       "<div>\n",
       "<style scoped>\n",
       "    .dataframe tbody tr th:only-of-type {\n",
       "        vertical-align: middle;\n",
       "    }\n",
       "\n",
       "    .dataframe tbody tr th {\n",
       "        vertical-align: top;\n",
       "    }\n",
       "\n",
       "    .dataframe thead th {\n",
       "        text-align: right;\n",
       "    }\n",
       "</style>\n",
       "<table border=\"1\" class=\"dataframe\">\n",
       "  <thead>\n",
       "    <tr style=\"text-align: right;\">\n",
       "      <th></th>\n",
       "      <th>hypothesis</th>\n",
       "      <th>reach</th>\n",
       "      <th>impact</th>\n",
       "      <th>confidence</th>\n",
       "      <th>efforts</th>\n",
       "    </tr>\n",
       "  </thead>\n",
       "  <tbody>\n",
       "    <tr>\n",
       "      <th>0</th>\n",
       "      <td>Добавить два новых канала привлечения трафика, что позволит привлекать на 30% больше пользователей</td>\n",
       "      <td>3</td>\n",
       "      <td>10</td>\n",
       "      <td>8</td>\n",
       "      <td>6</td>\n",
       "    </tr>\n",
       "    <tr>\n",
       "      <th>1</th>\n",
       "      <td>Запустить собственную службу доставки, что сократит срок доставки заказов</td>\n",
       "      <td>2</td>\n",
       "      <td>5</td>\n",
       "      <td>4</td>\n",
       "      <td>10</td>\n",
       "    </tr>\n",
       "    <tr>\n",
       "      <th>2</th>\n",
       "      <td>Добавить блоки рекомендаций товаров на сайт интернет магазина, чтобы повысить конверсию и средний чек заказа</td>\n",
       "      <td>8</td>\n",
       "      <td>3</td>\n",
       "      <td>7</td>\n",
       "      <td>3</td>\n",
       "    </tr>\n",
       "    <tr>\n",
       "      <th>3</th>\n",
       "      <td>Изменить структура категорий, что увеличит конверсию, т.к. пользователи быстрее найдут нужный товар</td>\n",
       "      <td>8</td>\n",
       "      <td>3</td>\n",
       "      <td>3</td>\n",
       "      <td>8</td>\n",
       "    </tr>\n",
       "    <tr>\n",
       "      <th>4</th>\n",
       "      <td>Изменить цвет фона главной страницы, чтобы увеличить вовлеченность пользователей</td>\n",
       "      <td>3</td>\n",
       "      <td>1</td>\n",
       "      <td>1</td>\n",
       "      <td>1</td>\n",
       "    </tr>\n",
       "  </tbody>\n",
       "</table>\n",
       "</div>"
      ],
      "text/plain": [
       "                                                                                                     hypothesis  \\\n",
       "0            Добавить два новых канала привлечения трафика, что позволит привлекать на 30% больше пользователей   \n",
       "1                                     Запустить собственную службу доставки, что сократит срок доставки заказов   \n",
       "2  Добавить блоки рекомендаций товаров на сайт интернет магазина, чтобы повысить конверсию и средний чек заказа   \n",
       "3           Изменить структура категорий, что увеличит конверсию, т.к. пользователи быстрее найдут нужный товар   \n",
       "4                              Изменить цвет фона главной страницы, чтобы увеличить вовлеченность пользователей   \n",
       "\n",
       "   reach  impact  confidence  efforts  \n",
       "0      3      10           8        6  \n",
       "1      2       5           4       10  \n",
       "2      8       3           7        3  \n",
       "3      8       3           3        8  \n",
       "4      3       1           1        1  "
      ]
     },
     "execution_count": 17,
     "metadata": {},
     "output_type": "execute_result"
    }
   ],
   "source": [
    "hypothesis.head()"
   ]
  },
  {
   "cell_type": "code",
   "execution_count": 18,
   "metadata": {},
   "outputs": [
    {
     "data": {
      "text/html": [
       "<div>\n",
       "<style scoped>\n",
       "    .dataframe tbody tr th:only-of-type {\n",
       "        vertical-align: middle;\n",
       "    }\n",
       "\n",
       "    .dataframe tbody tr th {\n",
       "        vertical-align: top;\n",
       "    }\n",
       "\n",
       "    .dataframe thead th {\n",
       "        text-align: right;\n",
       "    }\n",
       "</style>\n",
       "<table border=\"1\" class=\"dataframe\">\n",
       "  <thead>\n",
       "    <tr style=\"text-align: right;\">\n",
       "      <th></th>\n",
       "      <th>hypothesis</th>\n",
       "      <th>ICE</th>\n",
       "    </tr>\n",
       "  </thead>\n",
       "  <tbody>\n",
       "    <tr>\n",
       "      <th>8</th>\n",
       "      <td>Запустить акцию, дающую скидку на товар в день рождения</td>\n",
       "      <td>16.20</td>\n",
       "    </tr>\n",
       "    <tr>\n",
       "      <th>0</th>\n",
       "      <td>Добавить два новых канала привлечения трафика, что позволит п...</td>\n",
       "      <td>13.33</td>\n",
       "    </tr>\n",
       "    <tr>\n",
       "      <th>7</th>\n",
       "      <td>Добавить форму подписки на все основные страницы, чтобы собра...</td>\n",
       "      <td>11.20</td>\n",
       "    </tr>\n",
       "    <tr>\n",
       "      <th>6</th>\n",
       "      <td>Показать на главной странице баннеры с актуальными акциями и ...</td>\n",
       "      <td>8.00</td>\n",
       "    </tr>\n",
       "    <tr>\n",
       "      <th>2</th>\n",
       "      <td>Добавить блоки рекомендаций товаров на сайт интернет магазина...</td>\n",
       "      <td>7.00</td>\n",
       "    </tr>\n",
       "    <tr>\n",
       "      <th>1</th>\n",
       "      <td>Запустить собственную службу доставки, что сократит срок дост...</td>\n",
       "      <td>2.00</td>\n",
       "    </tr>\n",
       "    <tr>\n",
       "      <th>5</th>\n",
       "      <td>Добавить страницу отзывов клиентов о магазине, что позволит у...</td>\n",
       "      <td>1.33</td>\n",
       "    </tr>\n",
       "    <tr>\n",
       "      <th>3</th>\n",
       "      <td>Изменить структура категорий, что увеличит конверсию, т.к. по...</td>\n",
       "      <td>1.12</td>\n",
       "    </tr>\n",
       "    <tr>\n",
       "      <th>4</th>\n",
       "      <td>Изменить цвет фона главной страницы, чтобы увеличить вовлечен...</td>\n",
       "      <td>1.00</td>\n",
       "    </tr>\n",
       "  </tbody>\n",
       "</table>\n",
       "</div>"
      ],
      "text/plain": [
       "                                                         hypothesis    ICE\n",
       "8           Запустить акцию, дающую скидку на товар в день рождения  16.20\n",
       "0  Добавить два новых канала привлечения трафика, что позволит п...  13.33\n",
       "7  Добавить форму подписки на все основные страницы, чтобы собра...  11.20\n",
       "6  Показать на главной странице баннеры с актуальными акциями и ...   8.00\n",
       "2  Добавить блоки рекомендаций товаров на сайт интернет магазина...   7.00\n",
       "1  Запустить собственную службу доставки, что сократит срок дост...   2.00\n",
       "5  Добавить страницу отзывов клиентов о магазине, что позволит у...   1.33\n",
       "3  Изменить структура категорий, что увеличит конверсию, т.к. по...   1.12\n",
       "4  Изменить цвет фона главной страницы, чтобы увеличить вовлечен...   1.00"
      ]
     },
     "metadata": {},
     "output_type": "display_data"
    }
   ],
   "source": [
    "pd.options.display.max_colwidth=65\n",
    "hypothesis['ICE'] = round((hypothesis['impact']*hypothesis['confidence'])/hypothesis['efforts'],2)\n",
    "display(hypothesis[['hypothesis','ICE']].sort_values('ICE',ascending=False))"
   ]
  },
  {
   "cell_type": "code",
   "execution_count": 19,
   "metadata": {},
   "outputs": [
    {
     "data": {
      "text/html": [
       "<div>\n",
       "<style scoped>\n",
       "    .dataframe tbody tr th:only-of-type {\n",
       "        vertical-align: middle;\n",
       "    }\n",
       "\n",
       "    .dataframe tbody tr th {\n",
       "        vertical-align: top;\n",
       "    }\n",
       "\n",
       "    .dataframe thead th {\n",
       "        text-align: right;\n",
       "    }\n",
       "</style>\n",
       "<table border=\"1\" class=\"dataframe\">\n",
       "  <thead>\n",
       "    <tr style=\"text-align: right;\">\n",
       "      <th></th>\n",
       "      <th>hypothesis</th>\n",
       "      <th>RICE</th>\n",
       "    </tr>\n",
       "  </thead>\n",
       "  <tbody>\n",
       "    <tr>\n",
       "      <th>7</th>\n",
       "      <td>Добавить форму подписки на все основные страницы, чтобы собра...</td>\n",
       "      <td>112.0</td>\n",
       "    </tr>\n",
       "    <tr>\n",
       "      <th>2</th>\n",
       "      <td>Добавить блоки рекомендаций товаров на сайт интернет магазина...</td>\n",
       "      <td>56.0</td>\n",
       "    </tr>\n",
       "    <tr>\n",
       "      <th>0</th>\n",
       "      <td>Добавить два новых канала привлечения трафика, что позволит п...</td>\n",
       "      <td>40.0</td>\n",
       "    </tr>\n",
       "    <tr>\n",
       "      <th>6</th>\n",
       "      <td>Показать на главной странице баннеры с актуальными акциями и ...</td>\n",
       "      <td>40.0</td>\n",
       "    </tr>\n",
       "    <tr>\n",
       "      <th>8</th>\n",
       "      <td>Запустить акцию, дающую скидку на товар в день рождения</td>\n",
       "      <td>16.2</td>\n",
       "    </tr>\n",
       "    <tr>\n",
       "      <th>3</th>\n",
       "      <td>Изменить структура категорий, что увеличит конверсию, т.к. по...</td>\n",
       "      <td>9.0</td>\n",
       "    </tr>\n",
       "    <tr>\n",
       "      <th>1</th>\n",
       "      <td>Запустить собственную службу доставки, что сократит срок дост...</td>\n",
       "      <td>4.0</td>\n",
       "    </tr>\n",
       "    <tr>\n",
       "      <th>5</th>\n",
       "      <td>Добавить страницу отзывов клиентов о магазине, что позволит у...</td>\n",
       "      <td>4.0</td>\n",
       "    </tr>\n",
       "    <tr>\n",
       "      <th>4</th>\n",
       "      <td>Изменить цвет фона главной страницы, чтобы увеличить вовлечен...</td>\n",
       "      <td>3.0</td>\n",
       "    </tr>\n",
       "  </tbody>\n",
       "</table>\n",
       "</div>"
      ],
      "text/plain": [
       "                                                         hypothesis   RICE\n",
       "7  Добавить форму подписки на все основные страницы, чтобы собра...  112.0\n",
       "2  Добавить блоки рекомендаций товаров на сайт интернет магазина...   56.0\n",
       "0  Добавить два новых канала привлечения трафика, что позволит п...   40.0\n",
       "6  Показать на главной странице баннеры с актуальными акциями и ...   40.0\n",
       "8           Запустить акцию, дающую скидку на товар в день рождения   16.2\n",
       "3  Изменить структура категорий, что увеличит конверсию, т.к. по...    9.0\n",
       "1  Запустить собственную службу доставки, что сократит срок дост...    4.0\n",
       "5  Добавить страницу отзывов клиентов о магазине, что позволит у...    4.0\n",
       "4  Изменить цвет фона главной страницы, чтобы увеличить вовлечен...    3.0"
      ]
     },
     "metadata": {},
     "output_type": "display_data"
    }
   ],
   "source": [
    "hypothesis['RICE'] = round((hypothesis['reach']*hypothesis['impact']*hypothesis['confidence'])/hypothesis['efforts'],2)\n",
    "display(hypothesis[['hypothesis','RICE']].sort_values('RICE',ascending=False))"
   ]
  },
  {
   "attachments": {},
   "cell_type": "markdown",
   "metadata": {},
   "source": [
    "**Как можем заметить при сортировке по ICE первыми были 8,0,7 гипотеза, а при RICE 7,2,0. Такое случилось из-за того, что ICE не включает в себя оценку охвата пользователей. Так что небольшие изменения, но охватывающие всех пользователей в RICE будут лучше видны, чем в ICE.**"
   ]
  },
  {
   "attachments": {},
   "cell_type": "markdown",
   "metadata": {},
   "source": [
    "## Анализ A/B теста"
   ]
  },
  {
   "attachments": {},
   "cell_type": "markdown",
   "metadata": {},
   "source": [
    "### Проанализируем данные A/B теста"
   ]
  },
  {
   "attachments": {},
   "cell_type": "markdown",
   "metadata": {},
   "source": [
    "#### График кумулятивной выручки по группам"
   ]
  },
  {
   "cell_type": "code",
   "execution_count": 20,
   "metadata": {},
   "outputs": [],
   "source": [
    "#Создам датафрейм datesGroups с уникальными парами значений 'date' и 'group'\n",
    "datesGroups = orders[['date','group']].drop_duplicates()\n",
    "ordersAggregated = datesGroups.apply(\n",
    "    lambda x: orders[np.logical_and(orders['date'] <= x['date'], orders['group'] == x['group'])].agg({\n",
    "'date' : 'max',\n",
    "'group' : 'max',\n",
    "'transaction_id' : pd.Series.nunique,\n",
    "'visitor_id' : pd.Series.nunique,\n",
    "'revenue' : 'sum'}), axis=1).sort_values(by=['date','group']) "
   ]
  },
  {
   "cell_type": "code",
   "execution_count": 21,
   "metadata": {},
   "outputs": [
    {
     "data": {
      "text/html": [
       "<div>\n",
       "<style scoped>\n",
       "    .dataframe tbody tr th:only-of-type {\n",
       "        vertical-align: middle;\n",
       "    }\n",
       "\n",
       "    .dataframe tbody tr th {\n",
       "        vertical-align: top;\n",
       "    }\n",
       "\n",
       "    .dataframe thead th {\n",
       "        text-align: right;\n",
       "    }\n",
       "</style>\n",
       "<table border=\"1\" class=\"dataframe\">\n",
       "  <thead>\n",
       "    <tr style=\"text-align: right;\">\n",
       "      <th></th>\n",
       "      <th>date</th>\n",
       "      <th>group</th>\n",
       "      <th>transaction_id</th>\n",
       "      <th>visitor_id</th>\n",
       "      <th>revenue</th>\n",
       "    </tr>\n",
       "  </thead>\n",
       "  <tbody>\n",
       "    <tr>\n",
       "      <th>45</th>\n",
       "      <td>2019-08-01</td>\n",
       "      <td>A</td>\n",
       "      <td>23</td>\n",
       "      <td>19</td>\n",
       "      <td>142779</td>\n",
       "    </tr>\n",
       "    <tr>\n",
       "      <th>54</th>\n",
       "      <td>2019-08-01</td>\n",
       "      <td>B</td>\n",
       "      <td>17</td>\n",
       "      <td>17</td>\n",
       "      <td>59758</td>\n",
       "    </tr>\n",
       "    <tr>\n",
       "      <th>149</th>\n",
       "      <td>2019-08-02</td>\n",
       "      <td>A</td>\n",
       "      <td>42</td>\n",
       "      <td>36</td>\n",
       "      <td>234381</td>\n",
       "    </tr>\n",
       "    <tr>\n",
       "      <th>147</th>\n",
       "      <td>2019-08-02</td>\n",
       "      <td>B</td>\n",
       "      <td>40</td>\n",
       "      <td>39</td>\n",
       "      <td>221801</td>\n",
       "    </tr>\n",
       "    <tr>\n",
       "      <th>245</th>\n",
       "      <td>2019-08-03</td>\n",
       "      <td>A</td>\n",
       "      <td>66</td>\n",
       "      <td>60</td>\n",
       "      <td>346854</td>\n",
       "    </tr>\n",
       "  </tbody>\n",
       "</table>\n",
       "</div>"
      ],
      "text/plain": [
       "          date group  transaction_id  visitor_id  revenue\n",
       "45  2019-08-01     A              23          19   142779\n",
       "54  2019-08-01     B              17          17    59758\n",
       "149 2019-08-02     A              42          36   234381\n",
       "147 2019-08-02     B              40          39   221801\n",
       "245 2019-08-03     A              66          60   346854"
      ]
     },
     "execution_count": 21,
     "metadata": {},
     "output_type": "execute_result"
    }
   ],
   "source": [
    "#Объявим переменную ordersAggregated\n",
    "ordersAggregated = datesGroups.apply(\n",
    "    lambda x: orders[np.logical_and(orders['date'] <= x['date'], orders['group'] == x['group'])].agg({\n",
    "'date' : 'max',\n",
    "'group' : 'max',\n",
    "'transaction_id' : pd.Series.nunique,\n",
    "'visitor_id' : pd.Series.nunique,\n",
    "'revenue' : 'sum'}), axis=1).sort_values(by=['date','group']) \n",
    "ordersAggregated.head()"
   ]
  },
  {
   "cell_type": "code",
   "execution_count": 22,
   "metadata": {},
   "outputs": [
    {
     "data": {
      "text/html": [
       "<div>\n",
       "<style scoped>\n",
       "    .dataframe tbody tr th:only-of-type {\n",
       "        vertical-align: middle;\n",
       "    }\n",
       "\n",
       "    .dataframe tbody tr th {\n",
       "        vertical-align: top;\n",
       "    }\n",
       "\n",
       "    .dataframe thead th {\n",
       "        text-align: right;\n",
       "    }\n",
       "</style>\n",
       "<table border=\"1\" class=\"dataframe\">\n",
       "  <thead>\n",
       "    <tr style=\"text-align: right;\">\n",
       "      <th></th>\n",
       "      <th>date</th>\n",
       "      <th>group</th>\n",
       "      <th>visitors</th>\n",
       "    </tr>\n",
       "  </thead>\n",
       "  <tbody>\n",
       "    <tr>\n",
       "      <th>45</th>\n",
       "      <td>2019-08-01</td>\n",
       "      <td>A</td>\n",
       "      <td>719</td>\n",
       "    </tr>\n",
       "    <tr>\n",
       "      <th>54</th>\n",
       "      <td>2019-08-01</td>\n",
       "      <td>B</td>\n",
       "      <td>713</td>\n",
       "    </tr>\n",
       "    <tr>\n",
       "      <th>149</th>\n",
       "      <td>2019-08-02</td>\n",
       "      <td>A</td>\n",
       "      <td>1338</td>\n",
       "    </tr>\n",
       "    <tr>\n",
       "      <th>147</th>\n",
       "      <td>2019-08-02</td>\n",
       "      <td>B</td>\n",
       "      <td>1294</td>\n",
       "    </tr>\n",
       "    <tr>\n",
       "      <th>245</th>\n",
       "      <td>2019-08-03</td>\n",
       "      <td>A</td>\n",
       "      <td>1845</td>\n",
       "    </tr>\n",
       "  </tbody>\n",
       "</table>\n",
       "</div>"
      ],
      "text/plain": [
       "          date group  visitors\n",
       "45  2019-08-01     A       719\n",
       "54  2019-08-01     B       713\n",
       "149 2019-08-02     A      1338\n",
       "147 2019-08-02     B      1294\n",
       "245 2019-08-03     A      1845"
      ]
     },
     "execution_count": 22,
     "metadata": {},
     "output_type": "execute_result"
    }
   ],
   "source": [
    "#Объявим переменную visitorsAggregated\n",
    "visitorsAggregated = datesGroups.apply(lambda x: visitors[np.logical_and(visitors['date'] <= x['date'],\\\n",
    "                                                                         visitors['group'] == x['group'])].agg({'date' : 'max',\\\n",
    "                                                                                                                'group' : 'max',\\\n",
    "                                                                                                                'visitors' : 'sum'}),\\\n",
    "                                       axis=1).sort_values(by=['date','group'])\n",
    "visitorsAggregated.head()"
   ]
  },
  {
   "cell_type": "code",
   "execution_count": 23,
   "metadata": {},
   "outputs": [
    {
     "data": {
      "text/html": [
       "<div>\n",
       "<style scoped>\n",
       "    .dataframe tbody tr th:only-of-type {\n",
       "        vertical-align: middle;\n",
       "    }\n",
       "\n",
       "    .dataframe tbody tr th {\n",
       "        vertical-align: top;\n",
       "    }\n",
       "\n",
       "    .dataframe thead th {\n",
       "        text-align: right;\n",
       "    }\n",
       "</style>\n",
       "<table border=\"1\" class=\"dataframe\">\n",
       "  <thead>\n",
       "    <tr style=\"text-align: right;\">\n",
       "      <th></th>\n",
       "      <th>date</th>\n",
       "      <th>group</th>\n",
       "      <th>orders</th>\n",
       "      <th>buyers</th>\n",
       "      <th>revenue</th>\n",
       "      <th>visitors</th>\n",
       "    </tr>\n",
       "  </thead>\n",
       "  <tbody>\n",
       "    <tr>\n",
       "      <th>0</th>\n",
       "      <td>2019-08-01</td>\n",
       "      <td>A</td>\n",
       "      <td>23</td>\n",
       "      <td>19</td>\n",
       "      <td>142779</td>\n",
       "      <td>719</td>\n",
       "    </tr>\n",
       "    <tr>\n",
       "      <th>1</th>\n",
       "      <td>2019-08-01</td>\n",
       "      <td>B</td>\n",
       "      <td>17</td>\n",
       "      <td>17</td>\n",
       "      <td>59758</td>\n",
       "      <td>713</td>\n",
       "    </tr>\n",
       "    <tr>\n",
       "      <th>2</th>\n",
       "      <td>2019-08-02</td>\n",
       "      <td>A</td>\n",
       "      <td>42</td>\n",
       "      <td>36</td>\n",
       "      <td>234381</td>\n",
       "      <td>1338</td>\n",
       "    </tr>\n",
       "    <tr>\n",
       "      <th>3</th>\n",
       "      <td>2019-08-02</td>\n",
       "      <td>B</td>\n",
       "      <td>40</td>\n",
       "      <td>39</td>\n",
       "      <td>221801</td>\n",
       "      <td>1294</td>\n",
       "    </tr>\n",
       "    <tr>\n",
       "      <th>4</th>\n",
       "      <td>2019-08-03</td>\n",
       "      <td>A</td>\n",
       "      <td>66</td>\n",
       "      <td>60</td>\n",
       "      <td>346854</td>\n",
       "      <td>1845</td>\n",
       "    </tr>\n",
       "  </tbody>\n",
       "</table>\n",
       "</div>"
      ],
      "text/plain": [
       "        date group  orders  buyers  revenue  visitors\n",
       "0 2019-08-01     A      23      19   142779       719\n",
       "1 2019-08-01     B      17      17    59758       713\n",
       "2 2019-08-02     A      42      36   234381      1338\n",
       "3 2019-08-02     B      40      39   221801      1294\n",
       "4 2019-08-03     A      66      60   346854      1845"
      ]
     },
     "execution_count": 23,
     "metadata": {},
     "output_type": "execute_result"
    }
   ],
   "source": [
    "#Объеденим две группы\n",
    "cumulativeData = ordersAggregated.merge(visitorsAggregated, left_on=['date', 'group'], right_on=['date', 'group'])\n",
    "cumulativeData.columns = ['date', 'group', 'orders', 'buyers', 'revenue', 'visitors']\n",
    "cumulativeData.head()"
   ]
  },
  {
   "cell_type": "code",
   "execution_count": 24,
   "metadata": {},
   "outputs": [
    {
     "data": {
      "image/png": "[encoded data removed]",
      "text/plain": [
       "<Figure size 1080x360 with 1 Axes>"
      ]
     },
     "metadata": {
      "needs_background": "light"
     },
     "output_type": "display_data"
    }
   ],
   "source": [
    "# датафрейм с кумулятивным количеством заказов и кумулятивной выручкой по дням в группе B\n",
    "cumulativeRevenueA = cumulativeData[cumulativeData['group']=='A'][['date','revenue', 'orders']]\n",
    "\n",
    "# датафрейм с кумулятивным количеством заказов и кумулятивной выручкой по дням в группе B\n",
    "cumulativeRevenueB = cumulativeData[cumulativeData['group']=='B'][['date','revenue', 'orders']]\n",
    "\n",
    "# Строим график выручки группы А\n",
    "plt.plot(cumulativeRevenueA['date'], cumulativeRevenueA['revenue'], label='A')\n",
    "\n",
    "# Строим график выручки группы B\n",
    "plt.plot(cumulativeRevenueB['date'], cumulativeRevenueB['revenue'], label='B')\n",
    "\n",
    "plt.title('Графики кумулятивной выручки')\n",
    "plt.xlabel('Даты')\n",
    "plt.ylabel('Кум.выручка группы')\n",
    "plt.xticks(rotation=90)\n",
    "plt.legend();"
   ]
  },
  {
   "attachments": {},
   "cell_type": "markdown",
   "metadata": {},
   "source": [
    "Видно, что в 17-08 произошел скачок группы B. Это может сигнализировать о всплесках числа заказов, либо о появлении очень дорогих заказов в выборке. Такие выбросы проанализируем позже. "
   ]
  },
  {
   "attachments": {},
   "cell_type": "markdown",
   "metadata": {},
   "source": [
    "#### График кумулятивного среднего чека по группам"
   ]
  },
  {
   "cell_type": "code",
   "execution_count": 25,
   "metadata": {},
   "outputs": [
    {
     "data": {
      "image/png": "[encoded data removed]",
      "text/plain": [
       "<Figure size 1080x360 with 1 Axes>"
      ]
     },
     "metadata": {
      "needs_background": "light"
     },
     "output_type": "display_data"
    }
   ],
   "source": [
    "plt.plot(cumulativeRevenueA['date'], cumulativeRevenueA['revenue']/cumulativeRevenueA['orders'], label='A')\n",
    "plt.plot(cumulativeRevenueB['date'], cumulativeRevenueB['revenue']/cumulativeRevenueB['orders'], label='B')\n",
    "plt.title('График кумулятивного среднего чека')\n",
    "plt.xlabel('Даты')\n",
    "plt.ylabel('Кум. средняя выручка группы')\n",
    "plt.xticks(rotation=90)\n",
    "plt.legend();"
   ]
  },
  {
   "attachments": {},
   "cell_type": "markdown",
   "metadata": {},
   "source": [
    "Из-за скачков пока нельзя сделать точные выводы."
   ]
  },
  {
   "attachments": {},
   "cell_type": "markdown",
   "metadata": {},
   "source": [
    "#### График относительного изменения кумулятивного среднего чека группы B к группе A"
   ]
  },
  {
   "cell_type": "code",
   "execution_count": 26,
   "metadata": {},
   "outputs": [
    {
     "data": {
      "image/png": "[encoded data removed]",
      "text/plain": [
       "<Figure size 1080x360 with 1 Axes>"
      ]
     },
     "metadata": {
      "needs_background": "light"
     },
     "output_type": "display_data"
    }
   ],
   "source": [
    "# собираем данные в одном датафрейме\n",
    "mergedCumulativeRevenue = cumulativeRevenueA.merge(cumulativeRevenueB, left_on='date', right_on='date', how='left', suffixes=['A', 'B'])\n",
    "\n",
    "# cтроим отношение средних чеков\n",
    "plt.plot(mergedCumulativeRevenue['date'], (mergedCumulativeRevenue['revenueB']/mergedCumulativeRevenue['ordersB'])/(mergedCumulativeRevenue['revenueA']/mergedCumulativeRevenue['ordersA'])-1)\n",
    "\n",
    "plt.title('График относительного изменения кумулятивного среднего чека группы B к группе A')\n",
    "plt.xlabel('Даты')\n",
    "plt.ylabel('Относительное изменение')\n",
    "plt.xticks(rotation=90)\n",
    "# добавляем ось X\n",
    "plt.axhline(y=0, color='black', linestyle='--');\n"
   ]
  },
  {
   "attachments": {},
   "cell_type": "markdown",
   "metadata": {},
   "source": [
    "Можно отследить когда совершались аномально круппные заказы по скачкам."
   ]
  },
  {
   "attachments": {},
   "cell_type": "markdown",
   "metadata": {},
   "source": [
    "#### График кумулятивного среднего количества заказов на посетителя по группам. "
   ]
  },
  {
   "cell_type": "code",
   "execution_count": 27,
   "metadata": {},
   "outputs": [
    {
     "data": {
      "image/png": "[encoded data removed]",
      "text/plain": [
       "<Figure size 1080x360 with 1 Axes>"
      ]
     },
     "metadata": {
      "needs_background": "light"
     },
     "output_type": "display_data"
    }
   ],
   "source": [
    "# считаем кумулятивную конверсию\n",
    "cumulativeData['conversion'] = cumulativeData['orders']/cumulativeData['visitors']\n",
    "\n",
    "# отделяем данные по группе A\n",
    "cumulativeDataA = cumulativeData[cumulativeData['group']=='A']\n",
    "\n",
    "# отделяем данные по группе B\n",
    "cumulativeDataB = cumulativeData[cumulativeData['group']=='B']\n",
    "\n",
    "# строим графики\n",
    "\n",
    "plt.plot(cumulativeDataA['date'], cumulativeDataA['conversion'], label='A')\n",
    "plt.plot(cumulativeDataB['date'], cumulativeDataB['conversion'], label='B')\n",
    "\n",
    "plt.title('График кумулятивного среднего количества заказов на посетителя')\n",
    "plt.xlabel('Даты')\n",
    "plt.ylabel('Кум.средняя выручка на посетителя')\n",
    "plt.xticks(rotation=90)\n",
    "plt.legend()\n",
    "\n",
    "# задаем масштаб осей\n",
    "\n",
    "plt.axis([dt.datetime(2019, 8, 1), dt.datetime(2019, 9, 1), 0.022, 0.0375]);"
   ]
  },
  {
   "attachments": {},
   "cell_type": "markdown",
   "metadata": {},
   "source": [
    "#### График относительного изменения кумулятивного среднего количества заказов на посетителя группы B к группе A. "
   ]
  },
  {
   "cell_type": "code",
   "execution_count": 28,
   "metadata": {},
   "outputs": [
    {
     "data": {
      "image/png": "[encoded data removed]",
      "text/plain": [
       "<Figure size 1080x360 with 1 Axes>"
      ]
     },
     "metadata": {
      "needs_background": "light"
     },
     "output_type": "display_data"
    }
   ],
   "source": [
    "mergedCumulativeConversions = cumulativeDataA[['date','conversion']].merge(cumulativeDataB[['date','conversion']], left_on='date', right_on='date', how='left', suffixes=['A', 'B'])\n",
    "plt.plot(mergedCumulativeConversions['date'], mergedCumulativeConversions['conversionB']/mergedCumulativeConversions['conversionA']-1, label=\"изменения кумулятивного среднего количества заказов на посетителя группы B к группе A.\")\n",
    "plt.legend()\n",
    "\n",
    "plt.title('График относительного изменения кумулятивного среднего количества заказов на посетителя группы B к группе A')\n",
    "plt.xlabel('Даты')\n",
    "plt.ylabel('Относительное изменение кумулятивного среднего')\n",
    "plt.axhline(y=0, color='black', linestyle='--')\n",
    "plt.axhline(y=-0.1, color='grey', linestyle='--')\n",
    "plt.xticks(rotation=90)\n",
    "plt.axis([dt.datetime(2019, 8, 1), dt.datetime(2019, 9, 1), -0.4,0.4]);"
   ]
  },
  {
   "attachments": {},
   "cell_type": "markdown",
   "metadata": {},
   "source": [
    "#### Постройте точечный график количества заказов по пользователям"
   ]
  },
  {
   "cell_type": "code",
   "execution_count": 29,
   "metadata": {},
   "outputs": [
    {
     "data": {
      "image/png": "[encoded data removed]",
      "text/plain": [
       "<Figure size 1080x360 with 1 Axes>"
      ]
     },
     "metadata": {
      "needs_background": "light"
     },
     "output_type": "display_data"
    }
   ],
   "source": [
    "ordersByUsers = (\n",
    "    orders.groupby('visitor_id', as_index=False)\n",
    "    .agg({'transaction_id': 'nunique'})\n",
    ")\n",
    "\n",
    "ordersByUsers.columns = ['visitor_id', 'orders']\n",
    "x_values = pd.Series(range(0,len(ordersByUsers)))\n",
    "\n",
    "plt.title('Точечный график количества заказов по пользователям')\n",
    "plt.xlabel('Число пользователей')\n",
    "plt.ylabel('Кол-во заказов')\n",
    "plt.scatter(x_values, ordersByUsers['orders']);"
   ]
  },
  {
   "attachments": {},
   "cell_type": "markdown",
   "metadata": {},
   "source": [
    "Отлично видно, что больше 1 заказа совершает очень маленький процент людей. Чтобы в этом убедиться посчитаем 95-й и 99-й перцентили"
   ]
  },
  {
   "cell_type": "code",
   "execution_count": 30,
   "metadata": {},
   "outputs": [
    {
     "data": {
      "image/png": "[encoded data removed]",
      "text/plain": [
       "<Figure size 1080x360 with 1 Axes>"
      ]
     },
     "metadata": {
      "needs_background": "light"
     },
     "output_type": "display_data"
    }
   ],
   "source": [
    "x_values = pd.Series(range(0,len(orders['revenue'])))\n",
    "plt.title('Точечный график суммы заказа по пользователям')\n",
    "plt.xlabel('Число пользователей')\n",
    "plt.ylabel('Сумма заказа')\n",
    "plt.scatter(x_values, orders['revenue']);"
   ]
  },
  {
   "cell_type": "code",
   "execution_count": 31,
   "metadata": {},
   "outputs": [
    {
     "data": {
      "image/png": "[encoded data removed]",
      "text/plain": [
       "<Figure size 1080x360 with 1 Axes>"
      ]
     },
     "metadata": {
      "needs_background": "light"
     },
     "output_type": "display_data"
    }
   ],
   "source": [
    "# Добавим график без двух больших заказов, чтобы лучше увидеть\n",
    "xn_values = pd.Series(range(0,len(orders[orders['revenue']<=195000]['revenue'])))\n",
    "plt.grid()\n",
    "plt.title('Точечный график суммы заказа по пользователям')\n",
    "plt.xlabel('Число пользователей')\n",
    "plt.ylabel('Сумма заказа')\n",
    "plt.scatter(xn_values, orders[orders['revenue']<=195000]['revenue'], alpha=0.5);"
   ]
  },
  {
   "cell_type": "code",
   "execution_count": 32,
   "metadata": {},
   "outputs": [
    {
     "name": "stdout",
     "output_type": "stream",
     "text": [
      "      transaction_id  visitor_id       date  revenue group\n",
      "365        590470918  1920142716 2019-08-19  1294500     B\n",
      "1015      3936777065  2108080724 2019-08-15   202740     B\n",
      "971        666610489  1307669133 2019-08-13    92550     A\n",
      "632       3668308183   888512513 2019-08-27    86620     B\n",
      "631       3603576309  4133034833 2019-08-09    67990     A\n",
      "939       1348774318  1164614297 2019-08-12    66350     A\n",
      "937        316924019   148427295 2019-08-12    65710     A\n",
      "811       1347999392   887908475 2019-08-21    60450     A\n",
      "802       2420050534  4003628586 2019-08-08    58550     B\n",
      "109       3163614039  2254586615 2019-08-22    53904     A\n"
     ]
    }
   ],
   "source": [
    "print(orders.sort_values(by='revenue', ascending=False).head(10))"
   ]
  },
  {
   "attachments": {},
   "cell_type": "markdown",
   "metadata": {},
   "source": [
    "#### 95-й и 99-й перцентили количества заказов и стоимости на пользователя."
   ]
  },
  {
   "cell_type": "code",
   "execution_count": 33,
   "metadata": {},
   "outputs": [
    {
     "name": "stdout",
     "output_type": "stream",
     "text": [
      "[1. 2.]\n"
     ]
    }
   ],
   "source": [
    "print(np.percentile(ordersByUsers['orders'], [95, 99])) "
   ]
  },
  {
   "cell_type": "code",
   "execution_count": 34,
   "metadata": {},
   "outputs": [
    {
     "name": "stdout",
     "output_type": "stream",
     "text": [
      "[17990. 26785. 53904.]\n"
     ]
    }
   ],
   "source": [
    "print(np.percentile(orders['revenue'], [90, 95, 99])) "
   ]
  },
  {
   "cell_type": "code",
   "execution_count": 35,
   "metadata": {},
   "outputs": [
    {
     "name": "stdout",
     "output_type": "stream",
     "text": [
      "На основе этих данных можно задать следющие границы для пользователей:\n",
      "Не более 2.0 Стоимость заказа не более 53904.0\n"
     ]
    }
   ],
   "source": [
    "print('На основе этих данных можно задать следющие границы для пользователей:')\n",
    "print('Не более {} Стоимость заказа не более {}'.format(np.percentile(ordersByUsers['orders'], 99), np.percentile(orders['revenue'], 99)))"
   ]
  },
  {
   "cell_type": "code",
   "execution_count": 36,
   "metadata": {},
   "outputs": [],
   "source": [
    "ordersByUsersA = (\n",
    "    orders[orders['group'] == 'A']\n",
    "    .groupby('visitor_id', as_index=False)\n",
    "    .agg({'transaction_id': pd.Series.nunique})\n",
    ")\n",
    "ordersByUsersA.columns = ['visitor_id', 'orders']\n",
    "\n",
    "ordersByUsersB = (\n",
    "    orders[orders['group'] == 'B']\n",
    "    .groupby('visitor_id', as_index=False)\n",
    "    .agg({'transaction_id': pd.Series.nunique})\n",
    ")\n",
    "ordersByUsersB.columns = ['visitor_id', 'orders']\n"
   ]
  },
  {
   "cell_type": "code",
   "execution_count": 37,
   "metadata": {},
   "outputs": [
    {
     "name": "stdout",
     "output_type": "stream",
     "text": [
      "Аномальных пользователей:  16\n"
     ]
    }
   ],
   "source": [
    "usersWithManyOrders = pd.concat(\n",
    "    [\n",
    "        ordersByUsersA[ordersByUsersA['orders'] > np.percentile(ordersByUsers['orders'], 99)]['visitor_id'],\n",
    "        ordersByUsersB[ordersByUsersB['orders'] > np.percentile(ordersByUsers['orders'], 99)]['visitor_id'],\n",
    "    ],\n",
    "    axis=0,\n",
    ")\n",
    "usersWithExpensiveOrders = orders[orders['revenue'] > np.percentile(orders['revenue'], 99)]['visitor_id']\n",
    "abnormalUsers = pd.concat([usersWithManyOrders, usersWithExpensiveOrders], axis = 0).drop_duplicates().sort_values()\n",
    "print(\"Аномальных пользователей: \" ,len(abnormalUsers)) "
   ]
  },
  {
   "cell_type": "code",
   "execution_count": 38,
   "metadata": {},
   "outputs": [
    {
     "data": {
      "text/plain": [
       "1.574803149606299"
      ]
     },
     "execution_count": 38,
     "metadata": {},
     "output_type": "execute_result"
    }
   ],
   "source": [
    "len(abnormalUsers)/orders['visitor_id'].count() * 100"
   ]
  },
  {
   "attachments": {},
   "cell_type": "markdown",
   "metadata": {},
   "source": [
    "Всего аномальных пользователей 1.5% и мы можем удалить их без потери информативности"
   ]
  },
  {
   "attachments": {},
   "cell_type": "markdown",
   "metadata": {},
   "source": [
    "#### Cтатистическая значимость различий в среднем количестве заказов на посетителя между группами по «сырым» данным"
   ]
  },
  {
   "attachments": {},
   "cell_type": "markdown",
   "metadata": {},
   "source": [
    "H0: Cтатистически значимых различий в среднем количестве заказов на посетителя между группами по «сырым» данным. \\\n",
    "H1: Cтатистически значимые различия в среднем количестве заказов на посетителя между группами по «сырым» данным есть."
   ]
  },
  {
   "cell_type": "code",
   "execution_count": 39,
   "metadata": {},
   "outputs": [
    {
     "name": "stdout",
     "output_type": "stream",
     "text": [
      "alpha = 0.05\n",
      "p-value = 0.011\n",
      "Относительный показатель 'B' и 'A' = 0.160\n"
     ]
    }
   ],
   "source": [
    "sampleA = pd.concat([ordersByUsersA['orders'],pd.Series(0, index=np.arange(visitors[visitors['group']=='A']['visitors'].sum() - len(ordersByUsersA['orders'])), name='orders')],axis=0)\n",
    "\n",
    "sampleB = pd.concat([ordersByUsersB['orders'],pd.Series(0, index=np.arange(visitors[visitors['group']=='B']['visitors'].sum() - len(ordersByUsersB['orders'])), name='orders')],axis=0)\n",
    "\n",
    "print(\"alpha =\",0.05)\n",
    "print(\"p-value = {0:.3f}\".format(stats.mannwhitneyu(sampleA, sampleB, alternative = 'two-sided')[1]))\n",
    "print(\"Относительный показатель 'B' и 'A' = {0:.3f}\".format(sampleB.mean()/sampleA.mean()-1)) "
   ]
  },
  {
   "attachments": {},
   "cell_type": "markdown",
   "metadata": {},
   "source": [
    "Вывод: p-value меньше 0.05. Значит, нулевую гипотезу о том, что статистически значимых различий в среднем количестве заказов на посетителя между группами по «сырым» данным - отвергаем. Получается по «сырым» данным различия в среднем количестве заказов групп A и B есть и составляет 16% в пользу группы B"
   ]
  },
  {
   "attachments": {},
   "cell_type": "markdown",
   "metadata": {},
   "source": [
    "#### Cтатистическая значимость различий в среднем чеке заказа между группами по «сырым» данным"
   ]
  },
  {
   "attachments": {},
   "cell_type": "markdown",
   "metadata": {},
   "source": [
    "H0: Статистически значимых различий в среднем чеке заказа между группами нет\\\n",
    "H1: Статистически значимые различия в среднем чеке заказа между группами есть."
   ]
  },
  {
   "cell_type": "code",
   "execution_count": 40,
   "metadata": {},
   "outputs": [
    {
     "name": "stdout",
     "output_type": "stream",
     "text": [
      "alpha = 0.05\n",
      "p-value = 0.829\n",
      "Относительный показатель 'B' и 'A' = 0.287\n"
     ]
    }
   ],
   "source": [
    "print(\"alpha =\",0.05)\n",
    "print(\"p-value = {0:.3f}\".format(stats.mannwhitneyu(orders[orders['group']=='A']['revenue'], orders[orders['group']=='B']['revenue'], alternative = 'two-sided')[1]))\n",
    "print(\"Относительный показатель 'B' и 'A' = {0:.3f}\".format(orders[orders['group']=='B']['revenue'].mean()/orders[orders['group']=='A']['revenue'].mean()-1)) "
   ]
  },
  {
   "attachments": {},
   "cell_type": "markdown",
   "metadata": {},
   "source": [
    "Хоть разница по средней цене заказа в пользу группы B, разница оказалась не такой уж большой. Поэтому нулевую гипотезу отвергать нельзя"
   ]
  },
  {
   "attachments": {},
   "cell_type": "markdown",
   "metadata": {},
   "source": [
    "#### Статистическая значимость различий в среднем количестве заказов на посетителя между группами по «очищенным» данным."
   ]
  },
  {
   "cell_type": "code",
   "execution_count": 41,
   "metadata": {},
   "outputs": [],
   "source": [
    "#Создадим две группы данных \n",
    "sampleAFiltered = pd.concat([ordersByUsersA[np.logical_not(ordersByUsersA['visitor_id'].isin(abnormalUsers))]['orders'], \\\n",
    "                             pd.Series(0, index=np.arange(visitors[visitors['group']=='A']['visitors'].sum() - len(ordersByUsersA['orders'])), \\\n",
    "                                       name='orders')],axis=0)\n",
    "\n",
    "sampleBFiltered = pd.concat([ordersByUsersB[np.logical_not(ordersByUsersB['visitor_id'].isin(abnormalUsers))]['orders'], \\\n",
    "                             pd.Series(0, index=np.arange(visitors[visitors['group']=='B']['visitors'].sum() - len(ordersByUsersB['orders'])), \\\n",
    "                                       name='orders')],axis=0) "
   ]
  },
  {
   "attachments": {},
   "cell_type": "markdown",
   "metadata": {},
   "source": [
    "H0: Статистически значимых различий в среднем количестве заказов на посетителя между группами по «очищенным» данным\\\n",
    "H1: Статистически значимые различия в среднем количестве заказов на посетителя между группами по «очищенным» данным есть."
   ]
  },
  {
   "cell_type": "code",
   "execution_count": 42,
   "metadata": {},
   "outputs": [
    {
     "name": "stdout",
     "output_type": "stream",
     "text": [
      "alpha = 0.05\n",
      "p-value = 0.007\n",
      "Относительный показатель 'B' и 'A' = 0.189\n"
     ]
    }
   ],
   "source": [
    "print(\"alpha =\",0.05)\n",
    "print(\"p-value = {0:.3f}\".format(stats.mannwhitneyu(sampleAFiltered, sampleBFiltered, alternative = 'two-sided')[1]))\n",
    "print(\"Относительный показатель 'B' и 'A' = {0:.3f}\".format(sampleBFiltered.mean()/sampleAFiltered.mean()-1)) \n"
   ]
  },
  {
   "attachments": {},
   "cell_type": "markdown",
   "metadata": {},
   "source": [
    "Вывод: p-value = 0.007 меньше 0.05. Значит, нулевую гипотезу о том, что статистически значимых различий  среднем количестве заказов на посетителя между группами по «очищенным» данным, - отвергаем. Это значит: и по «очищенным» данным различия в конверсии групп A и B есть. А относительный выигрыш группы \"B\" над \"A\" равен 19%"
   ]
  },
  {
   "attachments": {},
   "cell_type": "markdown",
   "metadata": {},
   "source": [
    "#### Статистическая значимость различий в среднем чеке заказа между группами по «очищенным» данным"
   ]
  },
  {
   "attachments": {},
   "cell_type": "markdown",
   "metadata": {},
   "source": [
    "H0: Статистически значимых различий в среднем чеке между группами между группами нет\\\n",
    "H1: Статистически значимые различия в среднем чеке между группами между группами есть."
   ]
  },
  {
   "cell_type": "code",
   "execution_count": 43,
   "metadata": {},
   "outputs": [
    {
     "name": "stdout",
     "output_type": "stream",
     "text": [
      "p-value = 0.788\n",
      "Относительный показатель 'B' и 'A' = -0.032\n"
     ]
    }
   ],
   "source": [
    "print(\n",
    "    'p-value = {0:.3f}'.format(\n",
    "        stats.mannwhitneyu(\n",
    "            orders[\n",
    "                np.logical_and(\n",
    "                    orders['group'] == 'A',\n",
    "                    np.logical_not(orders['visitor_id'].isin(abnormalUsers)),\n",
    "                )\n",
    "            ]['revenue'],\n",
    "            orders[\n",
    "                np.logical_and(\n",
    "                    orders['group'] == 'B',\n",
    "                    np.logical_not(orders['visitor_id'].isin(abnormalUsers)),\n",
    "                )\n",
    "            ]['revenue'],\n",
    "        )[1]\n",
    "    )\n",
    ")\n",
    "\n",
    "print(\n",
    "    \"Относительный показатель 'B' и 'A' = {0:.3f}\".format(\n",
    "        orders[\n",
    "            np.logical_and(\n",
    "                orders['group'] == 'B',\n",
    "                np.logical_not(orders['visitor_id'].isin(abnormalUsers)),\n",
    "            )\n",
    "        ]['revenue'].mean()\n",
    "        / orders[\n",
    "            np.logical_and(\n",
    "                orders['group'] == 'A',\n",
    "                np.logical_not(orders['visitor_id'].isin(abnormalUsers)),\n",
    "            )\n",
    "        ]['revenue'].mean()\n",
    "        - 1\n",
    "    )\n",
    ")\n"
   ]
  },
  {
   "attachments": {},
   "cell_type": "markdown",
   "metadata": {},
   "source": [
    "P-value значительно больше 0.05. Значит, причин отвергать нулевую гипотезу и считать, что в среднем чеке есть различия нет. А вот средний чек оказался почти равным. В отличие от сырых данных, где один заказ на 1.2 млн очень сильно перевесил показатели"
   ]
  },
  {
   "attachments": {},
   "cell_type": "markdown",
   "metadata": {},
   "source": [
    "## Выводы"
   ]
  },
  {
   "attachments": {},
   "cell_type": "markdown",
   "metadata": {},
   "source": [
    "По результатам тестирования было выявлено:\n",
    "И по \"сырым\" и по \"очищенным\" данным различия в среднем количестве заказов на посетителя между группами A и B есть. Относительный выигрыш группы \"B\" над \"A\" равен 19% по \"очищенным\" и 16% по \"сырым\" данным.\n",
    "\n",
    "А вот по чекам разницы почти нет, так что люди стали оформлять больше заказов, но с таким же ценником.\n",
    "\n",
    "**Результаты тестирования вполне однозначны. В итоге можно принять решение остановить тестирование и констатировать успех и победу группы B**"
   ]
  }
 ],
 "metadata": {
  "ExecuteTimeLog": [
   {
    "duration": 413,
    "start_time": "2023-03-20T18:37:13.464Z"
   },
   {
    "duration": 80,
    "start_time": "2023-03-20T18:37:43.479Z"
   },
   {
    "duration": 16,
    "start_time": "2023-03-20T18:37:46.011Z"
   },
   {
    "duration": 13,
    "start_time": "2023-03-20T18:37:58.477Z"
   },
   {
    "duration": 71,
    "start_time": "2023-03-20T18:38:38.362Z"
   },
   {
    "duration": 6,
    "start_time": "2023-03-20T18:38:38.659Z"
   },
   {
    "duration": 16,
    "start_time": "2023-03-20T18:38:44.442Z"
   },
   {
    "duration": 14,
    "start_time": "2023-03-20T18:38:45.268Z"
   },
   {
    "duration": 36,
    "start_time": "2023-03-20T18:40:24.532Z"
   },
   {
    "duration": 35,
    "start_time": "2023-03-20T18:40:40.952Z"
   },
   {
    "duration": 8,
    "start_time": "2023-03-20T18:44:07.987Z"
   },
   {
    "duration": 6,
    "start_time": "2023-03-20T18:44:11.830Z"
   },
   {
    "duration": 7,
    "start_time": "2023-03-20T18:44:15.168Z"
   },
   {
    "duration": 9,
    "start_time": "2023-03-20T18:44:21.925Z"
   },
   {
    "duration": 59,
    "start_time": "2023-03-20T18:44:57.571Z"
   },
   {
    "duration": 15,
    "start_time": "2023-03-20T18:45:00.268Z"
   },
   {
    "duration": 7,
    "start_time": "2023-03-20T18:45:05.734Z"
   },
   {
    "duration": 14,
    "start_time": "2023-03-20T18:45:56.134Z"
   },
   {
    "duration": 113,
    "start_time": "2023-03-20T18:46:22.626Z"
   },
   {
    "duration": 12,
    "start_time": "2023-03-20T18:46:31.920Z"
   },
   {
    "duration": 10,
    "start_time": "2023-03-20T18:46:39.571Z"
   },
   {
    "duration": 8,
    "start_time": "2023-03-20T18:47:07.272Z"
   },
   {
    "duration": 6,
    "start_time": "2023-03-20T18:47:11.120Z"
   },
   {
    "duration": 11,
    "start_time": "2023-03-20T18:47:36.814Z"
   },
   {
    "duration": 25,
    "start_time": "2023-03-20T18:48:08.964Z"
   },
   {
    "duration": 21,
    "start_time": "2023-03-20T18:51:18.993Z"
   },
   {
    "duration": 9,
    "start_time": "2023-03-20T18:51:52.330Z"
   },
   {
    "duration": 11,
    "start_time": "2023-03-20T18:52:00.310Z"
   },
   {
    "duration": 49,
    "start_time": "2023-03-20T18:57:55.939Z"
   },
   {
    "duration": 47,
    "start_time": "2023-03-20T18:58:13.449Z"
   },
   {
    "duration": 748,
    "start_time": "2023-03-20T18:58:17.411Z"
   },
   {
    "duration": 291,
    "start_time": "2023-03-20T18:58:39.164Z"
   },
   {
    "duration": 302,
    "start_time": "2023-03-20T19:01:35.367Z"
   },
   {
    "duration": 9,
    "start_time": "2023-03-20T19:02:06.685Z"
   },
   {
    "duration": 8,
    "start_time": "2023-03-20T19:02:13.003Z"
   },
   {
    "duration": 9,
    "start_time": "2023-03-20T19:02:52.856Z"
   },
   {
    "duration": 4,
    "start_time": "2023-03-20T19:03:51.323Z"
   },
   {
    "duration": 12,
    "start_time": "2023-03-20T19:03:51.852Z"
   },
   {
    "duration": 3,
    "start_time": "2023-03-20T19:04:38.878Z"
   },
   {
    "duration": 41,
    "start_time": "2023-03-20T19:04:38.884Z"
   },
   {
    "duration": 8,
    "start_time": "2023-03-20T19:04:38.927Z"
   },
   {
    "duration": 27,
    "start_time": "2023-03-20T19:04:38.937Z"
   },
   {
    "duration": 21,
    "start_time": "2023-03-20T19:04:38.966Z"
   },
   {
    "duration": 38,
    "start_time": "2023-03-20T19:04:38.989Z"
   },
   {
    "duration": 10,
    "start_time": "2023-03-20T19:04:39.029Z"
   },
   {
    "duration": 25,
    "start_time": "2023-03-20T19:04:39.041Z"
   },
   {
    "duration": 6,
    "start_time": "2023-03-20T19:04:39.068Z"
   },
   {
    "duration": 16,
    "start_time": "2023-03-20T19:04:39.075Z"
   },
   {
    "duration": 292,
    "start_time": "2023-03-20T19:04:39.092Z"
   },
   {
    "duration": 9,
    "start_time": "2023-03-20T19:04:39.385Z"
   },
   {
    "duration": 4,
    "start_time": "2023-03-20T19:04:58.327Z"
   },
   {
    "duration": 7,
    "start_time": "2023-03-20T19:04:59.354Z"
   },
   {
    "duration": 8,
    "start_time": "2023-03-20T19:05:03.431Z"
   },
   {
    "duration": 3,
    "start_time": "2023-03-20T19:05:07.819Z"
   },
   {
    "duration": 43,
    "start_time": "2023-03-20T19:05:07.824Z"
   },
   {
    "duration": 8,
    "start_time": "2023-03-20T19:05:07.869Z"
   },
   {
    "duration": 29,
    "start_time": "2023-03-20T19:05:07.879Z"
   },
   {
    "duration": 27,
    "start_time": "2023-03-20T19:05:07.909Z"
   },
   {
    "duration": 40,
    "start_time": "2023-03-20T19:05:07.938Z"
   },
   {
    "duration": 12,
    "start_time": "2023-03-20T19:05:07.980Z"
   },
   {
    "duration": 18,
    "start_time": "2023-03-20T19:05:07.993Z"
   },
   {
    "duration": 20,
    "start_time": "2023-03-20T19:05:08.013Z"
   },
   {
    "duration": 23,
    "start_time": "2023-03-20T19:05:08.035Z"
   },
   {
    "duration": 304,
    "start_time": "2023-03-20T19:05:08.059Z"
   },
   {
    "duration": 8,
    "start_time": "2023-03-20T19:05:08.365Z"
   },
   {
    "duration": 12,
    "start_time": "2023-03-20T19:06:21.808Z"
   },
   {
    "duration": 3,
    "start_time": "2023-03-20T19:06:32.872Z"
   },
   {
    "duration": 18,
    "start_time": "2023-03-20T19:06:33.338Z"
   },
   {
    "duration": 4,
    "start_time": "2023-03-20T19:06:39.253Z"
   },
   {
    "duration": 17,
    "start_time": "2023-03-20T19:06:39.476Z"
   },
   {
    "duration": 8,
    "start_time": "2023-03-20T19:06:58.726Z"
   },
   {
    "duration": 5,
    "start_time": "2023-03-20T19:07:33.554Z"
   },
   {
    "duration": 9,
    "start_time": "2023-03-20T19:07:34.158Z"
   },
   {
    "duration": 4,
    "start_time": "2023-03-20T19:08:40.332Z"
   },
   {
    "duration": 18,
    "start_time": "2023-03-20T19:08:40.534Z"
   },
   {
    "duration": 327,
    "start_time": "2023-03-20T19:08:47.567Z"
   },
   {
    "duration": 314,
    "start_time": "2023-03-20T19:17:31.510Z"
   },
   {
    "duration": 318,
    "start_time": "2023-03-20T19:18:14.883Z"
   },
   {
    "duration": 287,
    "start_time": "2023-03-20T19:18:51.044Z"
   },
   {
    "duration": 11,
    "start_time": "2023-03-20T19:18:55.427Z"
   },
   {
    "duration": 10,
    "start_time": "2023-03-20T19:19:39.866Z"
   },
   {
    "duration": 5,
    "start_time": "2023-03-20T19:20:28.504Z"
   },
   {
    "duration": 5,
    "start_time": "2023-03-20T19:20:35.881Z"
   },
   {
    "duration": 11,
    "start_time": "2023-03-20T19:20:41.401Z"
   },
   {
    "duration": 10,
    "start_time": "2023-03-20T19:20:48.797Z"
   },
   {
    "duration": 40,
    "start_time": "2023-03-20T19:24:18.719Z"
   },
   {
    "duration": 13,
    "start_time": "2023-03-20T19:24:24.826Z"
   },
   {
    "duration": 13,
    "start_time": "2023-03-20T19:24:34.990Z"
   },
   {
    "duration": 15,
    "start_time": "2023-03-20T19:24:39.284Z"
   },
   {
    "duration": 4,
    "start_time": "2023-03-20T19:24:44.265Z"
   },
   {
    "duration": 7,
    "start_time": "2023-03-20T19:24:56.773Z"
   },
   {
    "duration": 10,
    "start_time": "2023-03-20T19:24:59.927Z"
   },
   {
    "duration": 8,
    "start_time": "2023-03-20T19:25:02.946Z"
   },
   {
    "duration": 5,
    "start_time": "2023-03-20T19:25:05.026Z"
   },
   {
    "duration": 8,
    "start_time": "2023-03-20T19:25:05.494Z"
   },
   {
    "duration": 9,
    "start_time": "2023-03-20T19:25:10.045Z"
   },
   {
    "duration": 7,
    "start_time": "2023-03-20T19:25:15.257Z"
   },
   {
    "duration": 10,
    "start_time": "2023-03-20T19:25:24.985Z"
   },
   {
    "duration": 4,
    "start_time": "2023-03-20T19:25:28.803Z"
   },
   {
    "duration": 8,
    "start_time": "2023-03-20T19:25:29.980Z"
   },
   {
    "duration": 7,
    "start_time": "2023-03-20T19:25:31.292Z"
   },
   {
    "duration": 3,
    "start_time": "2023-03-20T19:25:35.029Z"
   },
   {
    "duration": 64,
    "start_time": "2023-03-20T19:25:35.035Z"
   },
   {
    "duration": 10,
    "start_time": "2023-03-20T19:25:35.101Z"
   },
   {
    "duration": 20,
    "start_time": "2023-03-20T19:25:35.114Z"
   },
   {
    "duration": 55,
    "start_time": "2023-03-20T19:25:35.136Z"
   },
   {
    "duration": 42,
    "start_time": "2023-03-20T19:25:35.194Z"
   },
   {
    "duration": 13,
    "start_time": "2023-03-20T19:25:35.238Z"
   },
   {
    "duration": 29,
    "start_time": "2023-03-20T19:25:35.252Z"
   },
   {
    "duration": 14,
    "start_time": "2023-03-20T19:25:35.283Z"
   },
   {
    "duration": 298,
    "start_time": "2023-03-20T19:25:35.301Z"
   },
   {
    "duration": 4,
    "start_time": "2023-03-20T19:25:35.600Z"
   },
   {
    "duration": 17,
    "start_time": "2023-03-20T19:25:35.605Z"
   },
   {
    "duration": 22,
    "start_time": "2023-03-20T19:25:35.623Z"
   },
   {
    "duration": 8,
    "start_time": "2023-03-20T19:25:46.874Z"
   },
   {
    "duration": 8,
    "start_time": "2023-03-20T19:26:53.956Z"
   },
   {
    "duration": 5,
    "start_time": "2023-03-20T19:27:01.776Z"
   },
   {
    "duration": 8,
    "start_time": "2023-03-20T19:27:02.606Z"
   },
   {
    "duration": 12,
    "start_time": "2023-03-20T19:27:03.651Z"
   },
   {
    "duration": 9,
    "start_time": "2023-03-20T19:27:17.884Z"
   },
   {
    "duration": 5,
    "start_time": "2023-03-20T19:27:26.757Z"
   },
   {
    "duration": 8,
    "start_time": "2023-03-20T19:27:27.690Z"
   },
   {
    "duration": 16,
    "start_time": "2023-03-20T19:27:28.049Z"
   },
   {
    "duration": 13,
    "start_time": "2023-03-20T19:27:46.770Z"
   },
   {
    "duration": 3,
    "start_time": "2023-03-21T17:09:22.712Z"
   },
   {
    "duration": 3,
    "start_time": "2023-03-21T17:10:06.320Z"
   },
   {
    "duration": 56,
    "start_time": "2023-03-21T17:12:52.062Z"
   },
   {
    "duration": 418,
    "start_time": "2023-03-21T17:12:55.125Z"
   },
   {
    "duration": 245,
    "start_time": "2023-03-21T17:12:56.442Z"
   },
   {
    "duration": 14,
    "start_time": "2023-03-21T17:13:05.438Z"
   },
   {
    "duration": 11,
    "start_time": "2023-03-21T17:13:07.380Z"
   },
   {
    "duration": 6,
    "start_time": "2023-03-21T17:13:09.198Z"
   },
   {
    "duration": 10,
    "start_time": "2023-03-21T17:13:16.850Z"
   },
   {
    "duration": 8,
    "start_time": "2023-03-21T17:13:19.300Z"
   },
   {
    "duration": 8,
    "start_time": "2023-03-21T17:13:44.136Z"
   },
   {
    "duration": 10,
    "start_time": "2023-03-21T17:13:49.203Z"
   },
   {
    "duration": 7,
    "start_time": "2023-03-21T17:13:51.883Z"
   },
   {
    "duration": 2,
    "start_time": "2023-03-21T17:14:09.391Z"
   },
   {
    "duration": 4,
    "start_time": "2023-03-21T17:14:14.930Z"
   },
   {
    "duration": 296,
    "start_time": "2023-03-21T17:14:16.227Z"
   },
   {
    "duration": 4,
    "start_time": "2023-03-21T17:14:18.935Z"
   },
   {
    "duration": 12,
    "start_time": "2023-03-21T17:14:19.707Z"
   },
   {
    "duration": 2,
    "start_time": "2023-03-21T17:16:39.087Z"
   },
   {
    "duration": 8,
    "start_time": "2023-03-21T17:16:46.047Z"
   },
   {
    "duration": 7,
    "start_time": "2023-03-21T17:19:13.138Z"
   },
   {
    "duration": 8,
    "start_time": "2023-03-21T17:19:14.034Z"
   },
   {
    "duration": 20,
    "start_time": "2023-03-21T17:19:21.250Z"
   },
   {
    "duration": 9,
    "start_time": "2023-03-21T17:20:31.127Z"
   },
   {
    "duration": 84,
    "start_time": "2023-03-21T17:20:38.449Z"
   },
   {
    "duration": 7,
    "start_time": "2023-03-21T17:20:39.002Z"
   },
   {
    "duration": 8,
    "start_time": "2023-03-21T17:20:44.602Z"
   },
   {
    "duration": 837,
    "start_time": "2023-03-21T17:28:12.002Z"
   },
   {
    "duration": 7,
    "start_time": "2023-03-21T17:28:23.341Z"
   },
   {
    "duration": 4,
    "start_time": "2023-03-21T17:28:43.078Z"
   },
   {
    "duration": 311,
    "start_time": "2023-03-21T17:28:44.405Z"
   },
   {
    "duration": 4,
    "start_time": "2023-03-21T17:28:44.795Z"
   },
   {
    "duration": 7,
    "start_time": "2023-03-21T17:28:45.202Z"
   },
   {
    "duration": 10,
    "start_time": "2023-03-21T17:28:46.946Z"
   },
   {
    "duration": 12,
    "start_time": "2023-03-21T17:28:48.227Z"
   },
   {
    "duration": 8,
    "start_time": "2023-03-21T17:29:12.492Z"
   },
   {
    "duration": 8,
    "start_time": "2023-03-21T17:29:20.591Z"
   },
   {
    "duration": 8,
    "start_time": "2023-03-21T17:29:37.607Z"
   },
   {
    "duration": 8,
    "start_time": "2023-03-21T17:29:43.440Z"
   },
   {
    "duration": 8,
    "start_time": "2023-03-21T17:29:49.429Z"
   },
   {
    "duration": 12,
    "start_time": "2023-03-21T17:36:03.852Z"
   },
   {
    "duration": 9,
    "start_time": "2023-03-21T17:36:14.310Z"
   },
   {
    "duration": 15,
    "start_time": "2023-03-21T17:36:31.961Z"
   },
   {
    "duration": 11,
    "start_time": "2023-03-21T17:36:39.060Z"
   },
   {
    "duration": 9,
    "start_time": "2023-03-21T17:36:41.442Z"
   },
   {
    "duration": 13,
    "start_time": "2023-03-21T17:36:42.030Z"
   },
   {
    "duration": 7,
    "start_time": "2023-03-21T17:36:57.987Z"
   },
   {
    "duration": 8,
    "start_time": "2023-03-21T17:36:59.688Z"
   },
   {
    "duration": 11,
    "start_time": "2023-03-21T17:37:01.288Z"
   },
   {
    "duration": 8,
    "start_time": "2023-03-21T17:37:13.145Z"
   },
   {
    "duration": 8,
    "start_time": "2023-03-21T17:37:17.347Z"
   },
   {
    "duration": 8,
    "start_time": "2023-03-21T17:37:19.695Z"
   },
   {
    "duration": 9,
    "start_time": "2023-03-21T17:37:20.798Z"
   },
   {
    "duration": 4,
    "start_time": "2023-03-21T17:37:31.598Z"
   },
   {
    "duration": 10,
    "start_time": "2023-03-21T17:37:34.245Z"
   },
   {
    "duration": 12,
    "start_time": "2023-03-21T17:42:51.098Z"
   },
   {
    "duration": 3,
    "start_time": "2023-03-21T17:53:05.917Z"
   },
   {
    "duration": 2,
    "start_time": "2023-03-21T17:53:52.429Z"
   },
   {
    "duration": 2,
    "start_time": "2023-03-21T17:54:07.848Z"
   },
   {
    "duration": 9,
    "start_time": "2023-03-21T17:55:04.711Z"
   },
   {
    "duration": 7,
    "start_time": "2023-03-21T17:55:10.007Z"
   },
   {
    "duration": 7,
    "start_time": "2023-03-21T17:55:12.349Z"
   },
   {
    "duration": 8,
    "start_time": "2023-03-21T17:55:21.118Z"
   },
   {
    "duration": 13,
    "start_time": "2023-03-21T17:57:38.504Z"
   },
   {
    "duration": 14,
    "start_time": "2023-03-21T17:58:00.257Z"
   },
   {
    "duration": 3,
    "start_time": "2023-03-21T17:58:03.302Z"
   },
   {
    "duration": 87,
    "start_time": "2023-03-21T17:58:03.307Z"
   },
   {
    "duration": 7,
    "start_time": "2023-03-21T17:58:03.396Z"
   },
   {
    "duration": 14,
    "start_time": "2023-03-21T17:58:03.405Z"
   },
   {
    "duration": 10,
    "start_time": "2023-03-21T17:58:03.420Z"
   },
   {
    "duration": 18,
    "start_time": "2023-03-21T17:58:03.432Z"
   },
   {
    "duration": 25,
    "start_time": "2023-03-21T17:58:03.452Z"
   },
   {
    "duration": 11,
    "start_time": "2023-03-21T17:58:03.478Z"
   },
   {
    "duration": 295,
    "start_time": "2023-03-21T17:58:03.490Z"
   },
   {
    "duration": 4,
    "start_time": "2023-03-21T17:58:03.787Z"
   },
   {
    "duration": 16,
    "start_time": "2023-03-21T17:58:03.792Z"
   },
   {
    "duration": 11,
    "start_time": "2023-03-21T17:58:03.809Z"
   },
   {
    "duration": 12,
    "start_time": "2023-03-21T17:58:03.821Z"
   },
   {
    "duration": 10,
    "start_time": "2023-03-21T17:58:03.835Z"
   },
   {
    "duration": 15,
    "start_time": "2023-03-21T17:58:03.864Z"
   },
   {
    "duration": 11,
    "start_time": "2023-03-21T17:58:03.881Z"
   },
   {
    "duration": 16,
    "start_time": "2023-03-21T17:58:03.893Z"
   },
   {
    "duration": 12,
    "start_time": "2023-03-21T17:58:14.698Z"
   },
   {
    "duration": 22,
    "start_time": "2023-03-21T17:58:57.102Z"
   },
   {
    "duration": 17,
    "start_time": "2023-03-21T17:59:10.537Z"
   },
   {
    "duration": 24,
    "start_time": "2023-03-21T17:59:51.458Z"
   },
   {
    "duration": 121,
    "start_time": "2023-03-21T18:00:23.720Z"
   },
   {
    "duration": 79,
    "start_time": "2023-03-21T18:00:23.843Z"
   },
   {
    "duration": 8,
    "start_time": "2023-03-21T18:00:23.923Z"
   },
   {
    "duration": 16,
    "start_time": "2023-03-21T18:00:23.933Z"
   },
   {
    "duration": 13,
    "start_time": "2023-03-21T18:00:23.951Z"
   },
   {
    "duration": 20,
    "start_time": "2023-03-21T18:00:23.966Z"
   },
   {
    "duration": 10,
    "start_time": "2023-03-21T18:00:23.987Z"
   },
   {
    "duration": 6,
    "start_time": "2023-03-21T18:00:23.999Z"
   },
   {
    "duration": 293,
    "start_time": "2023-03-21T18:00:24.007Z"
   },
   {
    "duration": 4,
    "start_time": "2023-03-21T18:00:24.302Z"
   },
   {
    "duration": 12,
    "start_time": "2023-03-21T18:00:24.307Z"
   },
   {
    "duration": 7,
    "start_time": "2023-03-21T18:00:24.320Z"
   },
   {
    "duration": 11,
    "start_time": "2023-03-21T18:00:24.329Z"
   },
   {
    "duration": 14,
    "start_time": "2023-03-21T18:00:24.360Z"
   },
   {
    "duration": 27,
    "start_time": "2023-03-21T18:00:24.375Z"
   },
   {
    "duration": 0,
    "start_time": "2023-03-21T18:00:24.403Z"
   },
   {
    "duration": 0,
    "start_time": "2023-03-21T18:00:24.404Z"
   },
   {
    "duration": 321,
    "start_time": "2023-03-21T18:00:39.996Z"
   },
   {
    "duration": 90,
    "start_time": "2023-03-21T18:00:40.319Z"
   },
   {
    "duration": 8,
    "start_time": "2023-03-21T18:00:40.410Z"
   },
   {
    "duration": 25,
    "start_time": "2023-03-21T18:00:40.420Z"
   },
   {
    "duration": 25,
    "start_time": "2023-03-21T18:00:40.447Z"
   },
   {
    "duration": 13,
    "start_time": "2023-03-21T18:00:40.474Z"
   },
   {
    "duration": 22,
    "start_time": "2023-03-21T18:00:40.489Z"
   },
   {
    "duration": 20,
    "start_time": "2023-03-21T18:00:40.513Z"
   },
   {
    "duration": 293,
    "start_time": "2023-03-21T18:00:40.535Z"
   },
   {
    "duration": 6,
    "start_time": "2023-03-21T18:00:40.830Z"
   },
   {
    "duration": 36,
    "start_time": "2023-03-21T18:00:40.837Z"
   },
   {
    "duration": 13,
    "start_time": "2023-03-21T18:00:40.875Z"
   },
   {
    "duration": 16,
    "start_time": "2023-03-21T18:00:40.890Z"
   },
   {
    "duration": 9,
    "start_time": "2023-03-21T18:00:40.909Z"
   },
   {
    "duration": 159,
    "start_time": "2023-03-21T18:00:40.919Z"
   },
   {
    "duration": 9,
    "start_time": "2023-03-21T18:00:41.079Z"
   },
   {
    "duration": 16,
    "start_time": "2023-03-21T18:00:41.089Z"
   },
   {
    "duration": 76,
    "start_time": "2023-03-21T18:00:53.738Z"
   },
   {
    "duration": 7,
    "start_time": "2023-03-21T18:00:56.311Z"
   },
   {
    "duration": 152,
    "start_time": "2023-03-21T18:01:08.951Z"
   },
   {
    "duration": 8,
    "start_time": "2023-03-21T18:01:25.826Z"
   },
   {
    "duration": 12,
    "start_time": "2023-03-21T18:01:31.807Z"
   },
   {
    "duration": 10,
    "start_time": "2023-03-21T18:01:37.710Z"
   },
   {
    "duration": 9,
    "start_time": "2023-03-21T18:01:43.613Z"
   },
   {
    "duration": 29,
    "start_time": "2023-03-21T18:01:53.202Z"
   },
   {
    "duration": 11,
    "start_time": "2023-03-21T18:02:03.946Z"
   },
   {
    "duration": 11,
    "start_time": "2023-03-21T18:02:06.762Z"
   },
   {
    "duration": 6,
    "start_time": "2023-03-21T18:02:09.504Z"
   },
   {
    "duration": 9,
    "start_time": "2023-03-21T18:02:12.495Z"
   },
   {
    "duration": 34,
    "start_time": "2023-03-21T18:03:20.639Z"
   },
   {
    "duration": 3,
    "start_time": "2023-03-21T18:03:33.418Z"
   },
   {
    "duration": 86,
    "start_time": "2023-03-21T18:03:33.423Z"
   },
   {
    "duration": 9,
    "start_time": "2023-03-21T18:03:33.511Z"
   },
   {
    "duration": 19,
    "start_time": "2023-03-21T18:03:33.521Z"
   },
   {
    "duration": 13,
    "start_time": "2023-03-21T18:03:33.543Z"
   },
   {
    "duration": 27,
    "start_time": "2023-03-21T18:03:33.560Z"
   },
   {
    "duration": 19,
    "start_time": "2023-03-21T18:03:33.589Z"
   },
   {
    "duration": 5,
    "start_time": "2023-03-21T18:03:33.610Z"
   },
   {
    "duration": 339,
    "start_time": "2023-03-21T18:03:33.616Z"
   },
   {
    "duration": 15,
    "start_time": "2023-03-21T18:03:33.957Z"
   },
   {
    "duration": 31,
    "start_time": "2023-03-21T18:03:33.975Z"
   },
   {
    "duration": 22,
    "start_time": "2023-03-21T18:03:34.008Z"
   },
   {
    "duration": 22,
    "start_time": "2023-03-21T18:03:34.034Z"
   },
   {
    "duration": 38,
    "start_time": "2023-03-21T18:03:34.057Z"
   },
   {
    "duration": 39,
    "start_time": "2023-03-21T18:03:34.097Z"
   },
   {
    "duration": 0,
    "start_time": "2023-03-21T18:03:34.138Z"
   },
   {
    "duration": 0,
    "start_time": "2023-03-21T18:03:34.139Z"
   },
   {
    "duration": 0,
    "start_time": "2023-03-21T18:03:34.140Z"
   },
   {
    "duration": 0,
    "start_time": "2023-03-21T18:03:34.141Z"
   },
   {
    "duration": 80,
    "start_time": "2023-03-21T18:04:14.250Z"
   },
   {
    "duration": 8,
    "start_time": "2023-03-21T18:04:17.212Z"
   },
   {
    "duration": 196,
    "start_time": "2023-03-21T18:04:27.601Z"
   },
   {
    "duration": 203,
    "start_time": "2023-03-21T18:05:21.134Z"
   },
   {
    "duration": 272,
    "start_time": "2023-03-21T18:05:26.845Z"
   },
   {
    "duration": 192,
    "start_time": "2023-03-21T18:05:33.019Z"
   },
   {
    "duration": 143,
    "start_time": "2023-03-21T18:08:06.928Z"
   },
   {
    "duration": 148,
    "start_time": "2023-03-21T18:08:14.600Z"
   },
   {
    "duration": 12,
    "start_time": "2023-03-21T18:08:27.029Z"
   },
   {
    "duration": 47,
    "start_time": "2023-03-21T18:09:23.816Z"
   },
   {
    "duration": 125,
    "start_time": "2023-03-21T18:09:26.227Z"
   },
   {
    "duration": 6,
    "start_time": "2023-03-21T18:09:36.487Z"
   },
   {
    "duration": 18,
    "start_time": "2023-03-21T18:09:40.979Z"
   },
   {
    "duration": 16,
    "start_time": "2023-03-21T18:09:45.724Z"
   },
   {
    "duration": 17,
    "start_time": "2023-03-21T18:10:17.281Z"
   },
   {
    "duration": 79,
    "start_time": "2023-03-21T18:10:21.327Z"
   },
   {
    "duration": 14,
    "start_time": "2023-03-21T18:10:23.741Z"
   },
   {
    "duration": 316,
    "start_time": "2023-03-21T18:10:41.309Z"
   },
   {
    "duration": 44,
    "start_time": "2023-03-23T16:48:44.123Z"
   },
   {
    "duration": 731,
    "start_time": "2023-03-23T16:48:46.733Z"
   },
   {
    "duration": 229,
    "start_time": "2023-03-23T16:48:47.466Z"
   },
   {
    "duration": 13,
    "start_time": "2023-03-23T16:48:47.697Z"
   },
   {
    "duration": 18,
    "start_time": "2023-03-23T16:48:47.712Z"
   },
   {
    "duration": 10,
    "start_time": "2023-03-23T16:48:47.732Z"
   },
   {
    "duration": 16,
    "start_time": "2023-03-23T16:48:47.743Z"
   },
   {
    "duration": 10,
    "start_time": "2023-03-23T16:48:47.761Z"
   },
   {
    "duration": 28,
    "start_time": "2023-03-23T16:48:47.772Z"
   },
   {
    "duration": 242,
    "start_time": "2023-03-23T16:48:47.801Z"
   },
   {
    "duration": 4,
    "start_time": "2023-03-23T16:48:48.046Z"
   },
   {
    "duration": 9,
    "start_time": "2023-03-23T16:48:48.051Z"
   },
   {
    "duration": 11,
    "start_time": "2023-03-23T16:48:48.062Z"
   },
   {
    "duration": 18,
    "start_time": "2023-03-23T16:48:48.087Z"
   },
   {
    "duration": 12,
    "start_time": "2023-03-23T16:48:48.106Z"
   },
   {
    "duration": 11,
    "start_time": "2023-03-23T16:48:48.120Z"
   },
   {
    "duration": 172,
    "start_time": "2023-03-23T16:48:48.132Z"
   },
   {
    "duration": 158,
    "start_time": "2023-03-23T16:48:48.306Z"
   },
   {
    "duration": 111,
    "start_time": "2023-03-23T16:48:48.466Z"
   },
   {
    "duration": 23,
    "start_time": "2023-03-23T16:48:48.579Z"
   },
   {
    "duration": 235,
    "start_time": "2023-03-23T16:48:48.604Z"
   },
   {
    "duration": 7,
    "start_time": "2023-03-23T16:48:48.840Z"
   },
   {
    "duration": 13,
    "start_time": "2023-03-23T16:48:48.849Z"
   },
   {
    "duration": 152,
    "start_time": "2023-03-23T16:49:43.937Z"
   },
   {
    "duration": 192,
    "start_time": "2023-03-23T17:11:07.307Z"
   },
   {
    "duration": 156,
    "start_time": "2023-03-23T17:11:37.159Z"
   },
   {
    "duration": 53,
    "start_time": "2023-03-23T17:11:55.323Z"
   },
   {
    "duration": 245,
    "start_time": "2023-03-23T17:13:27.819Z"
   },
   {
    "duration": 243,
    "start_time": "2023-03-23T17:14:20.150Z"
   },
   {
    "duration": 268,
    "start_time": "2023-03-23T17:14:26.642Z"
   },
   {
    "duration": 132,
    "start_time": "2023-03-23T17:14:53.938Z"
   },
   {
    "duration": 208,
    "start_time": "2023-03-23T17:15:50.598Z"
   },
   {
    "duration": 173,
    "start_time": "2023-03-23T17:16:16.507Z"
   },
   {
    "duration": 161,
    "start_time": "2023-03-23T17:17:21.620Z"
   },
   {
    "duration": 178,
    "start_time": "2023-03-23T17:18:23.623Z"
   },
   {
    "duration": 182,
    "start_time": "2023-03-23T17:19:00.377Z"
   },
   {
    "duration": 163,
    "start_time": "2023-03-23T17:19:12.521Z"
   },
   {
    "duration": 224,
    "start_time": "2023-03-23T17:20:15.438Z"
   },
   {
    "duration": 3,
    "start_time": "2023-03-23T17:20:52.410Z"
   },
   {
    "duration": 95,
    "start_time": "2023-03-23T17:20:52.415Z"
   },
   {
    "duration": 8,
    "start_time": "2023-03-23T17:20:52.511Z"
   },
   {
    "duration": 19,
    "start_time": "2023-03-23T17:20:52.521Z"
   },
   {
    "duration": 28,
    "start_time": "2023-03-23T17:20:52.542Z"
   },
   {
    "duration": 21,
    "start_time": "2023-03-23T17:20:52.571Z"
   },
   {
    "duration": 32,
    "start_time": "2023-03-23T17:20:52.594Z"
   },
   {
    "duration": 10,
    "start_time": "2023-03-23T17:20:52.628Z"
   },
   {
    "duration": 238,
    "start_time": "2023-03-23T17:20:52.640Z"
   },
   {
    "duration": 4,
    "start_time": "2023-03-23T17:20:52.880Z"
   },
   {
    "duration": 37,
    "start_time": "2023-03-23T17:20:52.885Z"
   },
   {
    "duration": 9,
    "start_time": "2023-03-23T17:20:52.924Z"
   },
   {
    "duration": 32,
    "start_time": "2023-03-23T17:20:52.935Z"
   },
   {
    "duration": 8,
    "start_time": "2023-03-23T17:20:52.970Z"
   },
   {
    "duration": 45,
    "start_time": "2023-03-23T17:20:52.980Z"
   },
   {
    "duration": 165,
    "start_time": "2023-03-23T17:20:53.026Z"
   },
   {
    "duration": 173,
    "start_time": "2023-03-23T17:20:53.192Z"
   },
   {
    "duration": 126,
    "start_time": "2023-03-23T17:20:53.366Z"
   },
   {
    "duration": 15,
    "start_time": "2023-03-23T17:20:53.494Z"
   },
   {
    "duration": 217,
    "start_time": "2023-03-23T17:20:53.510Z"
   },
   {
    "duration": 196,
    "start_time": "2023-03-23T17:20:53.729Z"
   },
   {
    "duration": 241,
    "start_time": "2023-03-23T17:20:53.927Z"
   },
   {
    "duration": 173,
    "start_time": "2023-03-23T17:20:54.169Z"
   },
   {
    "duration": 170,
    "start_time": "2023-03-23T17:21:15.219Z"
   },
   {
    "duration": 162,
    "start_time": "2023-03-23T17:21:22.846Z"
   },
   {
    "duration": 154,
    "start_time": "2023-03-23T17:21:28.837Z"
   },
   {
    "duration": 161,
    "start_time": "2023-03-23T17:25:07.814Z"
   },
   {
    "duration": 145,
    "start_time": "2023-03-23T17:25:19.420Z"
   },
   {
    "duration": 301,
    "start_time": "2023-03-23T17:25:21.848Z"
   },
   {
    "duration": 262,
    "start_time": "2023-03-23T17:27:27.418Z"
   },
   {
    "duration": 329,
    "start_time": "2023-03-23T17:27:36.782Z"
   },
   {
    "duration": 259,
    "start_time": "2023-03-23T17:27:47.708Z"
   },
   {
    "duration": 269,
    "start_time": "2023-03-23T17:28:06.285Z"
   },
   {
    "duration": 254,
    "start_time": "2023-03-23T17:28:16.517Z"
   },
   {
    "duration": 272,
    "start_time": "2023-03-23T17:29:36.823Z"
   },
   {
    "duration": 3,
    "start_time": "2023-03-23T17:30:40.706Z"
   },
   {
    "duration": 7,
    "start_time": "2023-03-23T17:33:53.748Z"
   },
   {
    "duration": 9,
    "start_time": "2023-03-23T17:34:07.908Z"
   },
   {
    "duration": 106,
    "start_time": "2023-03-23T17:34:10.852Z"
   },
   {
    "duration": 11,
    "start_time": "2023-03-23T17:35:17.032Z"
   },
   {
    "duration": 7,
    "start_time": "2023-03-23T17:35:25.629Z"
   },
   {
    "duration": 13,
    "start_time": "2023-03-23T17:35:29.155Z"
   },
   {
    "duration": 11,
    "start_time": "2023-03-23T17:35:34.080Z"
   },
   {
    "duration": 8,
    "start_time": "2023-03-23T17:35:43.704Z"
   },
   {
    "duration": 109,
    "start_time": "2023-03-23T17:35:59.634Z"
   },
   {
    "duration": 110,
    "start_time": "2023-03-23T17:36:14.438Z"
   },
   {
    "duration": 3,
    "start_time": "2023-03-23T17:37:46.078Z"
   },
   {
    "duration": 4,
    "start_time": "2023-03-23T17:37:52.577Z"
   },
   {
    "duration": 4,
    "start_time": "2023-03-23T17:37:59.839Z"
   },
   {
    "duration": 3,
    "start_time": "2023-03-23T17:38:16.582Z"
   },
   {
    "duration": 7,
    "start_time": "2023-03-23T17:40:55.944Z"
   },
   {
    "duration": 6,
    "start_time": "2023-03-23T17:41:06.873Z"
   },
   {
    "duration": 5,
    "start_time": "2023-03-23T17:41:15.319Z"
   },
   {
    "duration": 5,
    "start_time": "2023-03-23T17:41:23.098Z"
   },
   {
    "duration": 4,
    "start_time": "2023-03-23T17:41:26.111Z"
   },
   {
    "duration": 844,
    "start_time": "2023-03-23T17:41:36.558Z"
   },
   {
    "duration": 5,
    "start_time": "2023-03-23T17:41:43.445Z"
   },
   {
    "duration": 7,
    "start_time": "2023-03-23T17:42:02.257Z"
   },
   {
    "duration": 8,
    "start_time": "2023-03-23T17:42:27.404Z"
   },
   {
    "duration": 7,
    "start_time": "2023-03-23T17:42:39.640Z"
   },
   {
    "duration": 6,
    "start_time": "2023-03-23T17:42:46.404Z"
   },
   {
    "duration": 8,
    "start_time": "2023-03-23T17:42:54.719Z"
   },
   {
    "duration": 48,
    "start_time": "2023-03-23T17:43:03.473Z"
   },
   {
    "duration": 13,
    "start_time": "2023-03-23T17:43:13.525Z"
   },
   {
    "duration": 6,
    "start_time": "2023-03-23T17:43:26.708Z"
   },
   {
    "duration": 5,
    "start_time": "2023-03-23T17:43:36.873Z"
   },
   {
    "duration": 11,
    "start_time": "2023-03-23T17:43:57.233Z"
   },
   {
    "duration": 10,
    "start_time": "2023-03-23T17:46:21.051Z"
   },
   {
    "duration": 16,
    "start_time": "2023-03-23T17:46:31.773Z"
   },
   {
    "duration": 5,
    "start_time": "2023-03-23T17:46:57.140Z"
   },
   {
    "duration": 5,
    "start_time": "2023-03-23T17:47:12.593Z"
   },
   {
    "duration": 5,
    "start_time": "2023-03-23T17:47:20.375Z"
   },
   {
    "duration": 13,
    "start_time": "2023-03-23T17:47:34.303Z"
   },
   {
    "duration": 12,
    "start_time": "2023-03-23T17:48:21.240Z"
   },
   {
    "duration": 11,
    "start_time": "2023-03-23T17:48:28.831Z"
   },
   {
    "duration": 40,
    "start_time": "2023-03-23T17:48:55.297Z"
   },
   {
    "duration": 12,
    "start_time": "2023-03-23T17:48:59.411Z"
   },
   {
    "duration": 16,
    "start_time": "2023-03-23T17:49:05.683Z"
   },
   {
    "duration": 10,
    "start_time": "2023-03-23T17:49:17.670Z"
   },
   {
    "duration": 14,
    "start_time": "2023-03-23T17:50:29.289Z"
   },
   {
    "duration": 10,
    "start_time": "2023-03-23T17:50:47.790Z"
   },
   {
    "duration": 9,
    "start_time": "2023-03-23T17:50:57.021Z"
   },
   {
    "duration": 18,
    "start_time": "2023-03-23T17:51:00.972Z"
   },
   {
    "duration": 17,
    "start_time": "2023-03-23T17:51:12.905Z"
   },
   {
    "duration": 14,
    "start_time": "2023-03-23T17:51:17.233Z"
   },
   {
    "duration": 17,
    "start_time": "2023-03-23T17:51:46.074Z"
   },
   {
    "duration": 9,
    "start_time": "2023-03-23T17:52:11.274Z"
   },
   {
    "duration": 4,
    "start_time": "2023-03-23T17:52:22.914Z"
   },
   {
    "duration": 4,
    "start_time": "2023-03-23T17:52:57.776Z"
   },
   {
    "duration": 4,
    "start_time": "2023-03-23T17:53:09.582Z"
   },
   {
    "duration": 5,
    "start_time": "2023-03-23T17:53:13.213Z"
   },
   {
    "duration": 4,
    "start_time": "2023-03-23T17:53:58.979Z"
   },
   {
    "duration": 4,
    "start_time": "2023-03-23T17:54:14.876Z"
   },
   {
    "duration": 5,
    "start_time": "2023-03-23T17:54:17.953Z"
   },
   {
    "duration": 14,
    "start_time": "2023-03-23T17:54:42.084Z"
   },
   {
    "duration": 6,
    "start_time": "2023-03-23T17:54:42.531Z"
   },
   {
    "duration": 12,
    "start_time": "2023-03-23T17:54:47.398Z"
   },
   {
    "duration": 5,
    "start_time": "2023-03-23T17:54:47.851Z"
   },
   {
    "duration": 11,
    "start_time": "2023-03-23T17:54:52.000Z"
   },
   {
    "duration": 4,
    "start_time": "2023-03-23T17:54:52.766Z"
   },
   {
    "duration": 9,
    "start_time": "2023-03-23T17:54:58.659Z"
   },
   {
    "duration": 6,
    "start_time": "2023-03-23T17:54:58.974Z"
   },
   {
    "duration": 11,
    "start_time": "2023-03-23T17:55:05.405Z"
   },
   {
    "duration": 5,
    "start_time": "2023-03-23T17:55:05.754Z"
   },
   {
    "duration": 55,
    "start_time": "2023-03-23T17:55:35.275Z"
   },
   {
    "duration": 111,
    "start_time": "2023-03-23T17:56:53.876Z"
   },
   {
    "duration": 97,
    "start_time": "2023-03-23T17:57:00.275Z"
   },
   {
    "duration": 156,
    "start_time": "2023-03-23T17:57:59.829Z"
   },
   {
    "duration": 93,
    "start_time": "2023-03-23T17:58:08.716Z"
   },
   {
    "duration": 113,
    "start_time": "2023-03-23T17:58:16.679Z"
   },
   {
    "duration": 100,
    "start_time": "2023-03-23T17:58:31.819Z"
   },
   {
    "duration": 99,
    "start_time": "2023-03-23T17:58:38.489Z"
   },
   {
    "duration": 104,
    "start_time": "2023-03-23T17:58:43.691Z"
   },
   {
    "duration": 54,
    "start_time": "2023-03-23T17:58:51.344Z"
   },
   {
    "duration": 100,
    "start_time": "2023-03-23T17:59:13.875Z"
   },
   {
    "duration": 107,
    "start_time": "2023-03-23T17:59:27.943Z"
   },
   {
    "duration": 119,
    "start_time": "2023-03-23T17:59:34.266Z"
   },
   {
    "duration": 7,
    "start_time": "2023-03-23T18:00:00.896Z"
   },
   {
    "duration": 6,
    "start_time": "2023-03-23T18:00:19.948Z"
   },
   {
    "duration": 7,
    "start_time": "2023-03-23T18:00:23.899Z"
   },
   {
    "duration": 8,
    "start_time": "2023-03-23T19:10:39.010Z"
   },
   {
    "duration": 10,
    "start_time": "2023-03-23T19:11:05.644Z"
   },
   {
    "duration": 7,
    "start_time": "2023-03-23T19:11:14.118Z"
   },
   {
    "duration": 7,
    "start_time": "2023-03-23T19:11:19.220Z"
   },
   {
    "duration": 12,
    "start_time": "2023-03-23T19:11:21.221Z"
   },
   {
    "duration": 9,
    "start_time": "2023-03-23T19:11:26.872Z"
   },
   {
    "duration": 8,
    "start_time": "2023-03-23T19:28:08.800Z"
   },
   {
    "duration": 4,
    "start_time": "2023-03-23T19:28:25.297Z"
   },
   {
    "duration": 6,
    "start_time": "2023-03-23T19:28:40.316Z"
   },
   {
    "duration": 5,
    "start_time": "2023-03-23T19:28:49.378Z"
   },
   {
    "duration": 12,
    "start_time": "2023-03-23T19:32:00.866Z"
   },
   {
    "duration": 24,
    "start_time": "2023-03-23T19:32:21.279Z"
   },
   {
    "duration": 6,
    "start_time": "2023-03-23T19:36:03.026Z"
   },
   {
    "duration": 8,
    "start_time": "2023-03-23T19:36:25.751Z"
   },
   {
    "duration": 5,
    "start_time": "2023-03-23T19:36:34.525Z"
   },
   {
    "duration": 6,
    "start_time": "2023-03-23T19:41:36.849Z"
   },
   {
    "duration": 4,
    "start_time": "2023-03-23T19:41:40.849Z"
   },
   {
    "duration": 6,
    "start_time": "2023-03-23T19:41:45.728Z"
   },
   {
    "duration": 11,
    "start_time": "2023-03-23T19:41:51.666Z"
   },
   {
    "duration": 5,
    "start_time": "2023-03-23T19:41:55.812Z"
   },
   {
    "duration": 5,
    "start_time": "2023-03-23T19:42:08.450Z"
   },
   {
    "duration": 5,
    "start_time": "2023-03-23T19:42:18.831Z"
   },
   {
    "duration": 9,
    "start_time": "2023-03-23T20:17:28.691Z"
   },
   {
    "duration": 2,
    "start_time": "2023-03-23T20:18:15.052Z"
   },
   {
    "duration": 9,
    "start_time": "2023-03-23T20:18:20.304Z"
   },
   {
    "duration": 9,
    "start_time": "2023-03-23T20:18:25.716Z"
   },
   {
    "duration": 9,
    "start_time": "2023-03-23T20:18:38.152Z"
   },
   {
    "duration": 9,
    "start_time": "2023-03-23T20:18:58.152Z"
   },
   {
    "duration": 2,
    "start_time": "2023-03-23T20:19:15.631Z"
   },
   {
    "duration": 75,
    "start_time": "2023-03-23T20:19:15.634Z"
   },
   {
    "duration": 7,
    "start_time": "2023-03-23T20:19:15.711Z"
   },
   {
    "duration": 10,
    "start_time": "2023-03-23T20:19:15.720Z"
   },
   {
    "duration": 11,
    "start_time": "2023-03-23T20:19:15.731Z"
   },
   {
    "duration": 11,
    "start_time": "2023-03-23T20:19:15.744Z"
   },
   {
    "duration": 8,
    "start_time": "2023-03-23T20:19:15.756Z"
   },
   {
    "duration": 13,
    "start_time": "2023-03-23T20:19:15.765Z"
   },
   {
    "duration": 206,
    "start_time": "2023-03-23T20:19:15.780Z"
   },
   {
    "duration": 3,
    "start_time": "2023-03-23T20:19:15.988Z"
   },
   {
    "duration": 16,
    "start_time": "2023-03-23T20:19:15.992Z"
   },
   {
    "duration": 13,
    "start_time": "2023-03-23T20:19:16.010Z"
   },
   {
    "duration": 7,
    "start_time": "2023-03-23T20:19:16.025Z"
   },
   {
    "duration": 8,
    "start_time": "2023-03-23T20:19:16.033Z"
   },
   {
    "duration": 153,
    "start_time": "2023-03-23T20:19:16.042Z"
   },
   {
    "duration": 156,
    "start_time": "2023-03-23T20:19:16.196Z"
   },
   {
    "duration": 108,
    "start_time": "2023-03-23T20:19:16.353Z"
   },
   {
    "duration": 27,
    "start_time": "2023-03-23T20:19:16.463Z"
   },
   {
    "duration": 149,
    "start_time": "2023-03-23T20:19:16.491Z"
   },
   {
    "duration": 153,
    "start_time": "2023-03-23T20:19:16.642Z"
   },
   {
    "duration": 237,
    "start_time": "2023-03-23T20:19:16.796Z"
   },
   {
    "duration": 157,
    "start_time": "2023-03-23T20:19:17.034Z"
   },
   {
    "duration": 318,
    "start_time": "2023-03-23T20:19:17.192Z"
   },
   {
    "duration": 106,
    "start_time": "2023-03-23T20:19:17.512Z"
   },
   {
    "duration": 106,
    "start_time": "2023-03-23T20:19:17.619Z"
   },
   {
    "duration": 6,
    "start_time": "2023-03-23T20:19:17.727Z"
   },
   {
    "duration": 5,
    "start_time": "2023-03-23T20:19:17.735Z"
   },
   {
    "duration": 5,
    "start_time": "2023-03-23T20:19:17.741Z"
   },
   {
    "duration": 8,
    "start_time": "2023-03-23T20:19:17.747Z"
   },
   {
    "duration": 29,
    "start_time": "2023-03-23T20:19:17.757Z"
   },
   {
    "duration": 4,
    "start_time": "2023-03-23T20:19:17.787Z"
   },
   {
    "duration": 7,
    "start_time": "2023-03-23T20:19:17.793Z"
   },
   {
    "duration": 5,
    "start_time": "2023-03-23T20:19:17.802Z"
   },
   {
    "duration": 5,
    "start_time": "2023-03-23T20:19:17.809Z"
   },
   {
    "duration": 8,
    "start_time": "2023-03-23T20:19:17.815Z"
   },
   {
    "duration": 5,
    "start_time": "2023-03-23T20:19:36.912Z"
   },
   {
    "duration": 5,
    "start_time": "2023-03-23T20:19:44.077Z"
   },
   {
    "duration": 5,
    "start_time": "2023-03-23T20:19:50.190Z"
   },
   {
    "duration": 5,
    "start_time": "2023-03-23T20:19:54.588Z"
   },
   {
    "duration": 8,
    "start_time": "2023-03-23T20:20:38.005Z"
   },
   {
    "duration": 4,
    "start_time": "2023-03-23T20:20:43.226Z"
   },
   {
    "duration": 9,
    "start_time": "2023-03-23T20:21:20.657Z"
   },
   {
    "duration": 4,
    "start_time": "2023-03-23T20:21:32.353Z"
   },
   {
    "duration": 4,
    "start_time": "2023-03-23T20:21:39.910Z"
   },
   {
    "duration": 4,
    "start_time": "2023-03-23T20:21:54.126Z"
   },
   {
    "duration": 5,
    "start_time": "2023-03-23T20:22:02.588Z"
   },
   {
    "duration": 53,
    "start_time": "2023-03-23T20:22:15.202Z"
   },
   {
    "duration": 4,
    "start_time": "2023-03-23T20:22:18.285Z"
   },
   {
    "duration": 8,
    "start_time": "2023-03-23T20:33:14.172Z"
   },
   {
    "duration": 7,
    "start_time": "2023-03-23T20:34:23.853Z"
   },
   {
    "duration": 7,
    "start_time": "2023-03-23T20:34:29.504Z"
   },
   {
    "duration": 11,
    "start_time": "2023-03-23T20:34:32.381Z"
   },
   {
    "duration": 63,
    "start_time": "2023-03-23T20:34:37.997Z"
   },
   {
    "duration": 10,
    "start_time": "2023-03-23T20:34:43.976Z"
   },
   {
    "duration": 4,
    "start_time": "2023-03-23T20:34:55.204Z"
   },
   {
    "duration": 9,
    "start_time": "2023-03-23T20:35:11.432Z"
   },
   {
    "duration": 8,
    "start_time": "2023-03-23T20:35:46.645Z"
   },
   {
    "duration": 13,
    "start_time": "2023-03-23T20:36:11.693Z"
   },
   {
    "duration": 4,
    "start_time": "2023-03-23T20:36:44.106Z"
   },
   {
    "duration": 20,
    "start_time": "2023-03-23T20:37:01.508Z"
   },
   {
    "duration": 9,
    "start_time": "2023-03-23T20:37:07.389Z"
   },
   {
    "duration": 6,
    "start_time": "2023-03-23T20:37:23.209Z"
   },
   {
    "duration": 5,
    "start_time": "2023-03-23T20:37:38.421Z"
   },
   {
    "duration": 5,
    "start_time": "2023-03-23T20:37:44.537Z"
   },
   {
    "duration": 5,
    "start_time": "2023-03-23T20:37:55.289Z"
   },
   {
    "duration": 7,
    "start_time": "2023-03-23T20:38:51.326Z"
   },
   {
    "duration": 10,
    "start_time": "2023-03-23T20:39:20.999Z"
   },
   {
    "duration": 7,
    "start_time": "2023-03-23T20:39:34.800Z"
   },
   {
    "duration": 6,
    "start_time": "2023-03-23T20:39:39.494Z"
   },
   {
    "duration": 11,
    "start_time": "2023-03-23T20:40:46.085Z"
   },
   {
    "duration": 5,
    "start_time": "2023-03-23T20:41:12.893Z"
   },
   {
    "duration": 5,
    "start_time": "2023-03-23T20:41:20.107Z"
   },
   {
    "duration": 7,
    "start_time": "2023-03-23T20:42:20.383Z"
   },
   {
    "duration": 46,
    "start_time": "2023-03-23T20:43:44.311Z"
   },
   {
    "duration": 7,
    "start_time": "2023-03-23T20:43:47.475Z"
   },
   {
    "duration": 9,
    "start_time": "2023-03-23T20:44:00.902Z"
   },
   {
    "duration": 13,
    "start_time": "2023-03-23T20:44:07.580Z"
   },
   {
    "duration": 9,
    "start_time": "2023-03-23T20:44:22.655Z"
   },
   {
    "duration": 10,
    "start_time": "2023-03-23T20:44:31.701Z"
   },
   {
    "duration": 11,
    "start_time": "2023-03-23T20:44:34.780Z"
   },
   {
    "duration": 6,
    "start_time": "2023-03-23T20:44:37.933Z"
   },
   {
    "duration": 7,
    "start_time": "2023-03-23T20:44:53.381Z"
   },
   {
    "duration": 6,
    "start_time": "2023-03-23T20:45:05.781Z"
   },
   {
    "duration": 11,
    "start_time": "2023-03-23T20:50:10.023Z"
   },
   {
    "duration": 11,
    "start_time": "2023-03-23T20:50:33.000Z"
   },
   {
    "duration": 395,
    "start_time": "2023-03-23T20:50:54.850Z"
   },
   {
    "duration": 3,
    "start_time": "2023-03-23T20:50:56.738Z"
   },
   {
    "duration": 74,
    "start_time": "2023-03-23T20:50:56.742Z"
   },
   {
    "duration": 5,
    "start_time": "2023-03-23T20:50:56.818Z"
   },
   {
    "duration": 11,
    "start_time": "2023-03-23T20:50:56.825Z"
   },
   {
    "duration": 9,
    "start_time": "2023-03-23T20:50:56.838Z"
   },
   {
    "duration": 10,
    "start_time": "2023-03-23T20:50:56.849Z"
   },
   {
    "duration": 11,
    "start_time": "2023-03-23T20:50:56.860Z"
   },
   {
    "duration": 5,
    "start_time": "2023-03-23T20:50:56.872Z"
   },
   {
    "duration": 216,
    "start_time": "2023-03-23T20:50:56.878Z"
   },
   {
    "duration": 4,
    "start_time": "2023-03-23T20:50:57.095Z"
   },
   {
    "duration": 7,
    "start_time": "2023-03-23T20:50:57.100Z"
   },
   {
    "duration": 7,
    "start_time": "2023-03-23T20:50:57.108Z"
   },
   {
    "duration": 8,
    "start_time": "2023-03-23T20:50:57.116Z"
   },
   {
    "duration": 7,
    "start_time": "2023-03-23T20:50:57.143Z"
   },
   {
    "duration": 163,
    "start_time": "2023-03-23T20:50:57.151Z"
   },
   {
    "duration": 158,
    "start_time": "2023-03-23T20:50:57.315Z"
   },
   {
    "duration": 103,
    "start_time": "2023-03-23T20:50:57.474Z"
   },
   {
    "duration": 10,
    "start_time": "2023-03-23T20:50:57.585Z"
   },
   {
    "duration": 168,
    "start_time": "2023-03-23T20:50:57.597Z"
   },
   {
    "duration": 143,
    "start_time": "2023-03-23T20:50:57.766Z"
   },
   {
    "duration": 310,
    "start_time": "2023-03-23T20:50:57.910Z"
   },
   {
    "duration": 158,
    "start_time": "2023-03-23T20:50:58.221Z"
   },
   {
    "duration": 283,
    "start_time": "2023-03-23T20:50:58.380Z"
   },
   {
    "duration": 113,
    "start_time": "2023-03-23T20:50:58.664Z"
   },
   {
    "duration": 98,
    "start_time": "2023-03-23T20:50:58.778Z"
   },
   {
    "duration": 5,
    "start_time": "2023-03-23T20:50:58.885Z"
   },
   {
    "duration": 10,
    "start_time": "2023-03-23T20:50:58.892Z"
   },
   {
    "duration": 4,
    "start_time": "2023-03-23T20:50:58.903Z"
   },
   {
    "duration": 24,
    "start_time": "2023-03-23T20:50:58.908Z"
   },
   {
    "duration": 21,
    "start_time": "2023-03-23T20:50:58.934Z"
   },
   {
    "duration": 4,
    "start_time": "2023-03-23T20:50:58.956Z"
   },
   {
    "duration": 12,
    "start_time": "2023-03-23T20:50:58.961Z"
   },
   {
    "duration": 56,
    "start_time": "2023-03-23T20:50:58.974Z"
   },
   {
    "duration": 9,
    "start_time": "2023-03-23T20:51:41.293Z"
   },
   {
    "duration": 12,
    "start_time": "2023-03-23T20:51:50.704Z"
   },
   {
    "duration": 7,
    "start_time": "2023-03-23T20:52:00.646Z"
   },
   {
    "duration": 2,
    "start_time": "2023-03-23T20:52:07.990Z"
   },
   {
    "duration": 8,
    "start_time": "2023-03-23T20:53:50.394Z"
   },
   {
    "duration": 39,
    "start_time": "2023-03-23T20:55:18.012Z"
   },
   {
    "duration": 3,
    "start_time": "2023-03-23T20:57:58.955Z"
   },
   {
    "duration": 3,
    "start_time": "2023-03-23T20:58:06.526Z"
   },
   {
    "duration": 12,
    "start_time": "2023-03-23T21:01:22.396Z"
   },
   {
    "duration": 12,
    "start_time": "2023-03-23T21:02:09.890Z"
   },
   {
    "duration": 3,
    "start_time": "2023-03-23T21:02:36.786Z"
   },
   {
    "duration": 3,
    "start_time": "2023-03-23T21:02:39.153Z"
   },
   {
    "duration": 74,
    "start_time": "2023-03-23T21:02:39.158Z"
   },
   {
    "duration": 7,
    "start_time": "2023-03-23T21:02:39.234Z"
   },
   {
    "duration": 11,
    "start_time": "2023-03-23T21:02:39.243Z"
   },
   {
    "duration": 9,
    "start_time": "2023-03-23T21:02:39.256Z"
   },
   {
    "duration": 9,
    "start_time": "2023-03-23T21:02:39.267Z"
   },
   {
    "duration": 11,
    "start_time": "2023-03-23T21:02:39.278Z"
   },
   {
    "duration": 6,
    "start_time": "2023-03-23T21:02:39.290Z"
   },
   {
    "duration": 218,
    "start_time": "2023-03-23T21:02:39.298Z"
   },
   {
    "duration": 4,
    "start_time": "2023-03-23T21:02:39.518Z"
   },
   {
    "duration": 10,
    "start_time": "2023-03-23T21:02:39.523Z"
   },
   {
    "duration": 8,
    "start_time": "2023-03-23T21:02:39.534Z"
   },
   {
    "duration": 8,
    "start_time": "2023-03-23T21:02:39.544Z"
   },
   {
    "duration": 10,
    "start_time": "2023-03-23T21:02:39.553Z"
   },
   {
    "duration": 180,
    "start_time": "2023-03-23T21:02:39.564Z"
   },
   {
    "duration": 166,
    "start_time": "2023-03-23T21:02:39.746Z"
   },
   {
    "duration": 114,
    "start_time": "2023-03-23T21:02:39.913Z"
   },
   {
    "duration": 11,
    "start_time": "2023-03-23T21:02:40.028Z"
   },
   {
    "duration": 165,
    "start_time": "2023-03-23T21:02:40.040Z"
   },
   {
    "duration": 156,
    "start_time": "2023-03-23T21:02:40.206Z"
   },
   {
    "duration": 262,
    "start_time": "2023-03-23T21:02:40.364Z"
   },
   {
    "duration": 165,
    "start_time": "2023-03-23T21:02:40.628Z"
   },
   {
    "duration": 266,
    "start_time": "2023-03-23T21:02:40.794Z"
   },
   {
    "duration": 112,
    "start_time": "2023-03-23T21:02:41.061Z"
   },
   {
    "duration": 96,
    "start_time": "2023-03-23T21:02:41.174Z"
   },
   {
    "duration": 13,
    "start_time": "2023-03-23T21:02:41.272Z"
   },
   {
    "duration": 3,
    "start_time": "2023-03-23T21:02:41.287Z"
   },
   {
    "duration": 8,
    "start_time": "2023-03-23T21:02:41.291Z"
   },
   {
    "duration": 6,
    "start_time": "2023-03-23T21:02:41.301Z"
   },
   {
    "duration": 11,
    "start_time": "2023-03-23T21:02:41.310Z"
   },
   {
    "duration": 4,
    "start_time": "2023-03-23T21:02:41.322Z"
   },
   {
    "duration": 7,
    "start_time": "2023-03-23T21:02:41.327Z"
   },
   {
    "duration": 8,
    "start_time": "2023-03-23T21:02:41.335Z"
   },
   {
    "duration": 50,
    "start_time": "2023-03-23T21:02:41.344Z"
   },
   {
    "duration": 9,
    "start_time": "2023-03-23T21:02:41.395Z"
   },
   {
    "duration": 5,
    "start_time": "2023-03-23T21:03:02.006Z"
   },
   {
    "duration": 6,
    "start_time": "2023-03-23T21:03:08.759Z"
   },
   {
    "duration": 4,
    "start_time": "2023-03-23T21:04:10.227Z"
   },
   {
    "duration": 9,
    "start_time": "2023-03-23T21:04:14.129Z"
   },
   {
    "duration": 9,
    "start_time": "2023-03-23T21:04:31.509Z"
   },
   {
    "duration": 9,
    "start_time": "2023-03-23T21:04:57.822Z"
   },
   {
    "duration": 9,
    "start_time": "2023-03-23T21:07:25.006Z"
   },
   {
    "duration": 10,
    "start_time": "2023-03-23T21:07:45.841Z"
   },
   {
    "duration": 7,
    "start_time": "2023-03-23T21:08:03.959Z"
   },
   {
    "duration": 9,
    "start_time": "2023-03-23T21:08:23.530Z"
   },
   {
    "duration": 11,
    "start_time": "2023-03-23T21:09:19.147Z"
   },
   {
    "duration": 9,
    "start_time": "2023-03-23T21:10:06.638Z"
   },
   {
    "duration": 15,
    "start_time": "2023-03-23T21:10:42.502Z"
   },
   {
    "duration": 7,
    "start_time": "2023-03-23T21:11:02.118Z"
   },
   {
    "duration": 3,
    "start_time": "2023-03-23T21:11:43.114Z"
   },
   {
    "duration": 8,
    "start_time": "2023-03-23T21:11:53.449Z"
   },
   {
    "duration": 2,
    "start_time": "2023-03-23T21:14:28.349Z"
   },
   {
    "duration": 8,
    "start_time": "2023-03-23T21:14:47.106Z"
   },
   {
    "duration": 7,
    "start_time": "2023-03-23T21:15:03.110Z"
   },
   {
    "duration": 47,
    "start_time": "2023-03-23T21:21:05.811Z"
   },
   {
    "duration": 119,
    "start_time": "2023-03-23T21:34:02.078Z"
   },
   {
    "duration": 4,
    "start_time": "2023-03-23T21:34:25.275Z"
   },
   {
    "duration": 79,
    "start_time": "2023-03-23T21:34:25.281Z"
   },
   {
    "duration": 6,
    "start_time": "2023-03-23T21:34:25.362Z"
   },
   {
    "duration": 10,
    "start_time": "2023-03-23T21:34:25.369Z"
   },
   {
    "duration": 7,
    "start_time": "2023-03-23T21:34:25.381Z"
   },
   {
    "duration": 10,
    "start_time": "2023-03-23T21:34:25.389Z"
   },
   {
    "duration": 8,
    "start_time": "2023-03-23T21:34:25.400Z"
   },
   {
    "duration": 8,
    "start_time": "2023-03-23T21:34:25.409Z"
   },
   {
    "duration": 212,
    "start_time": "2023-03-23T21:34:25.418Z"
   },
   {
    "duration": 3,
    "start_time": "2023-03-23T21:34:25.631Z"
   },
   {
    "duration": 15,
    "start_time": "2023-03-23T21:34:25.635Z"
   },
   {
    "duration": 10,
    "start_time": "2023-03-23T21:34:25.651Z"
   },
   {
    "duration": 11,
    "start_time": "2023-03-23T21:34:25.662Z"
   },
   {
    "duration": 13,
    "start_time": "2023-03-23T21:34:25.675Z"
   },
   {
    "duration": 158,
    "start_time": "2023-03-23T21:34:25.690Z"
   },
   {
    "duration": 154,
    "start_time": "2023-03-23T21:34:25.849Z"
   },
   {
    "duration": 105,
    "start_time": "2023-03-23T21:34:26.004Z"
   },
   {
    "duration": 10,
    "start_time": "2023-03-23T21:34:26.111Z"
   },
   {
    "duration": 317,
    "start_time": "2023-03-23T21:34:26.123Z"
   },
   {
    "duration": 226,
    "start_time": "2023-03-23T21:34:26.442Z"
   },
   {
    "duration": 218,
    "start_time": "2023-03-23T21:34:26.669Z"
   },
   {
    "duration": 292,
    "start_time": "2023-03-23T21:34:26.888Z"
   },
   {
    "duration": 279,
    "start_time": "2023-03-23T21:34:27.181Z"
   },
   {
    "duration": 118,
    "start_time": "2023-03-23T21:34:27.461Z"
   },
   {
    "duration": 117,
    "start_time": "2023-03-23T21:34:27.581Z"
   },
   {
    "duration": 5,
    "start_time": "2023-03-23T21:34:27.700Z"
   },
   {
    "duration": 5,
    "start_time": "2023-03-23T21:34:27.706Z"
   },
   {
    "duration": 5,
    "start_time": "2023-03-23T21:34:27.712Z"
   },
   {
    "duration": 5,
    "start_time": "2023-03-23T21:34:27.720Z"
   },
   {
    "duration": 14,
    "start_time": "2023-03-23T21:34:27.726Z"
   },
   {
    "duration": 4,
    "start_time": "2023-03-23T21:34:27.741Z"
   },
   {
    "duration": 9,
    "start_time": "2023-03-23T21:34:27.746Z"
   },
   {
    "duration": 29,
    "start_time": "2023-03-23T21:34:27.757Z"
   },
   {
    "duration": 7,
    "start_time": "2023-03-23T21:34:27.787Z"
   },
   {
    "duration": 7,
    "start_time": "2023-03-23T21:34:27.795Z"
   },
   {
    "duration": 6,
    "start_time": "2023-03-23T21:34:27.804Z"
   },
   {
    "duration": 271,
    "start_time": "2023-03-23T21:34:43.484Z"
   },
   {
    "duration": 166,
    "start_time": "2023-03-23T21:34:48.876Z"
   },
   {
    "duration": 163,
    "start_time": "2023-03-23T21:34:52.494Z"
   },
   {
    "duration": 289,
    "start_time": "2023-03-23T21:35:01.696Z"
   },
   {
    "duration": 225,
    "start_time": "2023-03-23T21:35:10.615Z"
   },
   {
    "duration": 163,
    "start_time": "2023-03-23T21:35:18.275Z"
   },
   {
    "duration": 169,
    "start_time": "2023-03-23T21:35:27.684Z"
   },
   {
    "duration": 9,
    "start_time": "2023-03-23T21:35:56.887Z"
   },
   {
    "duration": 82,
    "start_time": "2023-03-23T21:37:09.505Z"
   },
   {
    "duration": 7,
    "start_time": "2023-03-23T21:37:43.601Z"
   },
   {
    "duration": 168,
    "start_time": "2023-03-23T21:38:13.157Z"
   },
   {
    "duration": 24,
    "start_time": "2023-03-23T21:38:40.055Z"
   },
   {
    "duration": 17,
    "start_time": "2023-03-23T21:38:52.044Z"
   },
   {
    "duration": 14,
    "start_time": "2023-03-23T21:39:32.552Z"
   },
   {
    "duration": 114,
    "start_time": "2023-03-23T21:40:19.341Z"
   },
   {
    "duration": 3,
    "start_time": "2023-03-23T21:40:40.907Z"
   },
   {
    "duration": 133,
    "start_time": "2023-03-23T21:40:47.238Z"
   },
   {
    "duration": 116,
    "start_time": "2023-03-23T21:40:55.947Z"
   },
   {
    "duration": 129,
    "start_time": "2023-03-23T21:41:46.194Z"
   },
   {
    "duration": 9,
    "start_time": "2023-03-23T21:44:43.361Z"
   },
   {
    "duration": 622,
    "start_time": "2023-03-23T21:47:48.306Z"
   },
   {
    "duration": 5,
    "start_time": "2023-03-23T21:48:00.626Z"
   },
   {
    "duration": 1424,
    "start_time": "2023-03-24T17:59:20.093Z"
   },
   {
    "duration": 228,
    "start_time": "2023-03-24T17:59:21.523Z"
   },
   {
    "duration": 13,
    "start_time": "2023-03-24T17:59:21.753Z"
   },
   {
    "duration": 12,
    "start_time": "2023-03-24T17:59:21.768Z"
   },
   {
    "duration": 8,
    "start_time": "2023-03-24T17:59:21.782Z"
   },
   {
    "duration": 12,
    "start_time": "2023-03-24T17:59:21.792Z"
   },
   {
    "duration": 23,
    "start_time": "2023-03-24T17:59:21.806Z"
   },
   {
    "duration": 7,
    "start_time": "2023-03-24T17:59:21.831Z"
   },
   {
    "duration": 327,
    "start_time": "2023-03-24T17:59:21.840Z"
   },
   {
    "duration": 5,
    "start_time": "2023-03-24T17:59:22.169Z"
   },
   {
    "duration": 11,
    "start_time": "2023-03-24T17:59:22.176Z"
   },
   {
    "duration": 20,
    "start_time": "2023-03-24T17:59:22.189Z"
   },
   {
    "duration": 28,
    "start_time": "2023-03-24T17:59:22.210Z"
   },
   {
    "duration": 11,
    "start_time": "2023-03-24T17:59:22.240Z"
   },
   {
    "duration": 212,
    "start_time": "2023-03-24T17:59:22.253Z"
   },
   {
    "duration": 205,
    "start_time": "2023-03-24T17:59:22.467Z"
   },
   {
    "duration": 162,
    "start_time": "2023-03-24T17:59:22.674Z"
   },
   {
    "duration": 13,
    "start_time": "2023-03-24T17:59:22.838Z"
   },
   {
    "duration": 328,
    "start_time": "2023-03-24T17:59:22.853Z"
   },
   {
    "duration": 248,
    "start_time": "2023-03-24T17:59:23.183Z"
   },
   {
    "duration": 320,
    "start_time": "2023-03-24T17:59:23.433Z"
   },
   {
    "duration": 221,
    "start_time": "2023-03-24T17:59:23.756Z"
   },
   {
    "duration": 426,
    "start_time": "2023-03-24T17:59:23.979Z"
   },
   {
    "duration": 184,
    "start_time": "2023-03-24T17:59:24.407Z"
   },
   {
    "duration": 181,
    "start_time": "2023-03-24T17:59:24.593Z"
   },
   {
    "duration": 7,
    "start_time": "2023-03-24T17:59:24.777Z"
   },
   {
    "duration": 5,
    "start_time": "2023-03-24T17:59:24.786Z"
   },
   {
    "duration": 28,
    "start_time": "2023-03-24T17:59:24.796Z"
   },
   {
    "duration": 7,
    "start_time": "2023-03-24T17:59:24.826Z"
   },
   {
    "duration": 15,
    "start_time": "2023-03-24T17:59:24.836Z"
   },
   {
    "duration": 6,
    "start_time": "2023-03-24T17:59:24.854Z"
   },
   {
    "duration": 12,
    "start_time": "2023-03-24T17:59:24.862Z"
   },
   {
    "duration": 262,
    "start_time": "2023-03-24T17:59:24.876Z"
   },
   {
    "duration": 35,
    "start_time": "2023-03-24T17:59:25.141Z"
   },
   {
    "duration": 207,
    "start_time": "2023-03-24T17:59:25.178Z"
   },
   {
    "duration": 10,
    "start_time": "2023-03-24T17:59:25.388Z"
   },
   {
    "duration": 24,
    "start_time": "2023-03-24T17:59:25.399Z"
   },
   {
    "duration": 103,
    "start_time": "2023-03-24T17:59:25.425Z"
   },
   {
    "duration": 0,
    "start_time": "2023-03-24T17:59:25.531Z"
   },
   {
    "duration": 10,
    "start_time": "2023-03-24T18:01:25.143Z"
   },
   {
    "duration": 14,
    "start_time": "2023-03-24T18:01:37.813Z"
   },
   {
    "duration": 15,
    "start_time": "2023-03-24T18:02:18.044Z"
   },
   {
    "duration": 24,
    "start_time": "2023-03-24T18:02:55.977Z"
   },
   {
    "duration": 9,
    "start_time": "2023-03-24T18:03:06.348Z"
   },
   {
    "duration": 21,
    "start_time": "2023-03-24T18:03:10.518Z"
   },
   {
    "duration": 14,
    "start_time": "2023-03-24T18:03:40.185Z"
   },
   {
    "duration": 14,
    "start_time": "2023-03-24T18:03:41.917Z"
   },
   {
    "duration": 13,
    "start_time": "2023-03-24T18:04:07.283Z"
   },
   {
    "duration": 15,
    "start_time": "2023-03-24T18:04:08.142Z"
   },
   {
    "duration": 5,
    "start_time": "2023-03-24T18:04:33.405Z"
   },
   {
    "duration": 6,
    "start_time": "2023-03-24T18:04:45.136Z"
   },
   {
    "duration": 5,
    "start_time": "2023-03-24T18:04:59.611Z"
   },
   {
    "duration": 9,
    "start_time": "2023-03-24T18:05:14.308Z"
   },
   {
    "duration": 24,
    "start_time": "2023-03-24T18:05:40.217Z"
   },
   {
    "duration": 11,
    "start_time": "2023-03-24T18:07:32.932Z"
   },
   {
    "duration": 9,
    "start_time": "2023-03-24T18:07:35.335Z"
   },
   {
    "duration": 14,
    "start_time": "2023-03-24T18:07:50.988Z"
   },
   {
    "duration": 13,
    "start_time": "2023-03-24T18:07:57.620Z"
   },
   {
    "duration": 10,
    "start_time": "2023-03-24T18:08:13.866Z"
   },
   {
    "duration": 13,
    "start_time": "2023-03-24T18:08:38.483Z"
   },
   {
    "duration": 12,
    "start_time": "2023-03-24T18:08:40.234Z"
   },
   {
    "duration": 19,
    "start_time": "2023-03-24T18:09:41.152Z"
   },
   {
    "duration": 11,
    "start_time": "2023-03-24T18:09:48.558Z"
   },
   {
    "duration": 6,
    "start_time": "2023-03-24T18:10:18.051Z"
   },
   {
    "duration": 5,
    "start_time": "2023-03-24T18:10:21.188Z"
   },
   {
    "duration": 7,
    "start_time": "2023-03-24T18:10:42.003Z"
   },
   {
    "duration": 15,
    "start_time": "2023-03-24T18:10:53.624Z"
   },
   {
    "duration": 7,
    "start_time": "2023-03-24T18:11:13.469Z"
   },
   {
    "duration": 9,
    "start_time": "2023-03-24T18:11:39.501Z"
   },
   {
    "duration": 6,
    "start_time": "2023-03-24T18:12:20.987Z"
   },
   {
    "duration": 6,
    "start_time": "2023-03-24T18:12:22.088Z"
   },
   {
    "duration": 7,
    "start_time": "2023-03-24T18:12:41.297Z"
   },
   {
    "duration": 59,
    "start_time": "2023-03-24T18:12:53.447Z"
   },
   {
    "duration": 11,
    "start_time": "2023-03-24T18:12:59.672Z"
   },
   {
    "duration": 6,
    "start_time": "2023-03-24T18:13:05.029Z"
   },
   {
    "duration": 8,
    "start_time": "2023-03-24T18:13:05.547Z"
   },
   {
    "duration": 1203,
    "start_time": "2023-03-24T18:14:08.529Z"
   },
   {
    "duration": 9,
    "start_time": "2023-03-24T18:14:28.523Z"
   },
   {
    "duration": 1200,
    "start_time": "2023-03-24T18:14:32.945Z"
   },
   {
    "duration": 10,
    "start_time": "2023-03-24T18:14:41.049Z"
   },
   {
    "duration": 10,
    "start_time": "2023-03-24T18:16:07.665Z"
   },
   {
    "duration": 8,
    "start_time": "2023-03-24T18:16:30.064Z"
   },
   {
    "duration": 9,
    "start_time": "2023-03-24T18:16:44.952Z"
   },
   {
    "duration": 289,
    "start_time": "2023-03-24T18:16:45.533Z"
   },
   {
    "duration": 24,
    "start_time": "2023-03-24T18:16:46.086Z"
   },
   {
    "duration": 158,
    "start_time": "2023-03-24T18:16:46.609Z"
   },
   {
    "duration": 11,
    "start_time": "2023-03-24T18:16:49.746Z"
   },
   {
    "duration": 1697,
    "start_time": "2023-03-24T18:17:20.384Z"
   },
   {
    "duration": 9,
    "start_time": "2023-03-24T18:17:32.290Z"
   },
   {
    "duration": 24,
    "start_time": "2023-03-24T18:17:35.196Z"
   },
   {
    "duration": 11,
    "start_time": "2023-03-24T18:20:25.651Z"
   },
   {
    "duration": 14,
    "start_time": "2023-03-24T18:21:12.880Z"
   },
   {
    "duration": 21,
    "start_time": "2023-03-24T18:21:54.099Z"
   },
   {
    "duration": 8,
    "start_time": "2023-03-24T18:22:20.286Z"
   },
   {
    "duration": 15,
    "start_time": "2023-03-24T18:22:25.488Z"
   },
   {
    "duration": 17,
    "start_time": "2023-03-24T18:22:37.706Z"
   },
   {
    "duration": 15,
    "start_time": "2023-03-24T18:22:42.127Z"
   },
   {
    "duration": 15,
    "start_time": "2023-03-24T18:22:51.850Z"
   },
   {
    "duration": 4,
    "start_time": "2023-03-24T18:29:04.212Z"
   },
   {
    "duration": 9,
    "start_time": "2023-03-24T18:29:18.123Z"
   },
   {
    "duration": 6,
    "start_time": "2023-03-24T18:29:28.815Z"
   },
   {
    "duration": 5,
    "start_time": "2023-03-24T18:29:37.843Z"
   },
   {
    "duration": 4,
    "start_time": "2023-03-24T18:29:45.628Z"
   },
   {
    "duration": 5,
    "start_time": "2023-03-24T18:30:15.344Z"
   },
   {
    "duration": 5,
    "start_time": "2023-03-24T18:30:39.024Z"
   },
   {
    "duration": 5,
    "start_time": "2023-03-24T18:30:50.772Z"
   },
   {
    "duration": 9,
    "start_time": "2023-03-24T18:30:52.509Z"
   },
   {
    "duration": 4,
    "start_time": "2023-03-24T18:31:07.844Z"
   },
   {
    "duration": 5,
    "start_time": "2023-03-24T18:31:08.994Z"
   },
   {
    "duration": 71,
    "start_time": "2023-03-24T18:31:38.693Z"
   },
   {
    "duration": 2,
    "start_time": "2023-03-24T18:33:33.505Z"
   },
   {
    "duration": 227,
    "start_time": "2023-03-24T18:33:45.985Z"
   },
   {
    "duration": 142,
    "start_time": "2023-03-24T18:33:55.157Z"
   },
   {
    "duration": 92,
    "start_time": "2023-03-24T18:35:48.121Z"
   },
   {
    "duration": 1177,
    "start_time": "2023-03-24T18:36:24.812Z"
   },
   {
    "duration": 3,
    "start_time": "2023-03-24T18:36:25.991Z"
   },
   {
    "duration": 88,
    "start_time": "2023-03-24T18:36:25.996Z"
   },
   {
    "duration": 11,
    "start_time": "2023-03-24T18:36:26.087Z"
   },
   {
    "duration": 13,
    "start_time": "2023-03-24T18:36:26.100Z"
   },
   {
    "duration": 25,
    "start_time": "2023-03-24T18:36:26.115Z"
   },
   {
    "duration": 28,
    "start_time": "2023-03-24T18:36:26.142Z"
   },
   {
    "duration": 20,
    "start_time": "2023-03-24T18:36:26.172Z"
   },
   {
    "duration": 12,
    "start_time": "2023-03-24T18:36:26.194Z"
   },
   {
    "duration": 283,
    "start_time": "2023-03-24T18:36:26.210Z"
   },
   {
    "duration": 4,
    "start_time": "2023-03-24T18:36:26.495Z"
   },
   {
    "duration": 11,
    "start_time": "2023-03-24T18:36:26.501Z"
   },
   {
    "duration": 14,
    "start_time": "2023-03-24T18:36:26.513Z"
   },
   {
    "duration": 11,
    "start_time": "2023-03-24T18:36:26.528Z"
   },
   {
    "duration": 9,
    "start_time": "2023-03-24T18:36:26.540Z"
   },
   {
    "duration": 228,
    "start_time": "2023-03-24T18:36:26.550Z"
   },
   {
    "duration": 207,
    "start_time": "2023-03-24T18:36:26.779Z"
   },
   {
    "duration": 141,
    "start_time": "2023-03-24T18:36:26.988Z"
   },
   {
    "duration": 15,
    "start_time": "2023-03-24T18:36:27.131Z"
   },
   {
    "duration": 318,
    "start_time": "2023-03-24T18:36:27.149Z"
   },
   {
    "duration": 210,
    "start_time": "2023-03-24T18:36:27.469Z"
   },
   {
    "duration": 320,
    "start_time": "2023-03-24T18:36:27.681Z"
   },
   {
    "duration": 225,
    "start_time": "2023-03-24T18:36:28.002Z"
   },
   {
    "duration": 334,
    "start_time": "2023-03-24T18:36:28.229Z"
   },
   {
    "duration": 164,
    "start_time": "2023-03-24T18:36:28.565Z"
   },
   {
    "duration": 162,
    "start_time": "2023-03-24T18:36:28.731Z"
   },
   {
    "duration": 6,
    "start_time": "2023-03-24T18:36:28.895Z"
   },
   {
    "duration": 19,
    "start_time": "2023-03-24T18:36:28.904Z"
   },
   {
    "duration": 4,
    "start_time": "2023-03-24T18:36:28.925Z"
   },
   {
    "duration": 8,
    "start_time": "2023-03-24T18:36:28.931Z"
   },
   {
    "duration": 120,
    "start_time": "2023-03-24T18:36:28.940Z"
   },
   {
    "duration": 0,
    "start_time": "2023-03-24T18:36:29.062Z"
   },
   {
    "duration": 0,
    "start_time": "2023-03-24T18:36:29.063Z"
   },
   {
    "duration": 0,
    "start_time": "2023-03-24T18:36:29.065Z"
   },
   {
    "duration": 0,
    "start_time": "2023-03-24T18:36:29.066Z"
   },
   {
    "duration": 0,
    "start_time": "2023-03-24T18:36:29.067Z"
   },
   {
    "duration": 0,
    "start_time": "2023-03-24T18:36:29.069Z"
   },
   {
    "duration": 0,
    "start_time": "2023-03-24T18:36:29.070Z"
   },
   {
    "duration": 0,
    "start_time": "2023-03-24T18:36:29.071Z"
   },
   {
    "duration": 0,
    "start_time": "2023-03-24T18:36:29.072Z"
   },
   {
    "duration": 278,
    "start_time": "2023-03-24T18:36:42.079Z"
   },
   {
    "duration": 1176,
    "start_time": "2023-03-24T18:36:48.217Z"
   },
   {
    "duration": 3,
    "start_time": "2023-03-24T18:36:49.396Z"
   },
   {
    "duration": 80,
    "start_time": "2023-03-24T18:36:49.401Z"
   },
   {
    "duration": 12,
    "start_time": "2023-03-24T18:36:49.483Z"
   },
   {
    "duration": 12,
    "start_time": "2023-03-24T18:36:49.496Z"
   },
   {
    "duration": 12,
    "start_time": "2023-03-24T18:36:49.509Z"
   },
   {
    "duration": 12,
    "start_time": "2023-03-24T18:36:49.523Z"
   },
   {
    "duration": 11,
    "start_time": "2023-03-24T18:36:49.536Z"
   },
   {
    "duration": 7,
    "start_time": "2023-03-24T18:36:49.548Z"
   },
   {
    "duration": 303,
    "start_time": "2023-03-24T18:36:49.557Z"
   },
   {
    "duration": 4,
    "start_time": "2023-03-24T18:36:49.862Z"
   },
   {
    "duration": 20,
    "start_time": "2023-03-24T18:36:49.868Z"
   },
   {
    "duration": 22,
    "start_time": "2023-03-24T18:36:49.891Z"
   },
   {
    "duration": 17,
    "start_time": "2023-03-24T18:36:49.915Z"
   },
   {
    "duration": 12,
    "start_time": "2023-03-24T18:36:49.934Z"
   },
   {
    "duration": 245,
    "start_time": "2023-03-24T18:36:49.949Z"
   },
   {
    "duration": 271,
    "start_time": "2023-03-24T18:36:50.196Z"
   },
   {
    "duration": 166,
    "start_time": "2023-03-24T18:36:50.469Z"
   },
   {
    "duration": 13,
    "start_time": "2023-03-24T18:36:50.636Z"
   },
   {
    "duration": 325,
    "start_time": "2023-03-24T18:36:50.650Z"
   },
   {
    "duration": 216,
    "start_time": "2023-03-24T18:36:50.976Z"
   },
   {
    "duration": 367,
    "start_time": "2023-03-24T18:36:51.194Z"
   },
   {
    "duration": 225,
    "start_time": "2023-03-24T18:36:51.563Z"
   },
   {
    "duration": 378,
    "start_time": "2023-03-24T18:36:51.790Z"
   },
   {
    "duration": 156,
    "start_time": "2023-03-24T18:36:52.170Z"
   },
   {
    "duration": 156,
    "start_time": "2023-03-24T18:36:52.327Z"
   },
   {
    "duration": 7,
    "start_time": "2023-03-24T18:36:52.484Z"
   },
   {
    "duration": 6,
    "start_time": "2023-03-24T18:36:52.494Z"
   },
   {
    "duration": 5,
    "start_time": "2023-03-24T18:36:52.502Z"
   },
   {
    "duration": 8,
    "start_time": "2023-03-24T18:36:52.524Z"
   },
   {
    "duration": 110,
    "start_time": "2023-03-24T18:36:52.533Z"
   },
   {
    "duration": 0,
    "start_time": "2023-03-24T18:36:52.645Z"
   },
   {
    "duration": 0,
    "start_time": "2023-03-24T18:36:52.646Z"
   },
   {
    "duration": 0,
    "start_time": "2023-03-24T18:36:52.647Z"
   },
   {
    "duration": 0,
    "start_time": "2023-03-24T18:36:52.649Z"
   },
   {
    "duration": 0,
    "start_time": "2023-03-24T18:36:52.650Z"
   },
   {
    "duration": 0,
    "start_time": "2023-03-24T18:36:52.650Z"
   },
   {
    "duration": 0,
    "start_time": "2023-03-24T18:36:52.651Z"
   },
   {
    "duration": 0,
    "start_time": "2023-03-24T18:36:52.652Z"
   },
   {
    "duration": 0,
    "start_time": "2023-03-24T18:36:52.654Z"
   },
   {
    "duration": 13,
    "start_time": "2023-03-24T18:37:32.496Z"
   },
   {
    "duration": 1139,
    "start_time": "2023-03-24T18:37:47.474Z"
   },
   {
    "duration": 8,
    "start_time": "2023-03-24T18:37:48.615Z"
   },
   {
    "duration": 78,
    "start_time": "2023-03-24T18:37:48.625Z"
   },
   {
    "duration": 12,
    "start_time": "2023-03-24T18:37:48.705Z"
   },
   {
    "duration": 14,
    "start_time": "2023-03-24T18:37:48.718Z"
   },
   {
    "duration": 15,
    "start_time": "2023-03-24T18:37:48.734Z"
   },
   {
    "duration": 13,
    "start_time": "2023-03-24T18:37:48.751Z"
   },
   {
    "duration": 12,
    "start_time": "2023-03-24T18:37:48.765Z"
   },
   {
    "duration": 17,
    "start_time": "2023-03-24T18:37:48.779Z"
   },
   {
    "duration": 299,
    "start_time": "2023-03-24T18:37:48.799Z"
   },
   {
    "duration": 4,
    "start_time": "2023-03-24T18:37:49.100Z"
   },
   {
    "duration": 35,
    "start_time": "2023-03-24T18:37:49.106Z"
   },
   {
    "duration": 46,
    "start_time": "2023-03-24T18:37:49.143Z"
   },
   {
    "duration": 30,
    "start_time": "2023-03-24T18:37:49.190Z"
   },
   {
    "duration": 17,
    "start_time": "2023-03-24T18:37:49.221Z"
   },
   {
    "duration": 192,
    "start_time": "2023-03-24T18:37:49.239Z"
   },
   {
    "duration": 193,
    "start_time": "2023-03-24T18:37:49.433Z"
   },
   {
    "duration": 133,
    "start_time": "2023-03-24T18:37:49.628Z"
   },
   {
    "duration": 12,
    "start_time": "2023-03-24T18:37:49.763Z"
   },
   {
    "duration": 304,
    "start_time": "2023-03-24T18:37:49.777Z"
   },
   {
    "duration": 257,
    "start_time": "2023-03-24T18:37:50.083Z"
   },
   {
    "duration": 304,
    "start_time": "2023-03-24T18:37:50.342Z"
   },
   {
    "duration": 232,
    "start_time": "2023-03-24T18:37:50.648Z"
   },
   {
    "duration": 330,
    "start_time": "2023-03-24T18:37:50.882Z"
   },
   {
    "duration": 175,
    "start_time": "2023-03-24T18:37:51.214Z"
   },
   {
    "duration": 142,
    "start_time": "2023-03-24T18:37:51.391Z"
   },
   {
    "duration": 7,
    "start_time": "2023-03-24T18:37:51.535Z"
   },
   {
    "duration": 26,
    "start_time": "2023-03-24T18:37:51.546Z"
   },
   {
    "duration": 39,
    "start_time": "2023-03-24T18:37:51.573Z"
   },
   {
    "duration": 21,
    "start_time": "2023-03-24T18:37:51.613Z"
   },
   {
    "duration": 163,
    "start_time": "2023-03-24T18:37:51.636Z"
   },
   {
    "duration": 9,
    "start_time": "2023-03-24T18:37:51.801Z"
   },
   {
    "duration": 22,
    "start_time": "2023-03-24T18:37:51.812Z"
   },
   {
    "duration": 30,
    "start_time": "2023-03-24T18:37:51.835Z"
   },
   {
    "duration": 207,
    "start_time": "2023-03-24T18:37:51.867Z"
   },
   {
    "duration": 21,
    "start_time": "2023-03-24T18:37:52.076Z"
   },
   {
    "duration": 40,
    "start_time": "2023-03-24T18:37:52.099Z"
   },
   {
    "duration": 12,
    "start_time": "2023-03-24T18:37:52.141Z"
   },
   {
    "duration": 20,
    "start_time": "2023-03-24T18:37:52.155Z"
   },
   {
    "duration": 42,
    "start_time": "2023-03-24T18:37:52.177Z"
   },
   {
    "duration": 15,
    "start_time": "2023-03-24T18:37:52.221Z"
   },
   {
    "duration": 45,
    "start_time": "2023-03-25T10:12:15.222Z"
   },
   {
    "duration": 1294,
    "start_time": "2023-03-25T10:12:22.326Z"
   },
   {
    "duration": 3,
    "start_time": "2023-03-25T10:12:23.622Z"
   },
   {
    "duration": 245,
    "start_time": "2023-03-25T10:12:23.626Z"
   },
   {
    "duration": 11,
    "start_time": "2023-03-25T10:12:23.873Z"
   },
   {
    "duration": 11,
    "start_time": "2023-03-25T10:12:23.885Z"
   },
   {
    "duration": 12,
    "start_time": "2023-03-25T10:12:23.898Z"
   },
   {
    "duration": 14,
    "start_time": "2023-03-25T10:12:23.912Z"
   },
   {
    "duration": 12,
    "start_time": "2023-03-25T10:12:23.928Z"
   },
   {
    "duration": 9,
    "start_time": "2023-03-25T10:12:23.941Z"
   },
   {
    "duration": 269,
    "start_time": "2023-03-25T10:12:23.953Z"
   },
   {
    "duration": 4,
    "start_time": "2023-03-25T10:12:24.224Z"
   },
   {
    "duration": 40,
    "start_time": "2023-03-25T10:12:24.229Z"
   },
   {
    "duration": 33,
    "start_time": "2023-03-25T10:12:24.271Z"
   },
   {
    "duration": 12,
    "start_time": "2023-03-25T10:12:24.306Z"
   },
   {
    "duration": 7,
    "start_time": "2023-03-25T10:12:24.320Z"
   },
   {
    "duration": 193,
    "start_time": "2023-03-25T10:12:24.329Z"
   },
   {
    "duration": 185,
    "start_time": "2023-03-25T10:12:24.524Z"
   },
   {
    "duration": 130,
    "start_time": "2023-03-25T10:12:24.711Z"
   },
   {
    "duration": 11,
    "start_time": "2023-03-25T10:12:24.843Z"
   },
   {
    "duration": 281,
    "start_time": "2023-03-25T10:12:24.855Z"
   },
   {
    "duration": 198,
    "start_time": "2023-03-25T10:12:25.140Z"
   },
   {
    "duration": 324,
    "start_time": "2023-03-25T10:12:25.340Z"
   },
   {
    "duration": 202,
    "start_time": "2023-03-25T10:12:25.666Z"
   },
   {
    "duration": 301,
    "start_time": "2023-03-25T10:12:25.870Z"
   },
   {
    "duration": 143,
    "start_time": "2023-03-25T10:12:26.172Z"
   },
   {
    "duration": 133,
    "start_time": "2023-03-25T10:12:26.317Z"
   },
   {
    "duration": 7,
    "start_time": "2023-03-25T10:12:26.452Z"
   },
   {
    "duration": 6,
    "start_time": "2023-03-25T10:12:26.462Z"
   },
   {
    "duration": 5,
    "start_time": "2023-03-25T10:12:26.469Z"
   },
   {
    "duration": 127,
    "start_time": "2023-03-25T10:12:26.476Z"
   },
   {
    "duration": 8,
    "start_time": "2023-03-25T10:12:26.605Z"
   },
   {
    "duration": 5,
    "start_time": "2023-03-25T10:12:26.614Z"
   },
   {
    "duration": 21,
    "start_time": "2023-03-25T10:12:26.620Z"
   },
   {
    "duration": 198,
    "start_time": "2023-03-25T10:12:26.643Z"
   },
   {
    "duration": 22,
    "start_time": "2023-03-25T10:12:26.843Z"
   },
   {
    "duration": 31,
    "start_time": "2023-03-25T10:12:26.867Z"
   },
   {
    "duration": 10,
    "start_time": "2023-03-25T10:12:26.900Z"
   },
   {
    "duration": 34,
    "start_time": "2023-03-25T10:12:26.911Z"
   },
   {
    "duration": 23,
    "start_time": "2023-03-25T10:12:26.946Z"
   },
   {
    "duration": 13,
    "start_time": "2023-03-25T10:12:26.971Z"
   },
   {
    "duration": 12,
    "start_time": "2023-03-25T10:13:08.947Z"
   },
   {
    "duration": 11,
    "start_time": "2023-03-25T10:13:27.133Z"
   },
   {
    "duration": 75,
    "start_time": "2023-03-25T10:13:53.078Z"
   },
   {
    "duration": 5,
    "start_time": "2023-03-25T10:14:29.532Z"
   },
   {
    "duration": 73,
    "start_time": "2023-03-25T10:14:41.815Z"
   },
   {
    "duration": 20,
    "start_time": "2023-03-25T10:15:32.077Z"
   },
   {
    "duration": 6,
    "start_time": "2023-03-25T10:15:41.520Z"
   },
   {
    "duration": 5,
    "start_time": "2023-03-25T10:16:10.530Z"
   },
   {
    "duration": 6,
    "start_time": "2023-03-25T10:16:19.054Z"
   },
   {
    "duration": 5,
    "start_time": "2023-03-25T10:16:24.933Z"
   },
   {
    "duration": 5,
    "start_time": "2023-03-25T10:16:42.075Z"
   },
   {
    "duration": 5,
    "start_time": "2023-03-25T10:17:12.037Z"
   },
   {
    "duration": 7,
    "start_time": "2023-03-25T10:17:38.708Z"
   },
   {
    "duration": 5,
    "start_time": "2023-03-25T10:19:11.879Z"
   },
   {
    "duration": 9,
    "start_time": "2023-03-25T10:19:20.065Z"
   },
   {
    "duration": 13,
    "start_time": "2023-03-25T10:19:48.266Z"
   },
   {
    "duration": 11,
    "start_time": "2023-03-25T10:19:58.258Z"
   },
   {
    "duration": 11,
    "start_time": "2023-03-25T10:20:25.588Z"
   },
   {
    "duration": 13,
    "start_time": "2023-03-25T10:20:28.914Z"
   },
   {
    "duration": 68,
    "start_time": "2023-03-25T10:20:46.513Z"
   },
   {
    "duration": 72,
    "start_time": "2023-03-25T10:21:04.961Z"
   },
   {
    "duration": 230,
    "start_time": "2023-03-25T10:23:15.269Z"
   },
   {
    "duration": 414,
    "start_time": "2023-03-25T10:24:04.337Z"
   },
   {
    "duration": 232,
    "start_time": "2023-03-25T10:37:04.242Z"
   },
   {
    "duration": 204,
    "start_time": "2023-03-25T10:37:12.811Z"
   },
   {
    "duration": 202,
    "start_time": "2023-03-25T10:37:57.441Z"
   },
   {
    "duration": 71,
    "start_time": "2023-03-25T10:38:32.068Z"
   },
   {
    "duration": 208,
    "start_time": "2023-03-25T10:39:15.761Z"
   },
   {
    "duration": 298,
    "start_time": "2023-03-25T10:39:26.793Z"
   },
   {
    "duration": 334,
    "start_time": "2023-03-25T10:40:04.464Z"
   },
   {
    "duration": 222,
    "start_time": "2023-03-25T10:40:47.768Z"
   },
   {
    "duration": 241,
    "start_time": "2023-03-25T10:43:37.368Z"
   },
   {
    "duration": 219,
    "start_time": "2023-03-25T10:43:42.189Z"
   },
   {
    "duration": 227,
    "start_time": "2023-03-25T10:43:45.216Z"
   },
   {
    "duration": 306,
    "start_time": "2023-03-25T10:43:50.054Z"
   },
   {
    "duration": 221,
    "start_time": "2023-03-25T10:43:53.607Z"
   },
   {
    "duration": 210,
    "start_time": "2023-03-25T10:44:16.636Z"
   },
   {
    "duration": 228,
    "start_time": "2023-03-25T10:44:20.720Z"
   },
   {
    "duration": 412,
    "start_time": "2023-03-25T10:49:38.530Z"
   },
   {
    "duration": 181,
    "start_time": "2023-03-25T10:56:51.436Z"
   },
   {
    "duration": 179,
    "start_time": "2023-03-25T10:57:15.285Z"
   },
   {
    "duration": 153,
    "start_time": "2023-03-25T10:58:16.935Z"
   },
   {
    "duration": 172,
    "start_time": "2023-03-25T10:58:32.297Z"
   },
   {
    "duration": 155,
    "start_time": "2023-03-25T10:58:48.456Z"
   },
   {
    "duration": 163,
    "start_time": "2023-03-25T10:59:07.041Z"
   },
   {
    "duration": 3,
    "start_time": "2023-03-25T10:59:09.411Z"
   },
   {
    "duration": 5,
    "start_time": "2023-03-25T10:59:09.416Z"
   },
   {
    "duration": 73,
    "start_time": "2023-03-25T10:59:09.423Z"
   },
   {
    "duration": 7,
    "start_time": "2023-03-25T10:59:09.497Z"
   },
   {
    "duration": 21,
    "start_time": "2023-03-25T10:59:09.506Z"
   },
   {
    "duration": 12,
    "start_time": "2023-03-25T10:59:09.529Z"
   },
   {
    "duration": 16,
    "start_time": "2023-03-25T10:59:09.543Z"
   },
   {
    "duration": 15,
    "start_time": "2023-03-25T10:59:09.561Z"
   },
   {
    "duration": 4,
    "start_time": "2023-03-25T10:59:09.578Z"
   },
   {
    "duration": 289,
    "start_time": "2023-03-25T10:59:09.583Z"
   },
   {
    "duration": 4,
    "start_time": "2023-03-25T10:59:09.875Z"
   },
   {
    "duration": 8,
    "start_time": "2023-03-25T10:59:09.881Z"
   },
   {
    "duration": 5,
    "start_time": "2023-03-25T10:59:09.891Z"
   },
   {
    "duration": 6,
    "start_time": "2023-03-25T10:59:09.897Z"
   },
   {
    "duration": 17,
    "start_time": "2023-03-25T10:59:09.905Z"
   },
   {
    "duration": 24,
    "start_time": "2023-03-25T10:59:09.924Z"
   },
   {
    "duration": 7,
    "start_time": "2023-03-25T10:59:09.950Z"
   },
   {
    "duration": 11,
    "start_time": "2023-03-25T10:59:09.958Z"
   },
   {
    "duration": 14,
    "start_time": "2023-03-25T10:59:09.970Z"
   },
   {
    "duration": 190,
    "start_time": "2023-03-25T10:59:09.985Z"
   },
   {
    "duration": 176,
    "start_time": "2023-03-25T10:59:10.176Z"
   },
   {
    "duration": 124,
    "start_time": "2023-03-25T10:59:10.354Z"
   },
   {
    "duration": 11,
    "start_time": "2023-03-25T10:59:10.480Z"
   },
   {
    "duration": 290,
    "start_time": "2023-03-25T10:59:10.493Z"
   },
   {
    "duration": 206,
    "start_time": "2023-03-25T10:59:10.785Z"
   },
   {
    "duration": 293,
    "start_time": "2023-03-25T10:59:10.993Z"
   },
   {
    "duration": 252,
    "start_time": "2023-03-25T10:59:11.288Z"
   },
   {
    "duration": 368,
    "start_time": "2023-03-25T10:59:11.543Z"
   },
   {
    "duration": 177,
    "start_time": "2023-03-25T10:59:11.915Z"
   },
   {
    "duration": 157,
    "start_time": "2023-03-25T10:59:12.094Z"
   },
   {
    "duration": 173,
    "start_time": "2023-03-25T10:59:12.252Z"
   },
   {
    "duration": 16,
    "start_time": "2023-03-25T10:59:12.426Z"
   },
   {
    "duration": 4,
    "start_time": "2023-03-25T10:59:12.444Z"
   },
   {
    "duration": 4,
    "start_time": "2023-03-25T10:59:12.449Z"
   },
   {
    "duration": 142,
    "start_time": "2023-03-25T10:59:12.455Z"
   },
   {
    "duration": 9,
    "start_time": "2023-03-25T10:59:12.598Z"
   },
   {
    "duration": 15,
    "start_time": "2023-03-25T10:59:12.609Z"
   },
   {
    "duration": 16,
    "start_time": "2023-03-25T10:59:12.626Z"
   },
   {
    "duration": 189,
    "start_time": "2023-03-25T10:59:12.644Z"
   },
   {
    "duration": 26,
    "start_time": "2023-03-25T10:59:12.834Z"
   },
   {
    "duration": 30,
    "start_time": "2023-03-25T10:59:12.862Z"
   },
   {
    "duration": 10,
    "start_time": "2023-03-25T10:59:12.894Z"
   },
   {
    "duration": 35,
    "start_time": "2023-03-25T10:59:12.906Z"
   },
   {
    "duration": 24,
    "start_time": "2023-03-25T10:59:12.943Z"
   },
   {
    "duration": 14,
    "start_time": "2023-03-25T10:59:12.968Z"
   },
   {
    "duration": 1103,
    "start_time": "2023-03-25T10:59:22.771Z"
   },
   {
    "duration": 4,
    "start_time": "2023-03-25T10:59:23.875Z"
   },
   {
    "duration": 78,
    "start_time": "2023-03-25T10:59:23.880Z"
   },
   {
    "duration": 11,
    "start_time": "2023-03-25T10:59:23.960Z"
   },
   {
    "duration": 14,
    "start_time": "2023-03-25T10:59:23.973Z"
   },
   {
    "duration": 8,
    "start_time": "2023-03-25T10:59:23.988Z"
   },
   {
    "duration": 9,
    "start_time": "2023-03-25T10:59:23.998Z"
   },
   {
    "duration": 8,
    "start_time": "2023-03-25T10:59:24.009Z"
   },
   {
    "duration": 8,
    "start_time": "2023-03-25T10:59:24.018Z"
   },
   {
    "duration": 279,
    "start_time": "2023-03-25T10:59:24.028Z"
   },
   {
    "duration": 4,
    "start_time": "2023-03-25T10:59:24.309Z"
   },
   {
    "duration": 8,
    "start_time": "2023-03-25T10:59:24.314Z"
   },
   {
    "duration": 5,
    "start_time": "2023-03-25T10:59:24.324Z"
   },
   {
    "duration": 4,
    "start_time": "2023-03-25T10:59:24.341Z"
   },
   {
    "duration": 7,
    "start_time": "2023-03-25T10:59:24.347Z"
   },
   {
    "duration": 11,
    "start_time": "2023-03-25T10:59:24.356Z"
   },
   {
    "duration": 7,
    "start_time": "2023-03-25T10:59:24.369Z"
   },
   {
    "duration": 18,
    "start_time": "2023-03-25T10:59:24.377Z"
   },
   {
    "duration": 11,
    "start_time": "2023-03-25T10:59:24.396Z"
   },
   {
    "duration": 203,
    "start_time": "2023-03-25T10:59:24.409Z"
   },
   {
    "duration": 181,
    "start_time": "2023-03-25T10:59:24.614Z"
   },
   {
    "duration": 117,
    "start_time": "2023-03-25T10:59:24.797Z"
   },
   {
    "duration": 11,
    "start_time": "2023-03-25T10:59:24.915Z"
   },
   {
    "duration": 301,
    "start_time": "2023-03-25T10:59:24.928Z"
   },
   {
    "duration": 217,
    "start_time": "2023-03-25T10:59:25.230Z"
   },
   {
    "duration": 295,
    "start_time": "2023-03-25T10:59:25.450Z"
   },
   {
    "duration": 224,
    "start_time": "2023-03-25T10:59:25.746Z"
   },
   {
    "duration": 328,
    "start_time": "2023-03-25T10:59:25.975Z"
   },
   {
    "duration": 157,
    "start_time": "2023-03-25T10:59:26.305Z"
   },
   {
    "duration": 155,
    "start_time": "2023-03-25T10:59:26.463Z"
   },
   {
    "duration": 158,
    "start_time": "2023-03-25T10:59:26.620Z"
   },
   {
    "duration": 7,
    "start_time": "2023-03-25T10:59:26.779Z"
   },
   {
    "duration": 6,
    "start_time": "2023-03-25T10:59:26.787Z"
   },
   {
    "duration": 4,
    "start_time": "2023-03-25T10:59:26.795Z"
   },
   {
    "duration": 129,
    "start_time": "2023-03-25T10:59:26.801Z"
   },
   {
    "duration": 13,
    "start_time": "2023-03-25T10:59:26.931Z"
   },
   {
    "duration": 16,
    "start_time": "2023-03-25T10:59:26.946Z"
   },
   {
    "duration": 19,
    "start_time": "2023-03-25T10:59:26.964Z"
   },
   {
    "duration": 275,
    "start_time": "2023-03-25T10:59:26.984Z"
   },
   {
    "duration": 22,
    "start_time": "2023-03-25T10:59:27.261Z"
   },
   {
    "duration": 31,
    "start_time": "2023-03-25T10:59:27.285Z"
   },
   {
    "duration": 15,
    "start_time": "2023-03-25T10:59:27.341Z"
   },
   {
    "duration": 10,
    "start_time": "2023-03-25T10:59:27.358Z"
   },
   {
    "duration": 33,
    "start_time": "2023-03-25T10:59:27.369Z"
   },
   {
    "duration": 39,
    "start_time": "2023-03-25T10:59:27.404Z"
   },
   {
    "duration": 71,
    "start_time": "2023-03-25T10:59:40.517Z"
   },
   {
    "duration": 71,
    "start_time": "2023-03-25T11:00:48.262Z"
   },
   {
    "duration": 8,
    "start_time": "2023-03-25T11:01:07.373Z"
   },
   {
    "duration": 5,
    "start_time": "2023-03-25T11:01:08.405Z"
   },
   {
    "duration": 9,
    "start_time": "2023-03-25T11:01:47.509Z"
   },
   {
    "duration": 4,
    "start_time": "2023-03-25T11:01:52.899Z"
   },
   {
    "duration": 5,
    "start_time": "2023-03-25T11:02:17.125Z"
   },
   {
    "duration": 4,
    "start_time": "2023-03-25T11:02:26.198Z"
   },
   {
    "duration": 10,
    "start_time": "2023-03-25T11:02:54.283Z"
   },
   {
    "duration": 5,
    "start_time": "2023-03-25T11:02:54.960Z"
   },
   {
    "duration": 4,
    "start_time": "2023-03-25T11:04:28.737Z"
   },
   {
    "duration": 5,
    "start_time": "2023-03-25T11:05:06.350Z"
   },
   {
    "duration": 5,
    "start_time": "2023-03-25T11:05:14.851Z"
   },
   {
    "duration": 83,
    "start_time": "2023-03-25T11:07:10.076Z"
   },
   {
    "duration": 95,
    "start_time": "2023-03-25T11:07:26.846Z"
   },
   {
    "duration": 74,
    "start_time": "2023-03-25T11:09:05.325Z"
   },
   {
    "duration": 4,
    "start_time": "2023-03-25T11:09:12.317Z"
   },
   {
    "duration": 69,
    "start_time": "2023-03-25T11:09:32.053Z"
   },
   {
    "duration": 15,
    "start_time": "2023-03-25T11:11:24.475Z"
   },
   {
    "duration": 11,
    "start_time": "2023-03-25T11:11:33.441Z"
   },
   {
    "duration": 128,
    "start_time": "2023-03-25T11:13:23.006Z"
   },
   {
    "duration": 47,
    "start_time": "2023-03-25T11:13:30.522Z"
   },
   {
    "duration": 27,
    "start_time": "2023-03-25T11:15:36.163Z"
   },
   {
    "duration": 34,
    "start_time": "2023-03-25T11:15:39.384Z"
   },
   {
    "duration": 1195,
    "start_time": "2023-03-25T11:20:27.855Z"
   },
   {
    "duration": 8,
    "start_time": "2023-03-25T11:20:29.054Z"
   },
   {
    "duration": 87,
    "start_time": "2023-03-25T11:20:29.064Z"
   },
   {
    "duration": 15,
    "start_time": "2023-03-25T11:20:29.154Z"
   },
   {
    "duration": 11,
    "start_time": "2023-03-25T11:20:29.172Z"
   },
   {
    "duration": 13,
    "start_time": "2023-03-25T11:20:29.184Z"
   },
   {
    "duration": 19,
    "start_time": "2023-03-25T11:20:29.199Z"
   },
   {
    "duration": 28,
    "start_time": "2023-03-25T11:20:29.220Z"
   },
   {
    "duration": 12,
    "start_time": "2023-03-25T11:20:29.250Z"
   },
   {
    "duration": 299,
    "start_time": "2023-03-25T11:20:29.264Z"
   },
   {
    "duration": 4,
    "start_time": "2023-03-25T11:20:29.564Z"
   },
   {
    "duration": 16,
    "start_time": "2023-03-25T11:20:29.570Z"
   },
   {
    "duration": 10,
    "start_time": "2023-03-25T11:20:29.588Z"
   },
   {
    "duration": 4,
    "start_time": "2023-03-25T11:20:29.602Z"
   },
   {
    "duration": 20,
    "start_time": "2023-03-25T11:20:29.608Z"
   },
   {
    "duration": 21,
    "start_time": "2023-03-25T11:20:29.629Z"
   },
   {
    "duration": 12,
    "start_time": "2023-03-25T11:20:29.652Z"
   },
   {
    "duration": 20,
    "start_time": "2023-03-25T11:20:29.666Z"
   },
   {
    "duration": 10,
    "start_time": "2023-03-25T11:20:29.688Z"
   },
   {
    "duration": 221,
    "start_time": "2023-03-25T11:20:29.700Z"
   },
   {
    "duration": 206,
    "start_time": "2023-03-25T11:20:29.923Z"
   },
   {
    "duration": 158,
    "start_time": "2023-03-25T11:20:30.131Z"
   },
   {
    "duration": 13,
    "start_time": "2023-03-25T11:20:30.291Z"
   },
   {
    "duration": 375,
    "start_time": "2023-03-25T11:20:30.306Z"
   },
   {
    "duration": 245,
    "start_time": "2023-03-25T11:20:30.683Z"
   },
   {
    "duration": 341,
    "start_time": "2023-03-25T11:20:30.930Z"
   },
   {
    "duration": 285,
    "start_time": "2023-03-25T11:20:31.273Z"
   },
   {
    "duration": 392,
    "start_time": "2023-03-25T11:20:31.565Z"
   },
   {
    "duration": 189,
    "start_time": "2023-03-25T11:20:31.958Z"
   },
   {
    "duration": 184,
    "start_time": "2023-03-25T11:20:32.149Z"
   },
   {
    "duration": 194,
    "start_time": "2023-03-25T11:20:32.335Z"
   },
   {
    "duration": 15,
    "start_time": "2023-03-25T11:20:32.531Z"
   },
   {
    "duration": 50,
    "start_time": "2023-03-25T11:20:32.548Z"
   },
   {
    "duration": 17,
    "start_time": "2023-03-25T11:20:32.600Z"
   },
   {
    "duration": 84,
    "start_time": "2023-03-25T11:20:32.619Z"
   },
   {
    "duration": 0,
    "start_time": "2023-03-25T11:20:32.704Z"
   },
   {
    "duration": 0,
    "start_time": "2023-03-25T11:20:32.706Z"
   },
   {
    "duration": 0,
    "start_time": "2023-03-25T11:20:32.707Z"
   },
   {
    "duration": 0,
    "start_time": "2023-03-25T11:20:32.708Z"
   },
   {
    "duration": 0,
    "start_time": "2023-03-25T11:20:32.710Z"
   },
   {
    "duration": 0,
    "start_time": "2023-03-25T11:20:32.710Z"
   },
   {
    "duration": 1,
    "start_time": "2023-03-25T11:20:32.711Z"
   },
   {
    "duration": 0,
    "start_time": "2023-03-25T11:20:32.712Z"
   },
   {
    "duration": 0,
    "start_time": "2023-03-25T11:20:32.713Z"
   },
   {
    "duration": 0,
    "start_time": "2023-03-25T11:20:32.714Z"
   },
   {
    "duration": 1155,
    "start_time": "2023-03-25T11:20:52.371Z"
   },
   {
    "duration": 3,
    "start_time": "2023-03-25T11:20:53.528Z"
   },
   {
    "duration": 78,
    "start_time": "2023-03-25T11:20:53.542Z"
   },
   {
    "duration": 12,
    "start_time": "2023-03-25T11:20:53.622Z"
   },
   {
    "duration": 15,
    "start_time": "2023-03-25T11:20:53.635Z"
   },
   {
    "duration": 10,
    "start_time": "2023-03-25T11:20:53.652Z"
   },
   {
    "duration": 26,
    "start_time": "2023-03-25T11:20:53.664Z"
   },
   {
    "duration": 11,
    "start_time": "2023-03-25T11:20:53.692Z"
   },
   {
    "duration": 8,
    "start_time": "2023-03-25T11:20:53.704Z"
   },
   {
    "duration": 296,
    "start_time": "2023-03-25T11:20:53.714Z"
   },
   {
    "duration": 5,
    "start_time": "2023-03-25T11:20:54.011Z"
   },
   {
    "duration": 12,
    "start_time": "2023-03-25T11:20:54.017Z"
   },
   {
    "duration": 16,
    "start_time": "2023-03-25T11:20:54.030Z"
   },
   {
    "duration": 10,
    "start_time": "2023-03-25T11:20:54.048Z"
   },
   {
    "duration": 8,
    "start_time": "2023-03-25T11:20:54.060Z"
   },
   {
    "duration": 29,
    "start_time": "2023-03-25T11:20:54.069Z"
   },
   {
    "duration": 11,
    "start_time": "2023-03-25T11:20:54.099Z"
   },
   {
    "duration": 49,
    "start_time": "2023-03-25T11:20:54.112Z"
   },
   {
    "duration": 23,
    "start_time": "2023-03-25T11:20:54.162Z"
   },
   {
    "duration": 199,
    "start_time": "2023-03-25T11:20:54.186Z"
   },
   {
    "duration": 206,
    "start_time": "2023-03-25T11:20:54.386Z"
   },
   {
    "duration": 127,
    "start_time": "2023-03-25T11:20:54.594Z"
   },
   {
    "duration": 19,
    "start_time": "2023-03-25T11:20:54.723Z"
   },
   {
    "duration": 335,
    "start_time": "2023-03-25T11:20:54.744Z"
   },
   {
    "duration": 237,
    "start_time": "2023-03-25T11:20:55.080Z"
   },
   {
    "duration": 347,
    "start_time": "2023-03-25T11:20:55.319Z"
   },
   {
    "duration": 256,
    "start_time": "2023-03-25T11:20:55.668Z"
   },
   {
    "duration": 397,
    "start_time": "2023-03-25T11:20:55.928Z"
   },
   {
    "duration": 173,
    "start_time": "2023-03-25T11:20:56.327Z"
   },
   {
    "duration": 170,
    "start_time": "2023-03-25T11:20:56.502Z"
   },
   {
    "duration": 187,
    "start_time": "2023-03-25T11:20:56.673Z"
   },
   {
    "duration": 8,
    "start_time": "2023-03-25T11:20:56.861Z"
   },
   {
    "duration": 8,
    "start_time": "2023-03-25T11:20:56.870Z"
   },
   {
    "duration": 8,
    "start_time": "2023-03-25T11:20:56.879Z"
   },
   {
    "duration": 19,
    "start_time": "2023-03-25T11:20:56.888Z"
   },
   {
    "duration": 117,
    "start_time": "2023-03-25T11:20:56.909Z"
   },
   {
    "duration": 19,
    "start_time": "2023-03-25T11:20:57.028Z"
   },
   {
    "duration": 6,
    "start_time": "2023-03-25T11:20:57.051Z"
   },
   {
    "duration": 74,
    "start_time": "2023-03-25T11:20:57.059Z"
   },
   {
    "duration": 0,
    "start_time": "2023-03-25T11:20:57.134Z"
   },
   {
    "duration": 0,
    "start_time": "2023-03-25T11:20:57.136Z"
   },
   {
    "duration": 0,
    "start_time": "2023-03-25T11:20:57.137Z"
   },
   {
    "duration": 0,
    "start_time": "2023-03-25T11:20:57.138Z"
   },
   {
    "duration": 0,
    "start_time": "2023-03-25T11:20:57.139Z"
   },
   {
    "duration": 4,
    "start_time": "2023-03-25T11:22:00.024Z"
   },
   {
    "duration": 29,
    "start_time": "2023-03-25T11:22:00.031Z"
   },
   {
    "duration": 78,
    "start_time": "2023-03-25T11:22:00.062Z"
   },
   {
    "duration": 8,
    "start_time": "2023-03-25T11:22:00.142Z"
   },
   {
    "duration": 46,
    "start_time": "2023-03-25T11:22:00.152Z"
   },
   {
    "duration": 54,
    "start_time": "2023-03-25T11:22:00.200Z"
   },
   {
    "duration": 43,
    "start_time": "2023-03-25T11:22:00.256Z"
   },
   {
    "duration": 24,
    "start_time": "2023-03-25T11:22:00.301Z"
   },
   {
    "duration": 32,
    "start_time": "2023-03-25T11:22:00.326Z"
   },
   {
    "duration": 435,
    "start_time": "2023-03-25T11:22:00.360Z"
   },
   {
    "duration": 4,
    "start_time": "2023-03-25T11:22:00.798Z"
   },
   {
    "duration": 35,
    "start_time": "2023-03-25T11:22:00.804Z"
   },
   {
    "duration": 42,
    "start_time": "2023-03-25T11:22:00.841Z"
   },
   {
    "duration": 35,
    "start_time": "2023-03-25T11:22:00.885Z"
   },
   {
    "duration": 48,
    "start_time": "2023-03-25T11:22:00.922Z"
   },
   {
    "duration": 44,
    "start_time": "2023-03-25T11:22:00.973Z"
   },
   {
    "duration": 92,
    "start_time": "2023-03-25T11:22:01.018Z"
   },
   {
    "duration": 59,
    "start_time": "2023-03-25T11:22:01.111Z"
   },
   {
    "duration": 50,
    "start_time": "2023-03-25T11:22:01.172Z"
   },
   {
    "duration": 253,
    "start_time": "2023-03-25T11:22:01.224Z"
   },
   {
    "duration": 229,
    "start_time": "2023-03-25T11:22:01.479Z"
   },
   {
    "duration": 159,
    "start_time": "2023-03-25T11:22:01.710Z"
   },
   {
    "duration": 13,
    "start_time": "2023-03-25T11:22:01.871Z"
   },
   {
    "duration": 380,
    "start_time": "2023-03-25T11:22:01.885Z"
   },
   {
    "duration": 231,
    "start_time": "2023-03-25T11:22:02.267Z"
   },
   {
    "duration": 367,
    "start_time": "2023-03-25T11:22:02.499Z"
   },
   {
    "duration": 243,
    "start_time": "2023-03-25T11:22:02.867Z"
   },
   {
    "duration": 395,
    "start_time": "2023-03-25T11:22:03.111Z"
   },
   {
    "duration": 178,
    "start_time": "2023-03-25T11:22:03.509Z"
   },
   {
    "duration": 6,
    "start_time": "2023-03-25T11:22:04.278Z"
   },
   {
    "duration": 5,
    "start_time": "2023-03-25T11:22:04.286Z"
   },
   {
    "duration": 77,
    "start_time": "2023-03-25T11:22:04.292Z"
   },
   {
    "duration": 10,
    "start_time": "2023-03-25T11:22:04.371Z"
   },
   {
    "duration": 26,
    "start_time": "2023-03-25T11:22:04.382Z"
   },
   {
    "duration": 27,
    "start_time": "2023-03-25T11:22:04.410Z"
   },
   {
    "duration": 21,
    "start_time": "2023-03-25T11:22:04.439Z"
   },
   {
    "duration": 9,
    "start_time": "2023-03-25T11:22:04.462Z"
   },
   {
    "duration": 6,
    "start_time": "2023-03-25T11:22:04.472Z"
   },
   {
    "duration": 312,
    "start_time": "2023-03-25T11:22:04.479Z"
   },
   {
    "duration": 4,
    "start_time": "2023-03-25T11:22:04.793Z"
   },
   {
    "duration": 27,
    "start_time": "2023-03-25T11:22:04.798Z"
   },
   {
    "duration": 29,
    "start_time": "2023-03-25T11:22:04.826Z"
   },
   {
    "duration": 30,
    "start_time": "2023-03-25T11:22:04.857Z"
   },
   {
    "duration": 10,
    "start_time": "2023-03-25T11:22:04.889Z"
   },
   {
    "duration": 19,
    "start_time": "2023-03-25T11:22:04.900Z"
   },
   {
    "duration": 8,
    "start_time": "2023-03-25T11:22:04.920Z"
   },
   {
    "duration": 18,
    "start_time": "2023-03-25T11:22:04.929Z"
   },
   {
    "duration": 13,
    "start_time": "2023-03-25T11:22:04.950Z"
   },
   {
    "duration": 254,
    "start_time": "2023-03-25T11:22:04.964Z"
   },
   {
    "duration": 220,
    "start_time": "2023-03-25T11:22:05.220Z"
   },
   {
    "duration": 140,
    "start_time": "2023-03-25T11:22:05.443Z"
   },
   {
    "duration": 12,
    "start_time": "2023-03-25T11:22:05.585Z"
   },
   {
    "duration": 229,
    "start_time": "2023-03-25T11:22:05.599Z"
   },
   {
    "duration": 240,
    "start_time": "2023-03-25T11:22:05.830Z"
   },
   {
    "duration": 408,
    "start_time": "2023-03-25T11:22:06.073Z"
   },
   {
    "duration": 242,
    "start_time": "2023-03-25T11:22:06.483Z"
   },
   {
    "duration": 388,
    "start_time": "2023-03-25T11:22:06.731Z"
   },
   {
    "duration": 194,
    "start_time": "2023-03-25T11:22:07.120Z"
   },
   {
    "duration": 202,
    "start_time": "2023-03-25T11:22:07.316Z"
   },
   {
    "duration": 176,
    "start_time": "2023-03-25T11:22:07.520Z"
   },
   {
    "duration": 7,
    "start_time": "2023-03-25T11:22:07.698Z"
   },
   {
    "duration": 11,
    "start_time": "2023-03-25T11:22:07.707Z"
   },
   {
    "duration": 5,
    "start_time": "2023-03-25T11:22:07.719Z"
   },
   {
    "duration": 5,
    "start_time": "2023-03-25T11:22:07.742Z"
   },
   {
    "duration": 136,
    "start_time": "2023-03-25T11:22:07.749Z"
   },
   {
    "duration": 10,
    "start_time": "2023-03-25T11:22:07.887Z"
   },
   {
    "duration": 4,
    "start_time": "2023-03-25T11:22:07.898Z"
   },
   {
    "duration": 116,
    "start_time": "2023-03-25T11:22:07.904Z"
   },
   {
    "duration": 0,
    "start_time": "2023-03-25T11:22:08.022Z"
   },
   {
    "duration": 0,
    "start_time": "2023-03-25T11:22:08.023Z"
   },
   {
    "duration": 0,
    "start_time": "2023-03-25T11:22:08.025Z"
   },
   {
    "duration": 0,
    "start_time": "2023-03-25T11:22:08.026Z"
   },
   {
    "duration": 9,
    "start_time": "2023-03-25T11:22:25.863Z"
   },
   {
    "duration": 13,
    "start_time": "2023-03-25T11:23:04.798Z"
   },
   {
    "duration": 27,
    "start_time": "2023-03-25T11:23:17.300Z"
   },
   {
    "duration": 1113,
    "start_time": "2023-03-25T11:23:25.312Z"
   },
   {
    "duration": 3,
    "start_time": "2023-03-25T11:23:26.426Z"
   },
   {
    "duration": 82,
    "start_time": "2023-03-25T11:23:26.430Z"
   },
   {
    "duration": 10,
    "start_time": "2023-03-25T11:23:26.514Z"
   },
   {
    "duration": 15,
    "start_time": "2023-03-25T11:23:26.526Z"
   },
   {
    "duration": 16,
    "start_time": "2023-03-25T11:23:26.543Z"
   },
   {
    "duration": 13,
    "start_time": "2023-03-25T11:23:26.561Z"
   },
   {
    "duration": 10,
    "start_time": "2023-03-25T11:23:26.575Z"
   },
   {
    "duration": 4,
    "start_time": "2023-03-25T11:23:26.587Z"
   },
   {
    "duration": 325,
    "start_time": "2023-03-25T11:23:26.594Z"
   },
   {
    "duration": 4,
    "start_time": "2023-03-25T11:23:26.921Z"
   },
   {
    "duration": 19,
    "start_time": "2023-03-25T11:23:26.926Z"
   },
   {
    "duration": 8,
    "start_time": "2023-03-25T11:23:26.948Z"
   },
   {
    "duration": 23,
    "start_time": "2023-03-25T11:23:26.958Z"
   },
   {
    "duration": 8,
    "start_time": "2023-03-25T11:23:26.983Z"
   },
   {
    "duration": 10,
    "start_time": "2023-03-25T11:23:26.992Z"
   },
   {
    "duration": 8,
    "start_time": "2023-03-25T11:23:27.004Z"
   },
   {
    "duration": 29,
    "start_time": "2023-03-25T11:23:27.013Z"
   },
   {
    "duration": 18,
    "start_time": "2023-03-25T11:23:27.043Z"
   },
   {
    "duration": 200,
    "start_time": "2023-03-25T11:23:27.063Z"
   },
   {
    "duration": 202,
    "start_time": "2023-03-25T11:23:27.265Z"
   },
   {
    "duration": 140,
    "start_time": "2023-03-25T11:23:27.469Z"
   },
   {
    "duration": 12,
    "start_time": "2023-03-25T11:23:27.611Z"
   },
   {
    "duration": 328,
    "start_time": "2023-03-25T11:23:27.625Z"
   },
   {
    "duration": 252,
    "start_time": "2023-03-25T11:23:27.956Z"
   },
   {
    "duration": 378,
    "start_time": "2023-03-25T11:23:28.210Z"
   },
   {
    "duration": 326,
    "start_time": "2023-03-25T11:23:28.590Z"
   },
   {
    "duration": 424,
    "start_time": "2023-03-25T11:23:28.920Z"
   },
   {
    "duration": 184,
    "start_time": "2023-03-25T11:23:29.346Z"
   },
   {
    "duration": 169,
    "start_time": "2023-03-25T11:23:29.532Z"
   },
   {
    "duration": 181,
    "start_time": "2023-03-25T11:23:29.704Z"
   },
   {
    "duration": 7,
    "start_time": "2023-03-25T11:23:29.887Z"
   },
   {
    "duration": 86,
    "start_time": "2023-03-25T11:23:29.895Z"
   },
   {
    "duration": 17,
    "start_time": "2023-03-25T11:23:29.982Z"
   },
   {
    "duration": 6,
    "start_time": "2023-03-25T11:23:30.001Z"
   },
   {
    "duration": 169,
    "start_time": "2023-03-25T11:23:30.009Z"
   },
   {
    "duration": 11,
    "start_time": "2023-03-25T11:23:30.180Z"
   },
   {
    "duration": 23,
    "start_time": "2023-03-25T11:23:30.193Z"
   },
   {
    "duration": 43,
    "start_time": "2023-03-25T11:23:30.217Z"
   },
   {
    "duration": 113,
    "start_time": "2023-03-25T11:23:30.262Z"
   },
   {
    "duration": 22,
    "start_time": "2023-03-25T11:23:30.377Z"
   },
   {
    "duration": 150,
    "start_time": "2023-03-25T11:23:30.400Z"
   },
   {
    "duration": 0,
    "start_time": "2023-03-25T11:23:30.552Z"
   },
   {
    "duration": 0,
    "start_time": "2023-03-25T11:23:30.554Z"
   },
   {
    "duration": 10,
    "start_time": "2023-03-25T11:24:13.115Z"
   },
   {
    "duration": 23,
    "start_time": "2023-03-25T11:24:18.155Z"
   },
   {
    "duration": 91,
    "start_time": "2023-03-25T11:27:41.672Z"
   },
   {
    "duration": 90,
    "start_time": "2023-03-25T11:31:58.783Z"
   },
   {
    "duration": 71,
    "start_time": "2023-03-25T11:34:25.689Z"
   },
   {
    "duration": 14,
    "start_time": "2023-03-25T11:35:27.921Z"
   },
   {
    "duration": 1203,
    "start_time": "2023-03-25T11:37:34.909Z"
   },
   {
    "duration": 3,
    "start_time": "2023-03-25T11:37:36.114Z"
   },
   {
    "duration": 78,
    "start_time": "2023-03-25T11:37:36.118Z"
   },
   {
    "duration": 11,
    "start_time": "2023-03-25T11:37:36.198Z"
   },
   {
    "duration": 11,
    "start_time": "2023-03-25T11:37:36.211Z"
   },
   {
    "duration": 17,
    "start_time": "2023-03-25T11:37:36.224Z"
   },
   {
    "duration": 28,
    "start_time": "2023-03-25T11:37:36.243Z"
   },
   {
    "duration": 25,
    "start_time": "2023-03-25T11:37:36.273Z"
   },
   {
    "duration": 8,
    "start_time": "2023-03-25T11:37:36.299Z"
   },
   {
    "duration": 285,
    "start_time": "2023-03-25T11:37:36.309Z"
   },
   {
    "duration": 5,
    "start_time": "2023-03-25T11:37:36.595Z"
   },
   {
    "duration": 12,
    "start_time": "2023-03-25T11:37:36.601Z"
   },
   {
    "duration": 5,
    "start_time": "2023-03-25T11:37:36.614Z"
   },
   {
    "duration": 26,
    "start_time": "2023-03-25T11:37:36.621Z"
   },
   {
    "duration": 6,
    "start_time": "2023-03-25T11:37:36.649Z"
   },
   {
    "duration": 11,
    "start_time": "2023-03-25T11:37:36.656Z"
   },
   {
    "duration": 17,
    "start_time": "2023-03-25T11:37:36.668Z"
   },
   {
    "duration": 24,
    "start_time": "2023-03-25T11:37:36.687Z"
   },
   {
    "duration": 10,
    "start_time": "2023-03-25T11:37:36.712Z"
   },
   {
    "duration": 198,
    "start_time": "2023-03-25T11:37:36.724Z"
   },
   {
    "duration": 190,
    "start_time": "2023-03-25T11:37:36.924Z"
   },
   {
    "duration": 142,
    "start_time": "2023-03-25T11:37:37.116Z"
   },
   {
    "duration": 14,
    "start_time": "2023-03-25T11:37:37.260Z"
   },
   {
    "duration": 323,
    "start_time": "2023-03-25T11:37:37.276Z"
   },
   {
    "duration": 219,
    "start_time": "2023-03-25T11:37:37.600Z"
   },
   {
    "duration": 320,
    "start_time": "2023-03-25T11:37:37.822Z"
   },
   {
    "duration": 218,
    "start_time": "2023-03-25T11:37:38.144Z"
   },
   {
    "duration": 322,
    "start_time": "2023-03-25T11:37:38.365Z"
   },
   {
    "duration": 176,
    "start_time": "2023-03-25T11:37:38.689Z"
   },
   {
    "duration": 197,
    "start_time": "2023-03-25T11:37:38.867Z"
   },
   {
    "duration": 178,
    "start_time": "2023-03-25T11:37:39.065Z"
   },
   {
    "duration": 7,
    "start_time": "2023-03-25T11:37:39.245Z"
   },
   {
    "duration": 10,
    "start_time": "2023-03-25T11:37:39.253Z"
   },
   {
    "duration": 4,
    "start_time": "2023-03-25T11:37:39.265Z"
   },
   {
    "duration": 6,
    "start_time": "2023-03-25T11:37:39.270Z"
   },
   {
    "duration": 144,
    "start_time": "2023-03-25T11:37:39.278Z"
   },
   {
    "duration": 18,
    "start_time": "2023-03-25T11:37:39.424Z"
   },
   {
    "duration": 5,
    "start_time": "2023-03-25T11:37:39.444Z"
   },
   {
    "duration": 117,
    "start_time": "2023-03-25T11:37:39.450Z"
   },
   {
    "duration": 10,
    "start_time": "2023-03-25T11:37:39.569Z"
   },
   {
    "duration": 8,
    "start_time": "2023-03-25T11:37:39.580Z"
   },
   {
    "duration": 28,
    "start_time": "2023-03-25T11:37:39.590Z"
   },
   {
    "duration": 14,
    "start_time": "2023-03-25T11:37:39.640Z"
   },
   {
    "duration": 2087,
    "start_time": "2023-03-25T21:56:55.962Z"
   },
   {
    "duration": 4,
    "start_time": "2023-03-25T21:56:58.052Z"
   },
   {
    "duration": 132,
    "start_time": "2023-03-25T21:56:58.058Z"
   },
   {
    "duration": 13,
    "start_time": "2023-03-25T21:56:58.219Z"
   },
   {
    "duration": 27,
    "start_time": "2023-03-25T21:56:58.234Z"
   },
   {
    "duration": 61,
    "start_time": "2023-03-25T21:56:58.263Z"
   },
   {
    "duration": 18,
    "start_time": "2023-03-25T21:56:58.326Z"
   },
   {
    "duration": 72,
    "start_time": "2023-03-25T21:56:58.347Z"
   },
   {
    "duration": 9,
    "start_time": "2023-03-25T21:56:58.421Z"
   },
   {
    "duration": 626,
    "start_time": "2023-03-25T21:56:58.433Z"
   },
   {
    "duration": 59,
    "start_time": "2023-03-25T21:56:59.061Z"
   },
   {
    "duration": 24,
    "start_time": "2023-03-25T21:56:59.123Z"
   },
   {
    "duration": 15,
    "start_time": "2023-03-25T21:56:59.149Z"
   },
   {
    "duration": 6,
    "start_time": "2023-03-25T21:56:59.218Z"
   },
   {
    "duration": 11,
    "start_time": "2023-03-25T21:56:59.225Z"
   },
   {
    "duration": 14,
    "start_time": "2023-03-25T21:56:59.237Z"
   },
   {
    "duration": 74,
    "start_time": "2023-03-25T21:56:59.253Z"
   },
   {
    "duration": 24,
    "start_time": "2023-03-25T21:56:59.329Z"
   },
   {
    "duration": 69,
    "start_time": "2023-03-25T21:56:59.355Z"
   },
   {
    "duration": 419,
    "start_time": "2023-03-25T21:56:59.426Z"
   },
   {
    "duration": 417,
    "start_time": "2023-03-25T21:56:59.847Z"
   },
   {
    "duration": 236,
    "start_time": "2023-03-25T21:57:00.318Z"
   },
   {
    "duration": 71,
    "start_time": "2023-03-25T21:57:00.556Z"
   },
   {
    "duration": 713,
    "start_time": "2023-03-25T21:57:00.629Z"
   },
   {
    "duration": 486,
    "start_time": "2023-03-25T21:57:01.344Z"
   },
   {
    "duration": 595,
    "start_time": "2023-03-25T21:57:01.832Z"
   },
   {
    "duration": 529,
    "start_time": "2023-03-25T21:57:02.430Z"
   },
   {
    "duration": 596,
    "start_time": "2023-03-25T21:57:02.963Z"
   },
   {
    "duration": 373,
    "start_time": "2023-03-25T21:57:03.561Z"
   },
   {
    "duration": 319,
    "start_time": "2023-03-25T21:57:03.936Z"
   },
   {
    "duration": 390,
    "start_time": "2023-03-25T21:57:04.257Z"
   },
   {
    "duration": 8,
    "start_time": "2023-03-25T21:57:04.649Z"
   },
   {
    "duration": 76,
    "start_time": "2023-03-25T21:57:04.658Z"
   },
   {
    "duration": 12,
    "start_time": "2023-03-25T21:57:04.736Z"
   },
   {
    "duration": 11,
    "start_time": "2023-03-25T21:57:04.750Z"
   },
   {
    "duration": 356,
    "start_time": "2023-03-25T21:57:04.763Z"
   },
   {
    "duration": 12,
    "start_time": "2023-03-25T21:57:05.121Z"
   },
   {
    "duration": 20,
    "start_time": "2023-03-25T21:57:05.135Z"
   },
   {
    "duration": 264,
    "start_time": "2023-03-25T21:57:05.157Z"
   },
   {
    "duration": 13,
    "start_time": "2023-03-25T21:57:05.422Z"
   },
   {
    "duration": 18,
    "start_time": "2023-03-25T21:57:05.437Z"
   },
   {
    "duration": 84,
    "start_time": "2023-03-25T21:57:05.457Z"
   },
   {
    "duration": 76,
    "start_time": "2023-03-25T21:57:05.543Z"
   },
   {
    "duration": 45,
    "start_time": "2023-03-26T08:53:42.836Z"
   },
   {
    "duration": 1205,
    "start_time": "2023-03-26T08:53:45.775Z"
   },
   {
    "duration": 2,
    "start_time": "2023-03-26T08:53:46.982Z"
   },
   {
    "duration": 235,
    "start_time": "2023-03-26T08:53:46.985Z"
   },
   {
    "duration": 11,
    "start_time": "2023-03-26T08:53:47.223Z"
   },
   {
    "duration": 9,
    "start_time": "2023-03-26T08:53:47.236Z"
   },
   {
    "duration": 9,
    "start_time": "2023-03-26T08:53:47.247Z"
   },
   {
    "duration": 11,
    "start_time": "2023-03-26T08:53:47.257Z"
   },
   {
    "duration": 6,
    "start_time": "2023-03-26T08:53:47.269Z"
   },
   {
    "duration": 3,
    "start_time": "2023-03-26T08:53:47.276Z"
   },
   {
    "duration": 247,
    "start_time": "2023-03-26T08:53:47.281Z"
   },
   {
    "duration": 4,
    "start_time": "2023-03-26T08:53:47.529Z"
   },
   {
    "duration": 10,
    "start_time": "2023-03-26T08:53:47.539Z"
   },
   {
    "duration": 14,
    "start_time": "2023-03-26T08:53:47.550Z"
   },
   {
    "duration": 4,
    "start_time": "2023-03-26T08:53:47.566Z"
   },
   {
    "duration": 8,
    "start_time": "2023-03-26T08:53:47.571Z"
   },
   {
    "duration": 10,
    "start_time": "2023-03-26T08:53:47.580Z"
   },
   {
    "duration": 8,
    "start_time": "2023-03-26T08:53:47.592Z"
   },
   {
    "duration": 35,
    "start_time": "2023-03-26T08:53:47.601Z"
   },
   {
    "duration": 10,
    "start_time": "2023-03-26T08:53:47.637Z"
   },
   {
    "duration": 163,
    "start_time": "2023-03-26T08:53:47.648Z"
   },
   {
    "duration": 169,
    "start_time": "2023-03-26T08:53:47.812Z"
   },
   {
    "duration": 117,
    "start_time": "2023-03-26T08:53:47.982Z"
   },
   {
    "duration": 10,
    "start_time": "2023-03-26T08:53:48.101Z"
   },
   {
    "duration": 277,
    "start_time": "2023-03-26T08:53:48.113Z"
   },
   {
    "duration": 196,
    "start_time": "2023-03-26T08:53:48.392Z"
   },
   {
    "duration": 362,
    "start_time": "2023-03-26T08:53:48.590Z"
   },
   {
    "duration": 203,
    "start_time": "2023-03-26T08:53:48.953Z"
   },
   {
    "duration": 327,
    "start_time": "2023-03-26T08:53:49.159Z"
   },
   {
    "duration": 163,
    "start_time": "2023-03-26T08:53:49.488Z"
   },
   {
    "duration": 139,
    "start_time": "2023-03-26T08:53:49.652Z"
   },
   {
    "duration": 156,
    "start_time": "2023-03-26T08:53:49.792Z"
   },
   {
    "duration": 6,
    "start_time": "2023-03-26T08:53:49.949Z"
   },
   {
    "duration": 6,
    "start_time": "2023-03-26T08:53:49.956Z"
   },
   {
    "duration": 3,
    "start_time": "2023-03-26T08:53:49.963Z"
   },
   {
    "duration": 6,
    "start_time": "2023-03-26T08:53:49.967Z"
   },
   {
    "duration": 131,
    "start_time": "2023-03-26T08:53:49.974Z"
   },
   {
    "duration": 8,
    "start_time": "2023-03-26T08:53:50.106Z"
   },
   {
    "duration": 3,
    "start_time": "2023-03-26T08:53:50.116Z"
   },
   {
    "duration": 84,
    "start_time": "2023-03-26T08:53:50.120Z"
   },
   {
    "duration": 9,
    "start_time": "2023-03-26T08:53:50.206Z"
   },
   {
    "duration": 26,
    "start_time": "2023-03-26T08:53:50.216Z"
   },
   {
    "duration": 18,
    "start_time": "2023-03-26T08:53:50.244Z"
   },
   {
    "duration": 10,
    "start_time": "2023-03-26T08:53:50.264Z"
   },
   {
    "duration": 3,
    "start_time": "2023-03-26T08:54:34.697Z"
   },
   {
    "duration": 65,
    "start_time": "2023-03-26T08:55:18.406Z"
   },
   {
    "duration": 74,
    "start_time": "2023-03-26T08:55:40.724Z"
   },
   {
    "duration": 345,
    "start_time": "2023-03-26T08:56:18.907Z"
   },
   {
    "duration": 76,
    "start_time": "2023-03-26T08:57:49.337Z"
   },
   {
    "duration": 68,
    "start_time": "2023-03-26T09:00:08.621Z"
   },
   {
    "duration": 994,
    "start_time": "2023-03-26T09:02:28.468Z"
   },
   {
    "duration": 3,
    "start_time": "2023-03-26T09:02:29.464Z"
   },
   {
    "duration": 81,
    "start_time": "2023-03-26T09:02:29.468Z"
   },
   {
    "duration": 11,
    "start_time": "2023-03-26T09:02:29.551Z"
   },
   {
    "duration": 11,
    "start_time": "2023-03-26T09:02:29.564Z"
   },
   {
    "duration": 11,
    "start_time": "2023-03-26T09:02:29.576Z"
   },
   {
    "duration": 9,
    "start_time": "2023-03-26T09:02:29.588Z"
   },
   {
    "duration": 7,
    "start_time": "2023-03-26T09:02:29.598Z"
   },
   {
    "duration": 4,
    "start_time": "2023-03-26T09:02:29.606Z"
   },
   {
    "duration": 260,
    "start_time": "2023-03-26T09:02:29.612Z"
   },
   {
    "duration": 4,
    "start_time": "2023-03-26T09:02:29.874Z"
   },
   {
    "duration": 10,
    "start_time": "2023-03-26T09:02:29.880Z"
   },
   {
    "duration": 6,
    "start_time": "2023-03-26T09:02:29.891Z"
   },
   {
    "duration": 6,
    "start_time": "2023-03-26T09:02:29.898Z"
   },
   {
    "duration": 8,
    "start_time": "2023-03-26T09:02:29.905Z"
   },
   {
    "duration": 30,
    "start_time": "2023-03-26T09:02:29.914Z"
   },
   {
    "duration": 9,
    "start_time": "2023-03-26T09:02:29.946Z"
   },
   {
    "duration": 15,
    "start_time": "2023-03-26T09:02:29.957Z"
   },
   {
    "duration": 12,
    "start_time": "2023-03-26T09:02:29.974Z"
   },
   {
    "duration": 193,
    "start_time": "2023-03-26T09:02:29.988Z"
   },
   {
    "duration": 177,
    "start_time": "2023-03-26T09:02:30.183Z"
   },
   {
    "duration": 130,
    "start_time": "2023-03-26T09:02:30.361Z"
   },
   {
    "duration": 13,
    "start_time": "2023-03-26T09:02:30.493Z"
   },
   {
    "duration": 323,
    "start_time": "2023-03-26T09:02:30.508Z"
   },
   {
    "duration": 231,
    "start_time": "2023-03-26T09:02:30.833Z"
   },
   {
    "duration": 264,
    "start_time": "2023-03-26T09:02:31.066Z"
   },
   {
    "duration": 246,
    "start_time": "2023-03-26T09:02:31.332Z"
   },
   {
    "duration": 331,
    "start_time": "2023-03-26T09:02:31.582Z"
   },
   {
    "duration": 201,
    "start_time": "2023-03-26T09:02:31.915Z"
   },
   {
    "duration": 182,
    "start_time": "2023-03-26T09:02:32.139Z"
   },
   {
    "duration": 156,
    "start_time": "2023-03-26T09:02:32.322Z"
   },
   {
    "duration": 7,
    "start_time": "2023-03-26T09:02:32.479Z"
   },
   {
    "duration": 4,
    "start_time": "2023-03-26T09:02:32.487Z"
   },
   {
    "duration": 4,
    "start_time": "2023-03-26T09:02:32.492Z"
   },
   {
    "duration": 7,
    "start_time": "2023-03-26T09:02:32.498Z"
   },
   {
    "duration": 156,
    "start_time": "2023-03-26T09:02:32.506Z"
   },
   {
    "duration": 9,
    "start_time": "2023-03-26T09:02:32.664Z"
   },
   {
    "duration": 4,
    "start_time": "2023-03-26T09:02:32.675Z"
   },
   {
    "duration": 88,
    "start_time": "2023-03-26T09:02:32.681Z"
   },
   {
    "duration": 9,
    "start_time": "2023-03-26T09:02:32.770Z"
   },
   {
    "duration": 8,
    "start_time": "2023-03-26T09:02:32.781Z"
   },
   {
    "duration": 22,
    "start_time": "2023-03-26T09:02:32.790Z"
   },
   {
    "duration": 35,
    "start_time": "2023-03-26T09:02:32.813Z"
   }
  ],
  "kernelspec": {
   "display_name": "Python 3 (ipykernel)",
   "language": "python",
   "name": "python3"
  },
  "language_info": {
   "codemirror_mode": {
    "name": "ipython",
    "version": 3
   },
   "file_extension": ".py",
   "mimetype": "text/x-python",
   "name": "python",
   "nbconvert_exporter": "python",
   "pygments_lexer": "ipython3",
   "version": "3.9.5"
  },
  "toc": {
   "base_numbering": 1,
   "nav_menu": {},
   "number_sections": true,
   "sideBar": true,
   "skip_h1_title": true,
   "title_cell": "Table of Contents",
   "title_sidebar": "Contents",
   "toc_cell": false,
   "toc_position": {},
   "toc_section_display": true,
   "toc_window_display": false
  }
 },
 "nbformat": 4,
 "nbformat_minor": 2
}
